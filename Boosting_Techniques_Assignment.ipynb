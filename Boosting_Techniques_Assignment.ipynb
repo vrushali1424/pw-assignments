{
  "cells": [
    {
      "cell_type": "markdown",
      "id": "ea60dc8f",
      "metadata": {
        "id": "ea60dc8f"
      },
      "source": [
        "\n",
        "### Question 1: What is Boosting in Machine Learning? Explain how it improves weak learners.\n",
        "**Answer:**  \n",
        "Boosting is an ensemble learning technique that combines multiple weak learners (typically decision trees) to form a strong predictive model.  \n",
        "Each new model focuses on the errors made by the previous models and gives higher weights to misclassified examples.  \n",
        "By iteratively improving on the mistakes of earlier models, Boosting reduces both bias and variance, leading to better generalization performance.  \n"
      ]
    },
    {
      "cell_type": "markdown",
      "id": "dccfb4a7",
      "metadata": {
        "id": "dccfb4a7"
      },
      "source": [
        "\n",
        "### Question 2: What is the difference between AdaBoost and Gradient Boosting in terms of how models are trained?\n",
        "**Answer:**  \n",
        "- **AdaBoost:** Adjusts the weights of misclassified samples after each iteration. Each weak learner is trained to correct the errors of its predecessor.  \n",
        "- **Gradient Boosting:** Fits new models to the residual errors (gradients) of the previous model by optimizing a differentiable loss function.  \n",
        "Thus, AdaBoost focuses on reweighting data points, while Gradient Boosting focuses on gradient optimization.  \n"
      ]
    },
    {
      "cell_type": "markdown",
      "id": "d033dd56",
      "metadata": {
        "id": "d033dd56"
      },
      "source": [
        "\n",
        "### Question 3: How does regularization help in XGBoost?\n",
        "**Answer:**  \n",
        "Regularization in XGBoost (using L1 and L2 penalties) helps prevent overfitting by penalizing complex models.  \n",
        "- **L1 (Lasso)** encourages sparsity in weights (feature selection).  \n",
        "- **L2 (Ridge)** discourages large weight values.  \n",
        "This keeps the model simpler, more generalizable, and improves predictive performance.  \n"
      ]
    },
    {
      "cell_type": "markdown",
      "id": "54cd2db7",
      "metadata": {
        "id": "54cd2db7"
      },
      "source": [
        "\n",
        "### Question 4: Why is CatBoost considered efficient for handling categorical data?\n",
        "**Answer:**  \n",
        "CatBoost efficiently handles categorical features using **ordered target statistics**, which prevents target leakage.  \n",
        "It also automates encoding without manual preprocessing (like one-hot encoding).  \n",
        "Additionally, it uses **ordered boosting** to reduce overfitting and improve accuracy.  \n"
      ]
    },
    {
      "cell_type": "markdown",
      "id": "a4cd868c",
      "metadata": {
        "id": "a4cd868c"
      },
      "source": [
        "\n",
        "### Question 5: What are some real-world applications where boosting techniques are preferred over bagging methods?\n",
        "**Answer:**  \n",
        "Boosting techniques are preferred in:  \n",
        "- **Credit scoring & loan default prediction** (high accuracy, handles imbalanced data)  \n",
        "- **Fraud detection** (detect rare events)  \n",
        "- **Customer churn prediction**  \n",
        "- **Medical diagnosis**  \n",
        "- **Online recommendation systems**  \n",
        "Because Boosting focuses on difficult samples, it often outperforms bagging methods in predictive accuracy.  \n"
      ]
    },
    {
      "cell_type": "markdown",
      "id": "12bb1304",
      "metadata": {
        "id": "12bb1304"
      },
      "source": [
        "\n",
        "### Question 6:  \n",
        "Train an AdaBoost Classifier on the Breast Cancer dataset and print model accuracy.\n"
      ]
    },
    {
      "cell_type": "code",
      "execution_count": 1,
      "id": "fd6523bd",
      "metadata": {
        "colab": {
          "base_uri": "https://localhost:8080/"
        },
        "id": "fd6523bd",
        "outputId": "6b05a251-aa08-4686-bd90-cb25da1e8488"
      },
      "outputs": [
        {
          "output_type": "stream",
          "name": "stdout",
          "text": [
            "Accuracy: 0.9707602339181286\n"
          ]
        }
      ],
      "source": [
        "\n",
        "from sklearn.datasets import load_breast_cancer\n",
        "from sklearn.ensemble import AdaBoostClassifier\n",
        "from sklearn.model_selection import train_test_split\n",
        "from sklearn.metrics import accuracy_score\n",
        "\n",
        "# Load dataset\n",
        "data = load_breast_cancer()\n",
        "X, y = data.data, data.target\n",
        "\n",
        "# Split data\n",
        "X_train, X_test, y_train, y_test = train_test_split(X, y, test_size=0.3, random_state=42)\n",
        "\n",
        "# Train AdaBoost Classifier\n",
        "model = AdaBoostClassifier(n_estimators=100, random_state=42)\n",
        "model.fit(X_train, y_train)\n",
        "\n",
        "# Evaluate\n",
        "y_pred = model.predict(X_test)\n",
        "print(\"Accuracy:\", accuracy_score(y_test, y_pred))\n"
      ]
    },
    {
      "cell_type": "markdown",
      "id": "beb5e90f",
      "metadata": {
        "id": "beb5e90f"
      },
      "source": [
        "\n",
        "### Question 7:  \n",
        "Train a Gradient Boosting Regressor on the California Housing dataset and evaluate R-squared.\n"
      ]
    },
    {
      "cell_type": "code",
      "execution_count": 2,
      "id": "4815775b",
      "metadata": {
        "colab": {
          "base_uri": "https://localhost:8080/"
        },
        "id": "4815775b",
        "outputId": "0744742c-94ac-48df-d679-1020f3cf9793"
      },
      "outputs": [
        {
          "output_type": "stream",
          "name": "stdout",
          "text": [
            "R-squared Score: 0.7803012822391022\n"
          ]
        }
      ],
      "source": [
        "\n",
        "from sklearn.datasets import fetch_california_housing\n",
        "from sklearn.ensemble import GradientBoostingRegressor\n",
        "from sklearn.metrics import r2_score\n",
        "\n",
        "# Load dataset\n",
        "housing = fetch_california_housing()\n",
        "X, y = housing.data, housing.target\n",
        "\n",
        "# Split data\n",
        "X_train, X_test, y_train, y_test = train_test_split(X, y, test_size=0.3, random_state=42)\n",
        "\n",
        "# Train model\n",
        "gbr = GradientBoostingRegressor(n_estimators=100, random_state=42)\n",
        "gbr.fit(X_train, y_train)\n",
        "\n",
        "# Evaluate\n",
        "y_pred = gbr.predict(X_test)\n",
        "print(\"R-squared Score:\", r2_score(y_test, y_pred))\n"
      ]
    },
    {
      "cell_type": "markdown",
      "id": "4ffa86b5",
      "metadata": {
        "id": "4ffa86b5"
      },
      "source": [
        "\n",
        "### Question 8:  \n",
        "Train an XGBoost Classifier on the Breast Cancer dataset, tune learning rate using GridSearchCV, and print best parameters and accuracy.\n"
      ]
    },
    {
      "cell_type": "code",
      "execution_count": 6,
      "id": "97a1c593",
      "metadata": {
        "colab": {
          "base_uri": "https://localhost:8080/"
        },
        "id": "97a1c593",
        "outputId": "b4e46cdf-12f9-47ca-d3a7-138080d56664"
      },
      "outputs": [
        {
          "output_type": "stream",
          "name": "stdout",
          "text": [
            "Best Parameters: {'learning_rate': 0.05}\n",
            "Accuracy: 0.9649122807017544\n"
          ]
        }
      ],
      "source": [
        "from xgboost import XGBClassifier\n",
        "from sklearn.model_selection import GridSearchCV\n",
        "from sklearn.datasets import load_breast_cancer\n",
        "from sklearn.model_selection import train_test_split\n",
        "from sklearn.metrics import accuracy_score\n",
        "\n",
        "# Load dataset\n",
        "data = load_breast_cancer()\n",
        "X, y = data.data, data.target\n",
        "\n",
        "# Split data\n",
        "X_train, X_test, y_train, y_test = train_test_split(X, y, test_size=0.3, random_state=42)\n",
        "\n",
        "# Define model and parameters\n",
        "xgb = XGBClassifier(eval_metric='logloss', random_state=42)\n",
        "params = {'learning_rate': [0.01, 0.05, 0.1, 0.2]}\n",
        "\n",
        "# GridSearch\n",
        "grid = GridSearchCV(xgb, params, cv=3, scoring='accuracy')\n",
        "grid.fit(X_train, y_train)\n",
        "\n",
        "# Best model\n",
        "best_model = grid.best_estimator_\n",
        "print(\"Best Parameters:\", grid.best_params_)\n",
        "print(\"Accuracy:\", accuracy_score(y_test, best_model.predict(X_test)))"
      ]
    },
    {
      "cell_type": "markdown",
      "id": "8833854b",
      "metadata": {
        "id": "8833854b"
      },
      "source": [
        "\n",
        "### Question 9:  \n",
        "Train a CatBoost Classifier and plot the confusion matrix using seaborn.\n"
      ]
    },
    {
      "cell_type": "code",
      "execution_count": 9,
      "id": "5ed7a952",
      "metadata": {
        "colab": {
          "base_uri": "https://localhost:8080/",
          "height": 472
        },
        "id": "5ed7a952",
        "outputId": "80a6b1fb-3c54-40aa-93e4-92f81e1afee2"
      },
      "outputs": [
        {
          "output_type": "display_data",
          "data": {
            "text/plain": [
              "<Figure size 640x480 with 2 Axes>"
            ],
            "image/png": "[encoded data removed]"
          },
          "metadata": {}
        }
      ],
      "source": [
        "\n",
        "from catboost import CatBoostClassifier\n",
        "import seaborn as sns\n",
        "import matplotlib.pyplot as plt\n",
        "from sklearn.metrics import confusion_matrix\n",
        "\n",
        "# Train CatBoost\n",
        "cat_model = CatBoostClassifier(verbose=0, random_state=42)\n",
        "cat_model.fit(X_train, y_train)\n",
        "\n",
        "# Predictions\n",
        "y_pred = cat_model.predict(X_test)\n",
        "\n",
        "# Confusion matrix\n",
        "cm = confusion_matrix(y_test, y_pred)\n",
        "sns.heatmap(cm, annot=True, fmt='d', cmap='Blues')\n",
        "plt.title(\"CatBoost Confusion Matrix\")\n",
        "plt.xlabel(\"Predicted\")\n",
        "plt.ylabel(\"Actual\")\n",
        "plt.show()\n"
      ]
    },
    {
      "cell_type": "markdown",
      "id": "4be2fff1",
      "metadata": {
        "id": "4be2fff1"
      },
      "source": [
        "\n",
        "### Question 10:  \n",
        "You're working for a FinTech company predicting loan default using demographics and transaction behavior.\n",
        "\n",
        "**Answer:**  \n",
        "**Step-by-step pipeline:**  \n",
        "1. **Data Preprocessing:** Handle missing values using median/mode imputation; encode categorical data (CatBoost handles it automatically).  \n",
        "2. **Model Choice:** CatBoost preferred due to categorical features and imbalanced data.  \n",
        "3. **Hyperparameter Tuning:** Use GridSearchCV or RandomizedSearchCV for learning rate, depth, and iterations.  \n",
        "4. **Evaluation Metrics:** F1-score, AUC-ROC, and precision-recall are best for imbalanced data.  \n",
        "5. **Business Impact:** Boosting improves default prediction accuracy, reduces credit risk, and supports better lending decisions.  \n"
      ]
    }
  ],
  "metadata": {
    "colab": {
      "provenance": []
    },
    "language_info": {
      "name": "python"
    },
    "kernelspec": {
      "name": "python3",
      "display_name": "Python 3"
    }
  },
  "nbformat": 4,
  "nbformat_minor": 5
}