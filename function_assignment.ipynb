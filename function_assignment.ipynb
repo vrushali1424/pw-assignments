{
  "nbformat": 4,
  "nbformat_minor": 0,
  "metadata": {
    "colab": {
      "provenance": []
    },
    "kernelspec": {
      "name": "python3",
      "display_name": "Python 3"
    },
    "language_info": {
      "name": "python"
    }
  },
  "cells": [
    {
      "cell_type": "markdown",
      "source": [
        " # 1.What is the difference between a function and a method in Python?\n"
      ],
      "metadata": {
        "id": "1cDvrt9rSqg7"
      }
    },
    {
      "cell_type": "markdown",
      "source": [
        "* A function is a block of code that performs a specific task. It is defined using the def keyword and can be called independently using its name.\n",
        "\n",
        "```\n",
        "def greet():\n",
        "    print(\"Hello!\")\n",
        "greet()\n",
        "```\n",
        "* A method is a function that is associated with an object. It is called on that object using dot notation and can operate on the data within the object.\n",
        "```\n",
        "text = \"hello\"\n",
        "print(text.upper())  # upper() is a method of the string object\n",
        "```\n",
        "\n",
        "| Feature      | Function                  | Method                                  |\n",
        "| ------------ | ------------------------- | --------------------------------------- |\n",
        "| Called on    | Independently             | On an object (e.g., string, list, etc.) |\n",
        "| Defined with | `def` keyword or `lambda` | As part of a class                      |\n",
        "| Example      | `print(len(\"hello\"))`     | `\"hello\".upper()`                       |\n"
      ],
      "metadata": {
        "id": "P2fhOoO2TKgs"
      }
    },
    {
      "cell_type": "markdown",
      "source": [
        "#2. Explain the concept of function arguments and parameters in Python?\n"
      ],
      "metadata": {
        "id": "TQmpwyRmTi9k"
      }
    },
    {
      "cell_type": "markdown",
      "source": [
        "* Parameters are the variable names listed in a function definition.\n",
        "\n",
        "* Arguments are the actual values passed to the function when it is called.\n",
        "\n",
        "In simple terms:\n",
        "\n",
        "Parameters = what the function expects\n",
        "\n",
        "Arguments = what you actually give it\n",
        "\n",
        "```\n",
        "def add(a, b):   # a and b are parameters\n",
        "    return a + b\n",
        "\n",
        "result = add(3, 5)  # 3 and 5 are arguments\n",
        "print(result)       # Output: 8\n",
        "```\n"
      ],
      "metadata": {
        "id": "9ixGQ2PJTnb3"
      }
    },
    {
      "cell_type": "markdown",
      "source": [
        "# 3. What are the different ways to define and call a function in Python?\n",
        "\n",
        " 1. Using the def keyword (Standard Function)\n",
        "\n",
        " Definition:\n",
        "\n",
        "```\n",
        "def greet():\n",
        "    print(\"Hello!\")\n",
        "```    \n",
        "Calling:\n",
        "```\n",
        "greet()  # Output: Hello!\n",
        "```\n",
        "\n",
        "2. With Parameters and Return Value\n",
        "\n",
        "Definition:\n",
        "```\n",
        "def add(a, b):\n",
        "    return a + b\n",
        "```\n",
        "Calling:\n",
        "```\n",
        "result = add(3, 5)\n",
        "print(result)  # Output: 8\n",
        "```\n",
        "\n",
        "3. Using Lambda (Anonymous Function)\n",
        "\n",
        "Definition and Calling:\n",
        "\n",
        "```\n",
        "multiply = lambda x, y: x * y\n",
        "print(multiply(4, 5))  # Output: 20\n",
        "```\n",
        "4. Calling Function Using Keyword Arguments\n",
        "\n",
        "Definition:\n",
        "\n",
        "```\n",
        "def student(name, age):\n",
        "    print(f\"Name: {name}, Age: {age}\")\n",
        "```\n",
        "\n",
        "Calling:\n",
        "```\n",
        "student(age=18, name=\"John\")  # Output: Name: John, Age: 18\n",
        "```\n",
        "5. Variable-Length Arguments\n",
        "```\n",
        "def total(*numbers):\n",
        "    return sum(numbers)\n",
        "print(total(1, 2, 3, 4))  # Output: 10\n",
        "\n",
        "```"
      ],
      "metadata": {
        "id": "KI29k1slTyz9"
      }
    },
    {
      "cell_type": "markdown",
      "source": [
        "# 4.What is the purpose of the `return` statement in a Python function?\n",
        "\n",
        "\n",
        "The return statement in Python is used to:\n",
        "\n",
        "* Exit a Function: It stops the function's execution.\n",
        "\n",
        "* Send Back a Result: It returns a value from the function to the caller.\n",
        "\n",
        "Syntax:\n",
        "```\n",
        "def add(a, b):\n",
        "    return a + b\n",
        "```\n",
        "Usage:\n",
        "```\n",
        "result = add(3, 5)\n",
        "print(result)  # Output: 8\n",
        "```\n",
        "* If no return is used, the function returns None by default.\n",
        "\n",
        "* A function can have multiple return statements (inside conditions).\n",
        "\n",
        "* You can return any data type: number, string, list, tuple, even another function."
      ],
      "metadata": {
        "id": "qIAnQdfpWDT0"
      }
    },
    {
      "cell_type": "markdown",
      "source": [
        "#5.What are iterators in Python and how do they differ from iterables?\n",
        "\n",
        " Iterable:\n",
        "\n",
        "* An iterable is any Python object that can be looped over (e.g., using a for loop).\n",
        "\n",
        "* Common iterables: list, tuple, string, set, dict.\n",
        "\n",
        "* Internally, it has an __iter__() method that returns an iterator.\n",
        "\n",
        "Iterator:\n",
        "\n",
        "* An iterator is an object that represents a stream of data.\n",
        "\n",
        "It has two main methods:\n",
        "\n",
        "__iter__() — returns the iterator object itself.\n",
        "\n",
        "__next__() — returns the next value from the sequence; raises StopIteration when no more items.\n",
        "\n",
        "Difference Between Iterable and Iterator:\n",
        "\n",
        "| Feature      | Iterable           | Iterator                          |\n",
        "| ------------ | ------------------ | --------------------------------- |\n",
        "| Definition   | Can be looped over | Used to fetch items one at a time |\n",
        "| Method       | Has `__iter__()`   | Has `__iter__()` and `__next__()` |\n",
        "| Examples     | list, tuple, str   | Object returned by `iter()`       |\n",
        "| Use in Loops | Yes                | Yes (via `next()` or loop)        |\n",
        "\n",
        "Example:\n",
        "```\n",
        "# Iterable\n",
        "nums = [10, 20, 30]\n",
        "\n",
        "# Make it an iterator\n",
        "it = iter(nums)\n",
        "\n",
        "print(next(it))  # 10\n",
        "print(next(it))  # 20\n",
        "print(next(it))  # 30\n",
        "# next(it) now would raise StopIteration\n",
        "```"
      ],
      "metadata": {
        "id": "u_XXKNDMWwsf"
      }
    },
    {
      "cell_type": "markdown",
      "source": [
        "# 6.. Explain the concept of generators in Python and how they are defined."
      ],
      "metadata": {
        "id": "4OpNbIAKXnUI"
      }
    },
    {
      "cell_type": "markdown",
      "source": [
        "What Are Generators?\n",
        "\n",
        "* A generator in Python is a type of iterator that allows you to iterate through a sequence of values one at a time using the yield keyword.\n",
        "\n",
        "* Generators do not store the entire sequence in memory. They generate values on the fly, making them memory efficient.\n",
        "\n",
        "How Are Generators Defined?\\\n",
        "Generators can be created in two main ways:\n",
        "\n",
        "1. Generator Function (using yield):\n",
        "Defined like a normal function but uses yield instead of return.\n",
        "```\n",
        "def count_up_to(n):\n",
        "    i = 1\n",
        "    while i <= n:\n",
        "        yield i\n",
        "        i += 1\n",
        "```\n",
        "Usage:\n",
        "```\n",
        "for num in count_up_to(5):\n",
        "    print(num)\n",
        "```\n",
        "2. Generator Expression:\n",
        "\n",
        "Similar to list comprehensions but uses parentheses () instead of square brackets [].\n",
        "```\n",
        "gen = (x**2 for x in range(5))\n",
        "print(next(gen))  # 0\n",
        "print(next(gen))  # 1\n",
        "```"
      ],
      "metadata": {
        "id": "Zl7qXYYDYQHZ"
      }
    },
    {
      "cell_type": "markdown",
      "source": [
        "# 7. What are the advantages of using generators over regular functions?"
      ],
      "metadata": {
        "id": "T382d84uY0cb"
      }
    },
    {
      "cell_type": "markdown",
      "source": [
        "Generators offer several key advantages over regular functions, especially when working with large data or sequences:\n",
        "\n",
        "1. Memory Efficiency\\\n",
        "Generators do not store all values in memory.\n",
        "\n",
        "They yield one value at a time, making them ideal for large datasets or infinite sequences.\n",
        "\n",
        " 2. Lazy Evaluation\\\n",
        "Generators compute values only when needed.\n",
        "\n",
        "This avoids unnecessary computations and saves time and resources.\n",
        "\n",
        "3. Easy to Implement Iterators\\\n",
        "Writing a generator with yield is much simpler than implementing an iterator class with __iter__() and __next__().\n",
        "\n",
        "```\n",
        "def countdown(n):\n",
        "    while n > 0:\n",
        "        yield n\n",
        "        n -= 1\n",
        "```\n",
        "Improved Performance\n",
        "In many cases, using a generator leads to faster execution due to on-the-fly value generation."
      ],
      "metadata": {
        "id": "gg_MT_55Y3Vb"
      }
    },
    {
      "cell_type": "markdown",
      "source": [
        "# 8.. What is a lambda function in Python and when is it typically used?"
      ],
      "metadata": {
        "id": "TJUCN7rGZTaj"
      }
    },
    {
      "cell_type": "markdown",
      "source": [
        "Definition:\\\n",
        "A lambda function is an anonymous (unnamed) function in Python defined using the lambda keyword.\\\n",
        "It can take any number of arguments, but it can only have one expression\n",
        "\n",
        "syntax:\n",
        "```\n",
        "lambda arguments: expression\n",
        "```\n",
        "When Is It Typically Used?\\\n",
        "Lambda functions are often used:\n",
        "\n",
        "1.For Short, One-Time Functions:\n",
        "\n",
        "When a function is needed temporarily, especially inside other functions like map(), filter(), or sorted().\n",
        "\n",
        "2.With Functional Tools:\n",
        "\n",
        "In map(), filter(), reduce(), and sorted() to apply logic without defining a separate def function.\n",
        "\n",
        "example:\n",
        "\n",
        "With map():\n",
        "```\n",
        "nums = [1, 2, 3]\n",
        "doubled = list(map(lambda x: x * 2, nums))\n",
        "print(doubled)  # Output: [2, 4, 6]\n",
        "\n",
        "```\n",
        "\n",
        "With sorted():\n",
        "```\n",
        "items = [(1, 'apple'), (3, 'banana'), (2, 'cherry')]\n",
        "sorted_items = sorted(items, key=lambda x: x[1])\n",
        "print(sorted_items)\n",
        "\n",
        "```\n",
        "summary table:\n",
        "\n",
        "| Feature          | Lambda Function        | Regular Function (`def`) |\n",
        "| ---------------- | ---------------------- | ------------------------ |\n",
        "| Name             | Anonymous              | Has a name               |\n",
        "| Expression count | Only one               | Multiple allowed         |\n",
        "| Use case         | Simple, short-term use | Complex logic or reuse   |\n"
      ],
      "metadata": {
        "id": "6i27RCckZZ_q"
      }
    },
    {
      "cell_type": "markdown",
      "source": [
        "# 9.Explain the purpose and usage of the `map()` function in Python.?\n",
        "\n",
        "\n",
        "Purpose:\n",
        "\n",
        "The map() function in Python is used to apply a function to every item in an iterable (like a list, tuple, etc.) and return a new map object (which is iterable).\n",
        "\n",
        "syntax:\n",
        "\n",
        "```\n",
        "map(function, iterable)\n",
        "\n",
        "```\n",
        "\n",
        "function: A function to apply to each element.\n",
        "\n",
        "iterable: A sequence (like list, tuple, etc.) to process.\n",
        "\n",
        "example:\n",
        "\n",
        "```\n",
        "numbers = [1, 2, 3, 4]\n",
        "squared = list(map(lambda x: x ** 2, numbers))\n",
        "print(squared)  # Output: [1, 4, 9, 16]\n",
        "\n",
        "```\n",
        "\n",
        "Use Cases:\\\n",
        "Transforming data: Modify all elements in a collection (e.g., convert temperatures, square numbers).\n",
        "\n",
        "Functional programming: When using anonymous functions or small operations.\n",
        "\n",
        "Another Example: Converting Celsius to Fahrenheit\n",
        "```\n",
        "celsius = [0, 20, 37, 100]\n",
        "fahrenheit = list(map(lambda c: (c * 9/5) + 32, celsius))\n",
        "print(fahrenheit)  # Output: [32.0, 68.0, 98.6, 212.0]\n",
        "\n",
        "```"
      ],
      "metadata": {
        "id": "YGLxgLgHaFRH"
      }
    },
    {
      "cell_type": "markdown",
      "source": [
        "# 10 What is the difference between `map()`, `reduce()`, and `filter()` functions in Python.\n",
        "\n",
        "| Function   | Operation Type          | Output Type  | Example Use Case                      |\n",
        "| ---------- | ----------------------- | ------------ | ------------------------------------- |\n",
        "| `map()`    | Transforms each item    | Iterable     | Convert values (e.g., square numbers) |\n",
        "| `filter()` | Filters items           | Iterable     | Select even numbers                   |\n",
        "| `reduce()` | Aggregates to one value | Single value | Find total sum, product               |\n"
      ],
      "metadata": {
        "id": "6iSp_pjwavxr"
      }
    },
    {
      "cell_type": "markdown",
      "source": [
        "# 11. Using pen & Paper write the internal mechanism for sum operation using  reduce function on this given list[47,11,42,13]\n",
        "\n",
        "ans in attached with this file."
      ],
      "metadata": {
        "id": "cNa-vJlca5Bt"
      }
    },
    {
      "cell_type": "markdown",
      "source": [
        "# *** Practical Question ***\n",
        "---\n",
        "\n"
      ],
      "metadata": {
        "id": "5eUA1VwbdjC4"
      }
    },
    {
      "cell_type": "markdown",
      "source": [
        "#1.Write a Python function that takes a list of numbers as input and returns the sum of all even numbers in the list."
      ],
      "metadata": {
        "id": "j1nv6-X3d3zg"
      }
    },
    {
      "cell_type": "code",
      "source": [
        "def sum_even_numbers():\n",
        "    numbers = list(map(int, input(\"Enter numbers separated by spaces: \").split()))\n",
        "    even_sum = sum(num for num in numbers if num % 2 == 0)\n",
        "    return even_sum\n",
        "\n",
        "# Example usage:\n",
        "result = sum_even_numbers()\n",
        "print(\"Sum of even numbers:\", result)\n"
      ],
      "metadata": {
        "colab": {
          "base_uri": "https://localhost:8080/"
        },
        "id": "HvzpkMPDeGBk",
        "outputId": "dfd82bff-d1c2-4ba6-d5a5-7ade646a76f8"
      },
      "execution_count": 4,
      "outputs": [
        {
          "output_type": "stream",
          "name": "stdout",
          "text": [
            "Enter numbers separated by spaces: 12 12 10\n",
            "Sum of even numbers: 34\n"
          ]
        }
      ]
    },
    {
      "cell_type": "markdown",
      "source": [
        "# 2.Create a Python function that accepts a string and returns the reverse of that string"
      ],
      "metadata": {
        "id": "l4bEsHSxea6p"
      }
    },
    {
      "cell_type": "code",
      "source": [
        "def reverse_string():\n",
        "    s = input(\"Enter a string: \")\n",
        "    return s[::-1]\n",
        "\n",
        "# Example usage:\n",
        "result = reverse_string()\n",
        "print(\"Reversed string:\", result)\n"
      ],
      "metadata": {
        "colab": {
          "base_uri": "https://localhost:8080/"
        },
        "id": "IUYHvs2Kedkd",
        "outputId": "6815d3a6-6aed-4362-b573-4430c2c1b1ee"
      },
      "execution_count": 5,
      "outputs": [
        {
          "output_type": "stream",
          "name": "stdout",
          "text": [
            "Enter a string: 12 23 34\n",
            "Reversed string: 43 32 21\n"
          ]
        }
      ]
    },
    {
      "cell_type": "markdown",
      "source": [
        "# 3. Implement a Python function that takes a list of integers and returns a new list containing the squares of each number."
      ],
      "metadata": {
        "id": "FBtDjDIoelxu"
      }
    },
    {
      "cell_type": "code",
      "source": [
        "def square_list():\n",
        "    # Taking input from user and converting to a list of integers\n",
        "    nums = list(map(int, input(\"Enter numbers separated by space: \").split()))\n",
        "    squared = [x**2 for x in nums]\n",
        "    return squared\n",
        "\n",
        "# Example usage:\n",
        "result = square_list()\n",
        "print(\"Squared List:\", result)\n"
      ],
      "metadata": {
        "colab": {
          "base_uri": "https://localhost:8080/"
        },
        "id": "9r5ZtqA_er-2",
        "outputId": "04f79384-020d-4890-ad0a-c2a161cf3ef4"
      },
      "execution_count": 6,
      "outputs": [
        {
          "output_type": "stream",
          "name": "stdout",
          "text": [
            "Enter numbers separated by space: 12 2 3\n",
            "Squared List: [144, 4, 9]\n"
          ]
        }
      ]
    },
    {
      "cell_type": "markdown",
      "source": [
        "#4.Write a Python function that checks if a given number is prime or not from 1 to 200"
      ],
      "metadata": {
        "id": "ls-v2GUpe2DX"
      }
    },
    {
      "cell_type": "code",
      "source": [
        "def is_prime(n):\n",
        "    if n < 2:\n",
        "        return False\n",
        "    for i in range(2, int(n**0.5) + 1):\n",
        "        if n % i == 0:\n",
        "            return False\n",
        "    return True\n",
        "\n",
        "def primes_upto_200():\n",
        "    primes = []\n",
        "    for num in range(1, 201):\n",
        "        if is_prime(num):\n",
        "            primes.append(num)\n",
        "    return primes\n",
        "\n",
        "# Example usage:\n",
        "prime_numbers = primes_upto_200()\n",
        "print(\"Prime numbers from 1 to 200 are:\")\n",
        "print(prime_numbers)\n"
      ],
      "metadata": {
        "colab": {
          "base_uri": "https://localhost:8080/"
        },
        "id": "xCUmdjXPe6Mr",
        "outputId": "38bbafaf-06ae-4720-8994-45de6646f177"
      },
      "execution_count": 7,
      "outputs": [
        {
          "output_type": "stream",
          "name": "stdout",
          "text": [
            "Prime numbers from 1 to 200 are:\n",
            "[2, 3, 5, 7, 11, 13, 17, 19, 23, 29, 31, 37, 41, 43, 47, 53, 59, 61, 67, 71, 73, 79, 83, 89, 97, 101, 103, 107, 109, 113, 127, 131, 137, 139, 149, 151, 157, 163, 167, 173, 179, 181, 191, 193, 197, 199]\n"
          ]
        }
      ]
    },
    {
      "cell_type": "markdown",
      "source": [
        "#5. Create an iterator class in Python that generates the Fibonacci sequence up to a specified number of terms"
      ],
      "metadata": {
        "id": "zeO3VRp-fAm0"
      }
    },
    {
      "cell_type": "code",
      "source": [
        "class Fibonacci:\n",
        "    def __init__(self, max_terms):\n",
        "        self.max_terms = max_terms\n",
        "        self.a, self.b = 0, 1\n",
        "        self.count = 0\n",
        "\n",
        "    def __iter__(self):\n",
        "        return self\n",
        "\n",
        "    def __next__(self):\n",
        "        if self.count >= self.max_terms:\n",
        "            raise StopIteration\n",
        "        if self.count == 0:\n",
        "            self.count += 1\n",
        "            return self.a\n",
        "        elif self.count == 1:\n",
        "            self.count += 1\n",
        "            return self.b\n",
        "        else:\n",
        "            self.a, self.b = self.b, self.a + self.b\n",
        "            self.count += 1\n",
        "            return self.b\n",
        "\n",
        "# Example usage:\n",
        "fib = Fibonacci(10)\n",
        "for num in fib:\n",
        "    print(num)\n"
      ],
      "metadata": {
        "colab": {
          "base_uri": "https://localhost:8080/"
        },
        "id": "XsUehSRRfF7O",
        "outputId": "1c8ede45-3b43-4f4d-fa17-da1513c0fc3e"
      },
      "execution_count": 8,
      "outputs": [
        {
          "output_type": "stream",
          "name": "stdout",
          "text": [
            "0\n",
            "1\n",
            "1\n",
            "2\n",
            "3\n",
            "5\n",
            "8\n",
            "13\n",
            "21\n",
            "34\n"
          ]
        }
      ]
    },
    {
      "cell_type": "markdown",
      "source": [
        "#6.Write a generator function in Python that yields the powers of 2 up to a given exponent"
      ],
      "metadata": {
        "id": "-3qXy94JfLUG"
      }
    },
    {
      "cell_type": "code",
      "source": [
        "def powers_of_two(n):\n",
        "    for i in range(n + 1):\n",
        "        yield 2 ** i\n",
        "\n",
        "# Example usage:\n",
        "for power in powers_of_two(5):\n",
        "    print(power)\n"
      ],
      "metadata": {
        "colab": {
          "base_uri": "https://localhost:8080/"
        },
        "id": "4hGCxuMKfPb-",
        "outputId": "a9e8b3cf-6a45-400e-c6e2-f7327c7740e8"
      },
      "execution_count": 9,
      "outputs": [
        {
          "output_type": "stream",
          "name": "stdout",
          "text": [
            "1\n",
            "2\n",
            "4\n",
            "8\n",
            "16\n",
            "32\n"
          ]
        }
      ]
    },
    {
      "cell_type": "markdown",
      "source": [
        "#7. Implement a generator function that reads a file line by line and yields each line as a string."
      ],
      "metadata": {
        "id": "VqvQdbz6fWC_"
      }
    },
    {
      "cell_type": "code",
      "source": [
        "def read_file_lines(filename):\n",
        "    with open(filename, 'r') as file:\n",
        "        for line in file:\n",
        "            yield line.strip()\n",
        "\n",
        "# Example usage:\n",
        "# for line in read_file_lines(\"example.txt\"):\n",
        "#     print(line)\n",
        "\n",
        "\n",
        "#  Explanation\\\n",
        "#open(filename, 'r') opens the file in read mode.\n",
        "\n",
        "#yield line.strip() removes any leading/trailing whitespace or newline characters.\n",
        "\n",
        "#You can iterate over this generator to process large files efficiently without loading the entire file into memory.###"
      ],
      "metadata": {
        "id": "9hnFotn1fZSt"
      },
      "execution_count": 15,
      "outputs": []
    },
    {
      "cell_type": "markdown",
      "source": [
        "#8.. Use a lambda function in Python to sort a list of tuples based on the second element of each tuple."
      ],
      "metadata": {
        "id": "ozEt7Bnjf3Tu"
      }
    },
    {
      "cell_type": "code",
      "source": [
        "# Sample list of tuples\n",
        "tuple_list = [(1, 3), (4, 1), (2, 5), (3, 2)]\n",
        "\n",
        "# Sorting using lambda based on the second element\n",
        "sorted_list = sorted(tuple_list, key=lambda x: x[1])\n",
        "\n",
        "print(sorted_list)\n"
      ],
      "metadata": {
        "colab": {
          "base_uri": "https://localhost:8080/"
        },
        "id": "F6wceeLLf5oD",
        "outputId": "338d43c1-e254-4edf-c6c6-cd28f651fdea"
      },
      "execution_count": 16,
      "outputs": [
        {
          "output_type": "stream",
          "name": "stdout",
          "text": [
            "[(4, 1), (3, 2), (1, 3), (2, 5)]\n"
          ]
        }
      ]
    },
    {
      "cell_type": "markdown",
      "source": [
        " #9.Write a Python program that uses `map()` to convert a list of temperatures from Celsius to Fahrenheit"
      ],
      "metadata": {
        "id": "6zi2OdtngCsZ"
      }
    },
    {
      "cell_type": "code",
      "source": [
        "# List of temperatures in Celsius\n",
        "celsius = [0, 20, 37, 100]\n",
        "\n",
        "# Convert to Fahrenheit using map and lambda\n",
        "fahrenheit = list(map(lambda c: (c * 9/5) + 32, celsius))\n",
        "\n",
        "# Output the result\n",
        "print(\"Temperatures in Fahrenheit:\", fahrenheit)\n"
      ],
      "metadata": {
        "colab": {
          "base_uri": "https://localhost:8080/"
        },
        "id": "VzTbvveKgF0V",
        "outputId": "0657ae4c-56ac-4c11-cc87-81f3ee28176f"
      },
      "execution_count": 17,
      "outputs": [
        {
          "output_type": "stream",
          "name": "stdout",
          "text": [
            "Temperatures in Fahrenheit: [32.0, 68.0, 98.6, 212.0]\n"
          ]
        }
      ]
    },
    {
      "cell_type": "markdown",
      "source": [
        "#10.Create a Python program that uses `filter()` to remove all the vowels from a given string"
      ],
      "metadata": {
        "id": "rVzpZE_PgLLZ"
      }
    },
    {
      "cell_type": "code",
      "source": [
        "# Input string\n",
        "s = \"Hello World\"\n",
        "\n",
        "# Define vowels\n",
        "vowels = 'aeiouAEIOU'\n",
        "\n",
        "# Use filter() and lambda to remove vowels\n",
        "no_vowels = ''.join(filter(lambda char: char not in vowels, s))\n",
        "\n",
        "# Output the result\n",
        "print(\"String without vowels:\", no_vowels)\n"
      ],
      "metadata": {
        "colab": {
          "base_uri": "https://localhost:8080/"
        },
        "id": "NHpcWIxXgWUm",
        "outputId": "9773cb73-e5f8-4037-d963-0afcc6ddf805"
      },
      "execution_count": 18,
      "outputs": [
        {
          "output_type": "stream",
          "name": "stdout",
          "text": [
            "String without vowels: Hll Wrld\n"
          ]
        }
      ]
    },
    {
      "cell_type": "markdown",
      "source": [
        "# 11. Imagine an accounting routine used in a book shop. It works on a list with sublists, which look like this:\n"
      ],
      "metadata": {
        "id": "bo_gLXpvgh94"
      }
    },
    {
      "cell_type": "code",
      "source": [
        "print(\"+--------+---------------------------+----------+----------+--------------+\")\n",
        "print(\"| Order# | Book Title                | Quantity |  Price   | Invoice Amt  |\")\n",
        "print(\"+--------+---------------------------+----------+----------+--------------+\")\n",
        "print(\"| 34587  | Learning Python           |    4     |  40.95   |  163.80      |\")\n",
        "print(\"| 98762  | Programming Python        |    5     |  56.80   |  284.00      |\")\n",
        "print(\"| 77226  | Head First Python         |    3     |  32.95   |   98.85 +10  |\")\n",
        "print(\"| 88112  | Einführung in Python3     |    3     |  24.99   |  74.97 +10   |\")\n",
        "print(\"+--------+---------------------------+----------+----------+--------------+\")\n"
      ],
      "metadata": {
        "colab": {
          "base_uri": "https://localhost:8080/"
        },
        "id": "1UeqtPUQjCqH",
        "outputId": "31597d87-666d-460c-ed8f-7a17022a1b5e"
      },
      "execution_count": 20,
      "outputs": [
        {
          "output_type": "stream",
          "name": "stdout",
          "text": [
            "+--------+---------------------------+----------+----------+--------------+\n",
            "| Order# | Book Title                | Quantity |  Price   | Invoice Amt  |\n",
            "+--------+---------------------------+----------+----------+--------------+\n",
            "| 34587  | Learning Python           |    4     |  40.95   |  163.80      |\n",
            "| 98762  | Programming Python        |    5     |  56.80   |  284.00      |\n",
            "| 77226  | Head First Python         |    3     |  32.95   |   98.85 +10  |\n",
            "| 88112  | Einführung in Python3     |    3     |  24.99   |  74.97 +10   |\n",
            "+--------+---------------------------+----------+----------+--------------+\n"
          ]
        }
      ]
    },
    {
      "cell_type": "markdown",
      "source": [
        "Write a Python program, which returns a list with 2-tuples. Each tuple consists of the order number and the product of the price per item and the quantity. The product should be increased by 10,- € if the value of the order is smaller than 100,00 €. Write a Python program using lambda and map"
      ],
      "metadata": {
        "id": "40dN7pXuj42n"
      }
    },
    {
      "cell_type": "code",
      "source": [
        "# @title\n",
        "orders = [\n",
        "    [34587, 'Learning Python', 4, 40.95],\n",
        "    [98762, 'Programming Python', 5, 56.80],\n",
        "    [77226, 'Head First Python', 3, 32.95],\n",
        "    [88112, 'Einführung in Python3', 3, 24.99]\n",
        "]\n",
        "\n",
        "# Lambda and map solution\n",
        "invoice = list(map(lambda order: (\n",
        "    order[0],\n",
        "    order[2]*order[3] if order[2]*order[3] >= 100 else order[2]*order[3] + 10\n",
        "), orders))\n",
        "\n",
        "# Print result\n",
        "print(invoice)\n"
      ],
      "metadata": {
        "colab": {
          "base_uri": "https://localhost:8080/"
        },
        "id": "QwDUUsZTkADA",
        "outputId": "ac4f636f-aa3b-4390-ac3e-3cfb97063974"
      },
      "execution_count": 21,
      "outputs": [
        {
          "output_type": "stream",
          "name": "stdout",
          "text": [
            "[(34587, 163.8), (98762, 284.0), (77226, 108.85000000000001), (88112, 84.97)]\n"
          ]
        }
      ]
    }
  ]
}