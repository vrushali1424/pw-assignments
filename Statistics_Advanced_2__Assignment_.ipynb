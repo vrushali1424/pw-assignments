{
  "nbformat": 4,
  "nbformat_minor": 0,
  "metadata": {
    "colab": {
      "provenance": []
    },
    "kernelspec": {
      "name": "python3",
      "display_name": "Python 3"
    },
    "language_info": {
      "name": "python"
    }
  },
  "cells": [
    {
      "cell_type": "markdown",
      "source": [
        "# Question 1: What is hypothesis testing in statistics?"
      ],
      "metadata": {
        "id": "RUDQCvgmjo-C"
      }
    },
    {
      "cell_type": "markdown",
      "source": [
        "Answer:\\\n",
        "Hypothesis testing is a statistical method used to make inferences or draw conclusions about a population based on a sample. It involves proposing a hypothesis (a claim or statement) about a population parameter and then using sample data to test whether the hypothesis is likely to be true or false. The goal is to determine whether observed data provides enough evidence to reject the null hypothesis in favor of the alternative hypothesis."
      ],
      "metadata": {
        "id": "xjSm8XA8jus0"
      }
    },
    {
      "cell_type": "markdown",
      "source": [
        "# Question 2: What is the null hypothesis, and how does it differ from the alternative hypothesis?"
      ],
      "metadata": {
        "id": "A3JnRuVfjzec"
      }
    },
    {
      "cell_type": "markdown",
      "source": [
        "Answer:\n",
        "\n",
        "Null Hypothesis (H₀): This is a statement that there is no effect or no difference in the population. It represents the default assumption.\n",
        "\n",
        "Alternative Hypothesis (H₁ or Ha): This is a statement that contradicts the null hypothesis and represents the effect, difference, or relationship that we are testing for.\n",
        "\n",
        "Example:\n",
        "\n",
        "H₀: The mean height of students is 160 cm.\n",
        "\n",
        "H₁: The mean height of students is not 160 cm.\n",
        "\n",
        "The null hypothesis assumes no change or effect, while the alternative hypothesis suggests a significant change or effect exists."
      ],
      "metadata": {
        "id": "5k92ZXmwj2ys"
      }
    },
    {
      "cell_type": "markdown",
      "source": [
        "#Question 3: Explain the significance level in hypothesis testing and its role in deciding the outcome of a test.\n",
        "\n"
      ],
      "metadata": {
        "id": "zLqDccx8j6Vn"
      }
    },
    {
      "cell_type": "markdown",
      "source": [
        "Answer:\n",
        "\n",
        "Significance Level (α): The significance level is the probability of rejecting the null hypothesis when it is actually true (Type I error). It is usually set at 0.05, 0.01, or 0.10.\n",
        "\n",
        "Role: It defines the threshold for deciding whether a result is statistically significant. If the p-value of the test is less than α, we reject the null hypothesis. If the p-value is greater than α, we fail to reject the null hypothesis."
      ],
      "metadata": {
        "id": "NhGDU6BCj-VB"
      }
    },
    {
      "cell_type": "markdown",
      "source": [
        "# Question 4: What are Type I and Type II errors? Give examples of each."
      ],
      "metadata": {
        "id": "yLDvYL-lkBLx"
      }
    },
    {
      "cell_type": "markdown",
      "source": [
        "Answer:\n",
        "\n",
        "Type I Error (False Positive): Rejecting the null hypothesis when it is true.\n",
        "Example: A new drug is concluded to be effective when it is actually not.\n",
        "\n",
        "Type II Error (False Negative): Failing to reject the null hypothesis when the alternative is true.\n",
        "Example: A new drug is actually effective, but the test concludes it is not effective."
      ],
      "metadata": {
        "id": "sRnIl-XgkE0U"
      }
    },
    {
      "cell_type": "markdown",
      "source": [
        "# Question 5: What is the difference between a Z-test and a T-test? Explain when to use each."
      ],
      "metadata": {
        "id": "T1TG4lJpkJsK"
      }
    },
    {
      "cell_type": "markdown",
      "source": [
        "Answer:\n",
        "| Aspect              | Z-test                        | T-test                          |\n",
        "| ------------------- | ----------------------------- | ------------------------------- |\n",
        "| Population Variance | Known                         | Unknown                         |\n",
        "| Sample Size         | Large (n > 30)                | Small (n ≤ 30)                  |\n",
        "| Distribution        | Normal or approx. normal      | Normal                          |\n",
        "| Use Case            | Test mean when variance known | Test mean when variance unknown |\n",
        "\n",
        "Summary: Use a Z-test for large samples with known variance and a T-test for small samples or unknown variance."
      ],
      "metadata": {
        "id": "_6uYyQ7gkOOb"
      }
    },
    {
      "cell_type": "markdown",
      "source": [
        "# Question 6: Write a Python program to generate a binomial distribution with n=10 and p=0.5, then plot its histogram.\n",
        "\n"
      ],
      "metadata": {
        "id": "zgMUQP-TkWm1"
      }
    },
    {
      "cell_type": "code",
      "source": [
        "# Import necessary libraries\n",
        "import numpy as np\n",
        "import matplotlib.pyplot as plt\n",
        "\n",
        "# Parameters\n",
        "n = 10      # number of trials\n",
        "p = 0.5     # probability of success\n",
        "size = 1000 # number of experiments\n",
        "\n",
        "# Generate binomial distribution\n",
        "data = np.random.binomial(n, p, size)\n",
        "\n",
        "# Plot histogram\n",
        "plt.hist(data, bins=range(n+2), edgecolor='black', alpha=0.7)\n",
        "plt.title('Binomial Distribution (n=10, p=0.5)')\n",
        "plt.xlabel('Number of Successes')\n",
        "plt.ylabel('Frequency')\n",
        "plt.show()\n"
      ],
      "metadata": {
        "colab": {
          "base_uri": "https://localhost:8080/",
          "height": 472
        },
        "id": "UrO-oC6rkeq4",
        "outputId": "d77432b8-de0d-444d-ebae-e5eec67fb6b5"
      },
      "execution_count": 1,
      "outputs": [
        {
          "output_type": "display_data",
          "data": {
            "text/plain": [
              "<Figure size 640x480 with 1 Axes>"
            ],
            "image/png": "[encoded data removed]"
          },
          "metadata": {}
        }
      ]
    },
    {
      "cell_type": "markdown",
      "source": [
        "# Question 7: Implement hypothesis testing using Z-statistics for a sample dataset in Python.\n",
        "\n",
        "amswer:"
      ],
      "metadata": {
        "id": "hHbtwXgJkiin"
      }
    },
    {
      "cell_type": "code",
      "source": [
        "import numpy as np\n",
        "from scipy import stats\n",
        "\n",
        "# Sample data\n",
        "sample_data = [49.1, 50.2, 51.0, 48.7, 50.5, 49.8, 50.3, 50.7, 50.2, 49.6,\n",
        "               50.1, 49.9, 50.8, 50.4, 48.9, 50.6, 50.0, 49.7, 50.2, 49.5,\n",
        "               50.1, 50.3, 50.4, 50.5, 50.0, 50.7, 49.3, 49.8, 50.2, 50.9,\n",
        "               50.3, 50.4, 50.0, 49.7, 50.5, 49.9]\n",
        "\n",
        "# Population mean\n",
        "mu = 50\n",
        "\n",
        "# Sample mean and standard deviation\n",
        "x_bar = np.mean(sample_data)\n",
        "s = np.std(sample_data, ddof=1)\n",
        "n = len(sample_data)\n",
        "\n",
        "# Z-test statistic\n",
        "z = (x_bar - mu) / (s / np.sqrt(n))\n",
        "p_value = 2 * (1 - stats.norm.cdf(abs(z)))\n",
        "\n",
        "print(f\"Sample Mean = {x_bar:.2f}\")\n",
        "print(f\"Z-Statistic = {z:.2f}\")\n",
        "print(f\"P-Value = {p_value:.4f}\")\n",
        "\n",
        "# Interpretation\n",
        "alpha = 0.05\n",
        "if p_value < alpha:\n",
        "    print(\"Reject the null hypothesis.\")\n",
        "else:\n",
        "    print(\"Fail to reject the null hypothesis.\")\n",
        "\n",
        "    # Interpretation: If the p-value < 0.05, we reject H₀; otherwise, we fail to reject H₀.\n"
      ],
      "metadata": {
        "colab": {
          "base_uri": "https://localhost:8080/"
        },
        "id": "9jKKIcRokuPd",
        "outputId": "7d636c54-386d-4406-b8a3-ac0efe4e1ad5"
      },
      "execution_count": 5,
      "outputs": [
        {
          "output_type": "stream",
          "name": "stdout",
          "text": [
            "Sample Mean = 50.09\n",
            "Z-Statistic = 0.99\n",
            "P-Value = 0.3202\n",
            "Fail to reject the null hypothesis.\n"
          ]
        }
      ]
    },
    {
      "cell_type": "markdown",
      "source": [
        "# Question 8: Write a Python script to simulate data from a normal distribution and calculate the 95% confidence interval for its mean. Plot the data using Matplotlib.\n",
        "\n",
        "Answer:"
      ],
      "metadata": {
        "id": "C-8spG0xk-9W"
      }
    },
    {
      "cell_type": "code",
      "source": [
        "import numpy as np\n",
        "import matplotlib.pyplot as plt\n",
        "from scipy import stats\n",
        "\n",
        "# Simulate normal distribution data\n",
        "np.random.seed(0)\n",
        "data = np.random.normal(loc=50, scale=5, size=100)  # mean=50, sd=5, n=100\n",
        "\n",
        "# 95% confidence interval\n",
        "mean = np.mean(data)\n",
        "sem = stats.sem(data)  # standard error\n",
        "ci = stats.t.interval(0.95, len(data)-1, loc=mean, scale=sem)\n",
        "\n",
        "print(f\"Mean = {mean:.2f}\")\n",
        "print(f\"95% Confidence Interval = ({ci[0]:.2f}, {ci[1]:.2f})\")\n",
        "\n",
        "# Plot data\n",
        "plt.hist(data, bins=10, edgecolor='black', alpha=0.7)\n",
        "plt.title('Normal Distribution Data')\n",
        "plt.xlabel('Value')\n",
        "plt.ylabel('Frequency')\n",
        "plt.show()\n"
      ],
      "metadata": {
        "colab": {
          "base_uri": "https://localhost:8080/",
          "height": 507
        },
        "id": "aCJyQ86llDiX",
        "outputId": "e5618901-1dd2-4cf3-ea56-f9b625335bd0"
      },
      "execution_count": 6,
      "outputs": [
        {
          "output_type": "stream",
          "name": "stdout",
          "text": [
            "Mean = 50.30\n",
            "95% Confidence Interval = (49.29, 51.30)\n"
          ]
        },
        {
          "output_type": "display_data",
          "data": {
            "text/plain": [
              "<Figure size 640x480 with 1 Axes>"
            ],
            "image/png": "[encoded data removed]"
          },
          "metadata": {}
        }
      ]
    },
    {
      "cell_type": "markdown",
      "source": [
        "# Question 9: Write a Python function to calculate the Z-scores from a dataset.\n",
        "\n",
        "Answer:"
      ],
      "metadata": {
        "id": "f8iuUm1MlJFu"
      }
    },
    {
      "cell_type": "code",
      "source": [
        "def z_scores(data):\n",
        "    mean = np.mean(data)\n",
        "    std = np.std(data, ddof=1)\n",
        "    z = [(x - mean) / std for x in data]\n",
        "    return z\n",
        "\n",
        "# Example dataset\n",
        "data = [10, 12, 15, 18, 20, 22, 25]\n",
        "z = z_scores(data)\n",
        "print(\"Z-scores:\", z)\n"
      ],
      "metadata": {
        "id": "nDxptESllLIA",
        "outputId": "27fe642e-ff69-4199-b3f9-6aed30fd6dc9",
        "colab": {
          "base_uri": "https://localhost:8080/"
        }
      },
      "execution_count": 7,
      "outputs": [
        {
          "output_type": "stream",
          "name": "stdout",
          "text": [
            "Z-scores: [np.float64(-1.3727055611059817), np.float64(-1.0031309869620635), np.float64(-0.44876912574618616), np.float64(0.10559273546969121), np.float64(0.4751673096136094), np.float64(0.8447418837575277), np.float64(1.399103744973405)]\n"
          ]
        }
      ]
    }
  ]
}