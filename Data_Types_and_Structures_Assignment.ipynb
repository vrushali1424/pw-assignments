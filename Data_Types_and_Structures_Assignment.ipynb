{
  "nbformat": 4,
  "nbformat_minor": 0,
  "metadata": {
    "colab": {
      "provenance": []
    },
    "kernelspec": {
      "name": "python3",
      "display_name": "Python 3"
    },
    "language_info": {
      "name": "python"
    }
  },
  "cells": [
    {
      "cell_type": "code",
      "execution_count": null,
      "metadata": {
        "id": "YfMueubfXzec"
      },
      "outputs": [],
      "source": []
    },
    {
      "cell_type": "markdown",
      "source": [
        "1.What are data structures, and why are they important?"
      ],
      "metadata": {
        "id": "dFLNfG-LX42-"
      }
    },
    {
      "cell_type": "markdown",
      "source": [
        "Data structures are ways to organize and store data in a computer so it can be used easily and efficiently.\n",
        "\n",
        "They are important because:\n",
        "\n",
        "They help in storing data in a proper way.\n",
        "\n",
        "They make searching, sorting, and updating data faster.\n",
        "\n",
        "They save memory and improve the speed of programs.\n",
        "\n",
        "They are useful for solving real-life problems like managing files, maps, or networks.\n",
        "\n",
        "Common data structures include arrays, linked lists, stacks, queues, trees, and graphs."
      ],
      "metadata": {
        "id": "2eHPOZdWYWdQ"
      }
    },
    {
      "cell_type": "markdown",
      "source": [
        "2.Explain the difference between mutable and immutable data types with examples"
      ],
      "metadata": {
        "id": "Wqdkg6HvYYkd"
      }
    },
    {
      "cell_type": "markdown",
      "source": [
        "| **Mutable**                        | **Immutable**                       |\n",
        "| ---------------------------------- | ----------------------------------- |\n",
        "| Can be changed after creation      | Cannot be changed after creation    |\n",
        "| Values can be updated or modified  | Values stay the same once created   |\n",
        "| Uses more memory in the long run   | Safer and more memory efficient     |\n",
        "| Example: **List, Dictionary, Set** | Example: **String, Tuple, Integer** |\n",
        "\n",
        "**Immutable Example(list)** \\\n",
        "my_list = [1, 2, 3] \\\n",
        "my_list[0] = 10  # We changed the first element \\\n",
        "print(my_list)  # Output: [10, 2, 3]\n",
        "\n",
        "\n",
        "**Immutable Example (String)**\n",
        "\n",
        "my_string = \"hello\"  # my_string[0] = \"H\"  This will give an error\\\n",
        "new_string = \"H\" + my_string[1:]  # We create a new string \\\n",
        "print(new_string)  # Output: \"Hello\""
      ],
      "metadata": {
        "id": "ck1c1hm-YekT"
      }
    },
    {
      "cell_type": "markdown",
      "source": [],
      "metadata": {
        "id": "kAXF0_i4Zc_y"
      }
    },
    {
      "cell_type": "markdown",
      "source": [
        "3.What are the main differences between lists and tuples in Python?"
      ],
      "metadata": {
        "id": "fiZBsDCSZgy5"
      }
    },
    {
      "cell_type": "markdown",
      "source": [
        "| Feature         | **List**                   | **Tuple**                        |\n",
        "| --------------- | -------------------------- | -------------------------------- |\n",
        "| **Mutability**  |  Mutable (can be changed) |  Immutable (cannot be changed)  |\n",
        "| **Syntax**      | Written with **\\[ ]**      | Written with **( )**             |\n",
        "| **Performance** | Slower (uses more memory)  | Faster (uses less memory)        |\n",
        "| **Use Case**    | Used when data can change  | Used when data should stay fixed |\n",
        "| **Methods**     | Has many built-in methods  | Has fewer methods                |\n",
        "\n",
        "List example: \\\n",
        "my_list = [1, 2, 3] \\\n",
        "my_list[0] = 10 \\\n",
        "print(my_list)  # Output: [10, 2, 3]\n",
        "\n",
        "tuple example: \\\n",
        "my_tuple = (1, 2, 3) \\\n",
        "my_tuple[0] = 10  # This will cause an error\\\n",
        "print(my_tuple)  # Output: (1, 2, 3)\n",
        "\n"
      ],
      "metadata": {
        "id": "awH4_Js1Ziz5"
      }
    },
    {
      "cell_type": "markdown",
      "metadata": {
        "id": "13cf21aa"
      },
      "source": [
        "4. How Dictionaries Store Data?\n",
        "\n",
        "Dictionaries in Python store data in key-value pairs. This means that for every piece of data (the \"value\"), there is a unique identifier (the \"key\") that you use to access it.\n",
        "\n",
        "\n",
        "*   Keys\n",
        "    *   Must be unique within a dictionary.\n",
        "    *   Must be of an immutable data type (like strings, numbers, or tuples).\n",
        "*   Values\n",
        "    *   Can be of any data type (strings, numbers, lists, even other dictionaries).\n",
        "    *   Can be duplicated.\n",
        "\n",
        "Think of a real-world dictionary. The \"key\" is the word you look up, and the \"value\" is its definition. Similarly, in a Python dictionary, you use a key to quickly find its corresponding value.\n",
        "\n",
        "This structure makes dictionaries very efficient for retrieving data when you know the key."
      ]
    },
    {
      "cell_type": "code",
      "metadata": {
        "colab": {
          "base_uri": "https://localhost:8080/"
        },
        "id": "4e906de1",
        "outputId": "edd49e4c-eeb4-4fde-c59b-1d3c17ef8c2b"
      },
      "source": [
        "# Creating a dictionary\n",
        "my_dict = {\n",
        "    \"name\": \"Alice\",\n",
        "    \"age\": 30,\n",
        "    \"city\": \"New York\"\n",
        "}\n",
        "\n",
        "# Accessing a value using its key\n",
        "print(f\"Name: {my_dict['name']}\")\n",
        "\n",
        "# Dictionaries can have values of different types\n",
        "my_dict[\"is_student\"] = False\n",
        "my_dict[\"courses\"] = [\"Math\", \"Science\"]\n",
        "\n",
        "print(my_dict)"
      ],
      "execution_count": 4,
      "outputs": [
        {
          "output_type": "stream",
          "name": "stdout",
          "text": [
            "Name: Alice\n",
            "{'name': 'Alice', 'age': 30, 'city': 'New York', 'is_student': False, 'courses': ['Math', 'Science']}\n"
          ]
        }
      ]
    },
    {
      "cell_type": "markdown",
      "source": [
        "5. Why might you use a set instead of a list in Python?"
      ],
      "metadata": {
        "id": "PFuB_nPqajIO"
      }
    },
    {
      "cell_type": "markdown",
      "source": [
        "\n",
        "You might use a set instead of a list in Python for the following reasons:\n",
        "\n",
        "*   A set only stores unique values, so it automatically removes duplicates.\n",
        "\n",
        "*   Checking whether an item exists in a set is faster than in a list.\n",
        "\n",
        "*   Sets are useful when you don’t care about the order of items."
      ],
      "metadata": {
        "id": "GYxc5r1hd2lv"
      }
    },
    {
      "cell_type": "code",
      "source": [
        "# example:\n",
        "my_list = [1, 2, 2, 3]\n",
        "my_set = set(my_list)\n",
        "print(my_set)  # Output: {1, 2, 3}\n"
      ],
      "metadata": {
        "colab": {
          "base_uri": "https://localhost:8080/"
        },
        "id": "II4H0eZDeRn9",
        "outputId": "170c5dc6-5f12-46a4-c7b5-4537855390cf"
      },
      "execution_count": 5,
      "outputs": [
        {
          "output_type": "stream",
          "name": "stdout",
          "text": [
            "{1, 2, 3}\n"
          ]
        }
      ]
    },
    {
      "cell_type": "markdown",
      "source": [
        "6.What is a string in Python, and how is it different from a list?"
      ],
      "metadata": {
        "id": "OsVeCYTreaRU"
      }
    },
    {
      "cell_type": "markdown",
      "source": [
        "| Feature       | String                      | List                                                 |\n",
        "| ------------- | --------------------------- | ---------------------------------------------------- |\n",
        "| **Data Type** | Holds **characters** only   | Can hold **any data types** (numbers, strings, etc.) |\n",
        "| **Mutable?**  | No, strings are immutable |  Yes, lists are mutable                             |\n",
        "| **Syntax**    | Enclosed in **quotes**      | Enclosed in **square brackets**                      |\n",
        "| **Example**   | `\"apple\"`                   | `[\"a\", \"p\", \"p\", \"l\", \"e\"]`                          |\n"
      ],
      "metadata": {
        "id": "2p3ZPHGeemNh"
      }
    },
    {
      "cell_type": "code",
      "source": [
        "#example:\n",
        "my_string = \"hello\"\n",
        "# my_string[0] = \"H\" →  Not allowed (immutable)\n",
        "\n",
        "my_list = ['h', 'e', 'l', 'l', 'o']\n",
        "my_list[0] = 'H'  #  Allowed\n",
        "print(my_list)    # Output: ['H', 'e', 'l', 'l', 'o']\n"
      ],
      "metadata": {
        "colab": {
          "base_uri": "https://localhost:8080/"
        },
        "id": "RoZM1Carewa8",
        "outputId": "077297ef-19eb-4b55-dc5b-90d80dbbda11"
      },
      "execution_count": 6,
      "outputs": [
        {
          "output_type": "stream",
          "name": "stdout",
          "text": [
            "['H', 'e', 'l', 'l', 'o']\n"
          ]
        }
      ]
    },
    {
      "cell_type": "markdown",
      "source": [
        "7.How do tuples ensure data integrity in Python?"
      ],
      "metadata": {
        "id": "pkNKTiDGe2Tq"
      }
    },
    {
      "cell_type": "markdown",
      "source": [
        "Tuples ensure data integrity because they are immutable.This means once a tuple is created, its values cannot be changed, added, or removed.\n",
        "\n",
        "*  Prevents accidental changes – The data stays safe and unchanged.\n",
        "\n",
        "*  Protects important information – Good for storing fixed data like coordinates, dates, or settings.\n",
        "\n",
        "*  Used as keys in dictionaries – Because they are unchangeable, they can be used as dictionary keys.\n",
        "\n",
        "Tuples protect data by not allowing any changes, which helps ensure data integrity.\n",
        "\n",
        "\n",
        "\n"
      ],
      "metadata": {
        "id": "CL_PsquhfPbw"
      }
    },
    {
      "cell_type": "code",
      "source": [
        "my_tuple = (10, 20, 30)\n",
        "# my_tuple[0] = 100   This will cause an error\n"
      ],
      "metadata": {
        "id": "yqd2FgMTi86i"
      },
      "execution_count": 7,
      "outputs": []
    },
    {
      "cell_type": "markdown",
      "source": [
        "8.What is a hash table, and how does it relate to dictionaries in Python?"
      ],
      "metadata": {
        "id": "-wYjtGCQjL2E"
      }
    },
    {
      "cell_type": "markdown",
      "source": [
        "A hash table is a data structure that stores data in key-value pairs. It uses a process called hashing to quickly find where the data is stored.\n",
        "\n",
        "In Python, the dictionary (dict) is built using a hash table.\n",
        "\n",
        "and here is how it works: \\\n",
        "Each key is converted into a number using a hash function.\\\n",
        "That number decides where the value is stored in memory.\\\n",
        "This allows for fast access, insertion, and searching.\n",
        "\n",
        "* A hash table stores data using key-value pairs.\n",
        "* In Python, dictionaries are implemented using hash tables for fast and efficient data access."
      ],
      "metadata": {
        "id": "SY_KAng8jWEd"
      }
    },
    {
      "cell_type": "code",
      "source": [
        "my_dict = {\"name\": \"Alice\", \"age\": 25}\n",
        "print(my_dict[\"name\"])  # Output: Alice\n"
      ],
      "metadata": {
        "colab": {
          "base_uri": "https://localhost:8080/"
        },
        "id": "jHVk_Ts8jpFf",
        "outputId": "3749a17e-ceaf-487c-94e4-228ebaaf9752"
      },
      "execution_count": 8,
      "outputs": [
        {
          "output_type": "stream",
          "name": "stdout",
          "text": [
            "Alice\n"
          ]
        }
      ]
    },
    {
      "cell_type": "markdown",
      "source": [
        " 9.Can lists contain different data types in Python? \\\n",
        " Yes, lists can contain different data types in Python. \\\n",
        " example: \\\n",
        " my_list = [10, \"hello\", 3.14, True] \\\n",
        "print(my_list) # Output: [10, 'hello', 3.14, True]\n",
        "\n",
        "In this list:\n",
        "\n",
        "10 is an integer\n",
        "\n",
        "\"hello\" is a string\n",
        "\n",
        "3.14 is a float\n",
        "\n",
        "True is a boolean"
      ],
      "metadata": {
        "id": "N7Ermu--j9Xw"
      }
    },
    {
      "cell_type": "markdown",
      "source": [
        "10.Explain why strings are immutable in Python?\\\n",
        "Reasons why strings are immutable:\n",
        "* Safety and reliability\n",
        "Since strings can't be changed, they are safer to use in programs and less likely to cause bugs.\n",
        "\n",
        "* Memory efficiency\n",
        "Immutable strings can be shared in memory, which saves space.\n",
        "\n",
        "* Hashing support\n",
        "Because strings don't change, they can be used as keys in dictionaries (which require hashable types).\n",
        "\n",
        "Strings are immutable to keep data safe, efficient, and usable as keys in hash-based data structures like dictionaries."
      ],
      "metadata": {
        "id": "6YFbS9_7k4uU"
      }
    },
    {
      "cell_type": "markdown",
      "source": [
        " 11.What advantages do dictionaries offer over lists for certain tasks?\n",
        "\n",
        " Dictionaries in Python store data in key-value pairs, while lists store data using index positions.\n",
        "\n",
        " Advantages of Dictionaries Over Lists:\n",
        "* Fast lookups\n",
        "You can quickly find a value using a key, without searching through the whole list.\n",
        "\n",
        "* Meaningful keys\n",
        "Instead of remembering index numbers, you can use meaningful names (like \"name\", \"age\").\n",
        "\n",
        "* Better organization\n",
        "Good for storing structured data (like a student’s details, settings, etc.).\n",
        "\n",
        "* No need to remember order\n",
        "You access data by key, not by position, which is easier and more flexible.\n",
        "\n",
        "```\n",
        "# Using a list\n",
        "student_list = [\"Alice\", 20]\n",
        "print(student_list[0])  # Hard to know what index 0 means\n",
        "\n",
        "# Using a dictionary\n",
        "student_dict = {\"name\": \"Alice\", \"age\": 20}\n",
        "print(student_dict[\"name\"])  # Clear and readable\n",
        "\n",
        "```\n",
        "\n"
      ],
      "metadata": {
        "id": "XKqINDmElbEL"
      }
    },
    {
      "cell_type": "markdown",
      "source": [
        " 12.Describe a scenario where using a tuple would be preferable over a list?\n",
        "\n",
        " You should use a tuple instead of a list when you want the data to be fixed and unchangeable.\n"
      ],
      "metadata": {
        "id": "uRsO62--l92_"
      }
    },
    {
      "cell_type": "code",
      "source": [
        "location = (19.0760, 72.8777)  # Tuple\n"
      ],
      "metadata": {
        "id": "eOafmn51mP69"
      },
      "execution_count": 9,
      "outputs": []
    },
    {
      "cell_type": "markdown",
      "source": [
        "Since the location shouldn’t change, using a tuple helps protect the data.\n",
        "\n",
        "Why we use a tuple here?\n",
        "* The data should not be modified.\n",
        "* Tuples are faster and use less memory than lists.\n",
        "* Tuples can be used as keys in dictionaries, but lists cannot.\n",
        "\n",
        "Use a tuple when the data should stay constant, like dates, coordinates, or fixed settings.like adhar card."
      ],
      "metadata": {
        "id": "FyxkbLz8mTst"
      }
    },
    {
      "cell_type": "markdown",
      "source": [
        "13.How do sets handle duplicate values in Python?\\\n",
        "Sets automatically remove duplicate values in Python.\n",
        "A set only keeps unique elements."
      ],
      "metadata": {
        "id": "KgWLzWWimtPe"
      }
    },
    {
      "cell_type": "code",
      "source": [
        "my_set = {1, 2, 2, 3, 3, 3}\n",
        "print(my_set)\n"
      ],
      "metadata": {
        "colab": {
          "base_uri": "https://localhost:8080/"
        },
        "id": "oFH1P1k7nJpf",
        "outputId": "46c02927-bb66-42cc-d79c-e17d418a1e96"
      },
      "execution_count": 10,
      "outputs": [
        {
          "output_type": "stream",
          "name": "stdout",
          "text": [
            "{1, 2, 3}\n"
          ]
        }
      ]
    },
    {
      "cell_type": "markdown",
      "source": [
        " 14.How does the “in” keyword work differently for lists and dictionaries?\\\n",
        " The in keyword is used to check if something exists, but it works differently for lists and dictionaries.\n",
        "\n",
        " Dictionary:\\\n",
        "in checks if a key (not a value) is present in the dictionary.\n",
        "```\n",
        "my_dict = {\"name\": \"Alice\", \"age\": 25}\n",
        "print(\"name\" in my_dict)    # Output: True\n",
        "print(\"Alice\" in my_dict)   # Output: False\n",
        "\n",
        "```\n",
        "n a List:\\\n",
        "in checks if a value is present in the list.\\\n",
        "```\n",
        "my_list = [10, 20, 30]\n",
        "print(20 in my_list)  # Output: True\n",
        "```\n",
        "\n",
        "\n"
      ],
      "metadata": {
        "id": "nE9qRYXlmGYh"
      }
    },
    {
      "cell_type": "markdown",
      "source": [
        "15.Can you modify the elements of a tuple? Explain why or why not?\\\n",
        "\n",
        "No, you cannot modify the elements of a tuple in Python.\\\n",
        "This is because tuples are immutable, meaning their values cannot be changed, added, or removed once the tuple is created. \\\n",
        "Immutability helps protect data from accidental changes.\\\n",
        "It makes tuples faster and memory-efficient.\\\n",
        "Tuples can be used as keys in dictionaries because they are unchangeable."
      ],
      "metadata": {
        "id": "PNFQcW4QoSnQ"
      }
    },
    {
      "cell_type": "markdown",
      "source": [
        "16.What is a nested dictionary, and give an example of its use case?\n",
        "\n",
        "A nested dictionary is a dictionary that contains another dictionary as a value.\n",
        "It’s used to store complex or grouped data in a structured way.\n",
        "\n",
        "example:\n",
        "\n"
      ],
      "metadata": {
        "id": "72yAGgwDpD2Z"
      }
    },
    {
      "cell_type": "code",
      "source": [
        "students = {\n",
        "    \"student1\": {\"name\": \"Alice\", \"age\": 20},\n",
        "    \"student2\": {\"name\": \"Bob\", \"age\": 22}\n",
        "}\n",
        "print(students[\"student1\"][\"name\"])"
      ],
      "metadata": {
        "colab": {
          "base_uri": "https://localhost:8080/"
        },
        "id": "dySfXz5VphjM",
        "outputId": "a4420b13-1149-475f-d128-3c9d612b8011"
      },
      "execution_count": 11,
      "outputs": [
        {
          "output_type": "stream",
          "name": "stdout",
          "text": [
            "Alice\n"
          ]
        }
      ]
    },
    {
      "cell_type": "markdown",
      "source": [
        "Nested dictionaries are useful for storing information like:\n",
        "\n",
        "Student records\n",
        "\n",
        "Employee details\n",
        "\n",
        "Product catalogs\n",
        "\n",
        "JSON-like data structures\n",
        "\n",
        " A nested dictionary stores related data in a dictionary inside another dictionary, making it easier to manage complex information."
      ],
      "metadata": {
        "id": "S32BlTCnpmx4"
      }
    },
    {
      "cell_type": "markdown",
      "source": [
        "17.Describe the time complexity of accessing elements in a dictionary?\n",
        "\n",
        "In Python, accessing elements in a dictionary is very fast.\n",
        "\n",
        "* The average time complexity for accessing an element by key is:\n",
        "O(1) → Constant time \\\n",
        "(What is \"constant time O(1)\"?\\\n",
        "O(1) means constant time in terms of time complexity.\n",
        "\n",
        "O(1) = One step, always quick.\n",
        "\n",
        "O(n) = Time increases as the data grows.)\n",
        "\n",
        "This means that the operation (like accessing a dictionary value) always takes the same amount of time, no matter how big the data is.\n",
        "\n",
        "This means it takes the same amount of time, no matter how big the dictionary is.\n",
        "\n",
        "*  Why so fast?\n",
        "Because Python dictionaries use a hash table, which allows quick lookup by using the hash of the key.\n",
        "\n",
        "* In rare cases:\n",
        "The worst-case time complexity can be O(n), but this is very rare and happens only if many keys have the same hash (called a collision).\n",
        "\n"
      ],
      "metadata": {
        "id": "pWlDL5tTptxy"
      }
    },
    {
      "cell_type": "markdown",
      "source": [
        "18.In what situations are lists preferred over dictionaries?\n",
        "\n",
        "1. Order Matters\n",
        "Lists maintain the order of items, which is useful when the position of data is important.\n",
        "```\n",
        "fruits = [\"apple\", \"banana\", \"cherry\"]\n",
        "print(fruits[0])  # Output: apple\n",
        "```\n",
        "2. You Only Need Values\n",
        "If you just need a collection of values (not key-value pairs), a list is simpler and easier.\n",
        "\n",
        "3. You Need to Loop Through Items in Order\n",
        "Lists are great when you want to process items in the order they were added.\n",
        "\n",
        "4. Memory Efficiency\n",
        "Lists generally use less memory than dictionaries when storing simple data.\n",
        "\n",
        "5. Indexed Access\n",
        "When you want to access items by their position (like item 0, 1, 2), use a list.\n",
        "\n",
        "Use a list when you care about the order, just need a simple collection of values, or want to access items by index."
      ],
      "metadata": {
        "id": "mSD0jfljq76e"
      }
    },
    {
      "cell_type": "markdown",
      "source": [
        " 19.Why are dictionaries considered unordered, and how does that affect data retrieval?\n",
        "\n",
        " In older versions of Python (before 3.7), dictionaries were considered unordered, meaning the items did not maintain the order in which they were added.\n",
        "\n",
        "From Python 3.7 onwards, dictionaries do preserve insertion order, but they are still mainly used for key-based access, not position-based access.\n",
        "\n",
        " How It Affects Data Retrieval:\\\n",
        "You retrieve values by key, not by their position.\n",
        "\n",
        "You cannot rely on the order of items like you can with a list (especially in older versions).\n",
        "\n",
        "If order matters in your program, it's better to use a list or OrderedDict (in older Python).\n",
        "\n",
        "Dictionaries are considered unordered because they are designed for fast key lookups, not for maintaining the order of items. This means you retrieve data using keys, not positions."
      ],
      "metadata": {
        "id": "4Vhx2dZtryhS"
      }
    },
    {
      "cell_type": "markdown",
      "source": [
        " 20.Explain the difference between a list and a dictionary in terms of data retrieval?\n",
        "\n",
        " | Feature            | List               | Dictionary               |\n",
        "| ------------------ | ------------------ | ------------------------ |\n",
        "| **Access by**      | Index (number)     | Key (label)              |\n",
        "| **Order matters?** | Yes                | No (not always)          |\n",
        "| **Use case**       | Simple collections | Structured, labeled data |\n",
        "\n",
        "Use a list when you access items by position.\n",
        "\n",
        "Use a dictionary when you access items by name (key)."
      ],
      "metadata": {
        "id": "Q1I1U-R0sYZY"
      }
    },
    {
      "cell_type": "markdown",
      "source": [
        "# Practical Questions"
      ],
      "metadata": {
        "id": "0SmuCwQYs0G1"
      }
    },
    {
      "cell_type": "markdown",
      "source": [
        "# 1. Create a string with your name and print it\n"
      ],
      "metadata": {
        "id": "WXnz-9Sts7vm"
      }
    },
    {
      "cell_type": "code",
      "source": [
        "my_name = \"Vrushali\"\n",
        "print(\"My name is:\", my_name)"
      ],
      "metadata": {
        "colab": {
          "base_uri": "https://localhost:8080/"
        },
        "id": "WQhDR4-Ctc_q",
        "outputId": "819d1357-10b6-465d-e6cf-e9785825c28c"
      },
      "execution_count": 12,
      "outputs": [
        {
          "output_type": "stream",
          "name": "stdout",
          "text": [
            "My name is: Vrushali\n"
          ]
        }
      ]
    },
    {
      "cell_type": "markdown",
      "source": [
        "# 2. Find the length of the string \"Hello World\""
      ],
      "metadata": {
        "id": "t2ps6P33tlzN"
      }
    },
    {
      "cell_type": "code",
      "source": [
        "text = \"Hello World\"\n",
        "print(\"Length of the string:\", len(text))\n"
      ],
      "metadata": {
        "colab": {
          "base_uri": "https://localhost:8080/"
        },
        "id": "CorEthjStmsg",
        "outputId": "5333cac8-eab9-4e03-c9e4-95b06b6132be"
      },
      "execution_count": 13,
      "outputs": [
        {
          "output_type": "stream",
          "name": "stdout",
          "text": [
            "Length of the string: 11\n"
          ]
        }
      ]
    },
    {
      "cell_type": "markdown",
      "source": [
        "# 3. Slice the first 3 characters from the string \"Python Programming\""
      ],
      "metadata": {
        "id": "bHnjw7jItroo"
      }
    },
    {
      "cell_type": "code",
      "source": [
        "sentence = \"Python Programming\"\n",
        "print(\"First 3 characters:\", sentence[:3])\n"
      ],
      "metadata": {
        "colab": {
          "base_uri": "https://localhost:8080/"
        },
        "id": "9Vee_P0OtfH3",
        "outputId": "e2075aae-ffc8-4cee-c5fd-518573386ac9"
      },
      "execution_count": 14,
      "outputs": [
        {
          "output_type": "stream",
          "name": "stdout",
          "text": [
            "First 3 characters: Pyt\n"
          ]
        }
      ]
    },
    {
      "cell_type": "markdown",
      "source": [
        "# 4. Convert the string \"hello\" to uppercase"
      ],
      "metadata": {
        "id": "GWxJPD8kt2tQ"
      }
    },
    {
      "cell_type": "code",
      "source": [
        "word = \"hello\"\n",
        "print(\"Uppercase:\", word.upper())\n"
      ],
      "metadata": {
        "colab": {
          "base_uri": "https://localhost:8080/"
        },
        "id": "k3R42Dzxt3bi",
        "outputId": "82b29809-e05f-450c-c6fe-c53b20017aaa"
      },
      "execution_count": 15,
      "outputs": [
        {
          "output_type": "stream",
          "name": "stdout",
          "text": [
            "Uppercase: HELLO\n"
          ]
        }
      ]
    },
    {
      "cell_type": "markdown",
      "source": [
        "# 5. Replace the word \"apple\" with \"orange\" in the string \"I like apple\""
      ],
      "metadata": {
        "id": "Fbyf9cB7t8mX"
      }
    },
    {
      "cell_type": "code",
      "source": [
        "fruit_sentence = \"I like apple\"\n",
        "print(\"After replacement:\", fruit_sentence.replace(\"apple\", \"orange\"))\n"
      ],
      "metadata": {
        "colab": {
          "base_uri": "https://localhost:8080/"
        },
        "id": "yR98X2KKt9uS",
        "outputId": "08ee7273-be93-4254-e16d-cff2bdacf853"
      },
      "execution_count": 16,
      "outputs": [
        {
          "output_type": "stream",
          "name": "stdout",
          "text": [
            "After replacement: I like orange\n"
          ]
        }
      ]
    },
    {
      "cell_type": "markdown",
      "source": [
        "# 6. Create a list with numbers 1 to 5 and print it"
      ],
      "metadata": {
        "id": "2VoyuxfFuCSq"
      }
    },
    {
      "cell_type": "code",
      "source": [
        "num_list = [1, 2, 3, 4, 5]\n",
        "print(\"List from 1 to 5:\", num_list)"
      ],
      "metadata": {
        "colab": {
          "base_uri": "https://localhost:8080/"
        },
        "id": "GXNaI3nwuDFz",
        "outputId": "df759bd2-786d-4efe-824f-2994bc66d115"
      },
      "execution_count": 17,
      "outputs": [
        {
          "output_type": "stream",
          "name": "stdout",
          "text": [
            "List from 1 to 5: [1, 2, 3, 4, 5]\n"
          ]
        }
      ]
    },
    {
      "cell_type": "markdown",
      "source": [
        "# 7. Append the number 10 to the list [1, 2, 3, 4]"
      ],
      "metadata": {
        "id": "pHuzHjl5uHME"
      }
    },
    {
      "cell_type": "code",
      "source": [
        "my_list = [1, 2, 3, 4]\n",
        "my_list.append(10)\n",
        "print(\"After appending 10:\", my_list)"
      ],
      "metadata": {
        "colab": {
          "base_uri": "https://localhost:8080/"
        },
        "id": "3HTPpANduIBF",
        "outputId": "8860b5c6-5a8e-4330-ee75-2bca88f0c852"
      },
      "execution_count": 18,
      "outputs": [
        {
          "output_type": "stream",
          "name": "stdout",
          "text": [
            "After appending 10: [1, 2, 3, 4, 10]\n"
          ]
        }
      ]
    },
    {
      "cell_type": "markdown",
      "source": [
        "# 8. Remove the number 3 from the list [1, 2, 3, 4, 5]"
      ],
      "metadata": {
        "id": "kgkh0VUhuK9Y"
      }
    },
    {
      "cell_type": "code",
      "source": [
        "my_list2 = [1, 2, 3, 4, 5]\n",
        "my_list2.remove(3)\n",
        "print(\"After removing 3:\", my_list2)"
      ],
      "metadata": {
        "colab": {
          "base_uri": "https://localhost:8080/"
        },
        "id": "1RR0qHmSuNN_",
        "outputId": "f9f954bf-5cb1-4fdb-9281-452e06abc87d"
      },
      "execution_count": 19,
      "outputs": [
        {
          "output_type": "stream",
          "name": "stdout",
          "text": [
            "After removing 3: [1, 2, 4, 5]\n"
          ]
        }
      ]
    },
    {
      "cell_type": "markdown",
      "source": [
        "# 9. Access the second element in the list ['a', 'b', 'c', 'd']"
      ],
      "metadata": {
        "id": "qAPPI3U_uQLs"
      }
    },
    {
      "cell_type": "code",
      "source": [
        "letters = ['a', 'b', 'c', 'd']\n",
        "print(\"Second element:\", letters[1])"
      ],
      "metadata": {
        "colab": {
          "base_uri": "https://localhost:8080/"
        },
        "id": "ESdf13q3uSkY",
        "outputId": "5a5e3dce-aff4-4514-d5ea-ed9c33ee58cc"
      },
      "execution_count": 20,
      "outputs": [
        {
          "output_type": "stream",
          "name": "stdout",
          "text": [
            "Second element: b\n"
          ]
        }
      ]
    },
    {
      "cell_type": "markdown",
      "source": [
        "# 10. Reverse the list [10, 20, 30, 40, 50]"
      ],
      "metadata": {
        "id": "Y_cahWM4uXKk"
      }
    },
    {
      "cell_type": "code",
      "source": [
        "nums = [10, 20, 30, 40, 50]\n",
        "nums.reverse()\n",
        "print(\"Reversed list:\", nums)"
      ],
      "metadata": {
        "colab": {
          "base_uri": "https://localhost:8080/"
        },
        "id": "s1l2WFzuuYw-",
        "outputId": "708ccf53-dbf0-4d0e-de6f-2324d85a03ae"
      },
      "execution_count": 21,
      "outputs": [
        {
          "output_type": "stream",
          "name": "stdout",
          "text": [
            "Reversed list: [50, 40, 30, 20, 10]\n"
          ]
        }
      ]
    },
    {
      "cell_type": "markdown",
      "source": [
        "# 11. Create a tuple with the elements 100, 200, 300 and print it"
      ],
      "metadata": {
        "id": "yp6NbJtjudcn"
      }
    },
    {
      "cell_type": "code",
      "source": [
        "my_tuple = (100, 200, 300)\n",
        "print(\"Tuple:\", my_tuple)\n"
      ],
      "metadata": {
        "colab": {
          "base_uri": "https://localhost:8080/"
        },
        "id": "p96xyMDnuk1t",
        "outputId": "c975995c-0917-4608-b91e-15ba618e4fc6"
      },
      "execution_count": 22,
      "outputs": [
        {
          "output_type": "stream",
          "name": "stdout",
          "text": [
            "Tuple: (100, 200, 300)\n"
          ]
        }
      ]
    },
    {
      "cell_type": "markdown",
      "source": [
        "# 12. Access the second-to-last element of the tuple"
      ],
      "metadata": {
        "id": "IOAdHXS9un1U"
      }
    },
    {
      "cell_type": "code",
      "source": [
        "colors = ('red', 'green', 'blue', 'yellow')\n",
        "print(\"Second-to-last element:\", colors[-2])"
      ],
      "metadata": {
        "colab": {
          "base_uri": "https://localhost:8080/"
        },
        "id": "Lb-GrGiQuq8Q",
        "outputId": "7c1c12c8-d092-4bfd-a8fb-fd263620ed64"
      },
      "execution_count": 23,
      "outputs": [
        {
          "output_type": "stream",
          "name": "stdout",
          "text": [
            "Second-to-last element: blue\n"
          ]
        }
      ]
    },
    {
      "cell_type": "markdown",
      "source": [
        "# 13. Find the minimum number in the tuple"
      ],
      "metadata": {
        "id": "kd9sFQ8Nuu1M"
      }
    },
    {
      "cell_type": "code",
      "source": [
        "numbers = (10, 20, 5, 15)\n",
        "print(\"Minimum number:\", min(numbers))"
      ],
      "metadata": {
        "colab": {
          "base_uri": "https://localhost:8080/"
        },
        "id": "__fGYBDOu2Ip",
        "outputId": "16a85c10-df07-42b7-f8b9-703b13ac6543"
      },
      "execution_count": 24,
      "outputs": [
        {
          "output_type": "stream",
          "name": "stdout",
          "text": [
            "Minimum number: 5\n"
          ]
        }
      ]
    },
    {
      "cell_type": "markdown",
      "source": [
        "# 14. Find the index of the element \"cat\""
      ],
      "metadata": {
        "id": "m7PUd-7su-ZD"
      }
    },
    {
      "cell_type": "code",
      "source": [
        "animals = ('dog', 'cat', 'rabbit')\n",
        "print(\"Index of 'cat':\", animals.index('cat'))\n"
      ],
      "metadata": {
        "colab": {
          "base_uri": "https://localhost:8080/"
        },
        "id": "82plWJh3u_fO",
        "outputId": "8ad42a89-c6a3-44d2-c7c0-0076e82c6542"
      },
      "execution_count": 25,
      "outputs": [
        {
          "output_type": "stream",
          "name": "stdout",
          "text": [
            "Index of 'cat': 1\n"
          ]
        }
      ]
    },
    {
      "cell_type": "markdown",
      "source": [
        "# 15. Create a tuple with three fruits and check if \"kiwi\" is in it"
      ],
      "metadata": {
        "id": "Sx4rjV0evGkU"
      }
    },
    {
      "cell_type": "code",
      "source": [
        "fruits = ('apple', 'banana', 'mango')\n",
        "print(\"Is 'kiwi' in fruits?\", \"kiwi\" in fruits)"
      ],
      "metadata": {
        "colab": {
          "base_uri": "https://localhost:8080/"
        },
        "id": "fia1xzJZvHfa",
        "outputId": "37bdb27f-351f-4789-96f6-a34bf35a7ac7"
      },
      "execution_count": 26,
      "outputs": [
        {
          "output_type": "stream",
          "name": "stdout",
          "text": [
            "Is 'kiwi' in fruits? False\n"
          ]
        }
      ]
    },
    {
      "cell_type": "markdown",
      "source": [
        "# 16. Create a set with elements 'a', 'b', 'c' and print it"
      ],
      "metadata": {
        "id": "WwXeLkRhvKnR"
      }
    },
    {
      "cell_type": "code",
      "source": [
        "my_set = {'a', 'b', 'c'}\n",
        "print(\"Set:\", my_set)"
      ],
      "metadata": {
        "colab": {
          "base_uri": "https://localhost:8080/"
        },
        "id": "JTT7SQAJvOc-",
        "outputId": "d236eed6-1c27-43cb-c858-9504018d3d73"
      },
      "execution_count": 27,
      "outputs": [
        {
          "output_type": "stream",
          "name": "stdout",
          "text": [
            "Set: {'c', 'b', 'a'}\n"
          ]
        }
      ]
    },
    {
      "cell_type": "markdown",
      "source": [
        "# 17. Clear all elements from the set\n"
      ],
      "metadata": {
        "id": "xbrjHpd7vVy6"
      }
    },
    {
      "cell_type": "code",
      "source": [
        "set1 = {1, 2, 3, 4, 5}\n",
        "set1.clear()\n",
        "print(\"Cleared set:\", set1)"
      ],
      "metadata": {
        "colab": {
          "base_uri": "https://localhost:8080/"
        },
        "id": "sgqsuY46vaGL",
        "outputId": "d29445fb-2508-4171-ee84-d0cf5bbe5521"
      },
      "execution_count": 28,
      "outputs": [
        {
          "output_type": "stream",
          "name": "stdout",
          "text": [
            "Cleared set: set()\n"
          ]
        }
      ]
    },
    {
      "cell_type": "markdown",
      "source": [
        "# 18. Remove the element 4 from the set"
      ],
      "metadata": {
        "id": "rteA7ryPvrKt"
      }
    },
    {
      "cell_type": "code",
      "source": [
        "set2 = {1, 2, 3, 4}\n",
        "set2.remove(4)\n",
        "print(\"After removing 4:\", set2)"
      ],
      "metadata": {
        "colab": {
          "base_uri": "https://localhost:8080/"
        },
        "id": "LhQ9ohDCvsgO",
        "outputId": "76c35a0a-4ac7-46ad-b32f-fd70f6b03254"
      },
      "execution_count": 29,
      "outputs": [
        {
          "output_type": "stream",
          "name": "stdout",
          "text": [
            "After removing 4: {1, 2, 3}\n"
          ]
        }
      ]
    },
    {
      "cell_type": "markdown",
      "source": [
        "# 19. Find the union of two sets"
      ],
      "metadata": {
        "id": "DpzCqEqwvxXZ"
      }
    },
    {
      "cell_type": "code",
      "source": [
        "a = {1, 2, 3}\n",
        "b = {3, 4, 5}\n",
        "print(\"Union:\", a.union(b))"
      ],
      "metadata": {
        "colab": {
          "base_uri": "https://localhost:8080/"
        },
        "id": "3t6QGPKLv0ap",
        "outputId": "529fd38d-0931-4977-a978-bc2e061fb413"
      },
      "execution_count": 30,
      "outputs": [
        {
          "output_type": "stream",
          "name": "stdout",
          "text": [
            "Union: {1, 2, 3, 4, 5}\n"
          ]
        }
      ]
    },
    {
      "cell_type": "markdown",
      "source": [
        "# 20. Find the intersection of two sets"
      ],
      "metadata": {
        "id": "mpRkRbyVv3CT"
      }
    },
    {
      "cell_type": "code",
      "source": [
        "x = {1, 2, 3}\n",
        "y = {2, 3, 4}\n",
        "print(\"Intersection:\", x.intersection(y))"
      ],
      "metadata": {
        "colab": {
          "base_uri": "https://localhost:8080/"
        },
        "id": "gSJdOQqOv8qq",
        "outputId": "6e5a8e1b-9796-4dbd-a32d-233a8617656b"
      },
      "execution_count": 31,
      "outputs": [
        {
          "output_type": "stream",
          "name": "stdout",
          "text": [
            "Intersection: {2, 3}\n"
          ]
        }
      ]
    },
    {
      "cell_type": "markdown",
      "source": [
        "# 21. Create a dictionary with keys \"name\", \"age\", and \"city\""
      ],
      "metadata": {
        "id": "AYTiFwZqwBMy"
      }
    },
    {
      "cell_type": "code",
      "source": [
        "person = {\"name\": \"Alice\", \"age\": 30, \"city\": \"Paris\"}\n",
        "print(\"Dictionary:\", person)\n"
      ],
      "metadata": {
        "colab": {
          "base_uri": "https://localhost:8080/"
        },
        "id": "fg-skubYwCU-",
        "outputId": "f5e13516-2d6e-49e7-f53d-4eebd861cdfa"
      },
      "execution_count": 32,
      "outputs": [
        {
          "output_type": "stream",
          "name": "stdout",
          "text": [
            "Dictionary: {'name': 'Alice', 'age': 30, 'city': 'Paris'}\n"
          ]
        }
      ]
    },
    {
      "cell_type": "markdown",
      "source": [
        "# 22. Add new key-value pair \"country\": \"USA\""
      ],
      "metadata": {
        "id": "P4vNRpPGwGpy"
      }
    },
    {
      "cell_type": "code",
      "source": [
        "person2 = {'name': 'John', 'age': 25}\n",
        "person2['country'] = 'USA'\n",
        "print(\"Updated dictionary:\", person2)"
      ],
      "metadata": {
        "colab": {
          "base_uri": "https://localhost:8080/"
        },
        "id": "if1-qgBbwHfK",
        "outputId": "3a880dc2-c9ac-402c-9419-4843b330f7e3"
      },
      "execution_count": 33,
      "outputs": [
        {
          "output_type": "stream",
          "name": "stdout",
          "text": [
            "Updated dictionary: {'name': 'John', 'age': 25, 'country': 'USA'}\n"
          ]
        }
      ]
    },
    {
      "cell_type": "markdown",
      "source": [
        "23. Access the value associated with the key \"name\"\n"
      ],
      "metadata": {
        "id": "iO1MEe1awKYC"
      }
    },
    {
      "cell_type": "code",
      "source": [
        "person3 = {'name': 'Alice', 'age': 30}\n",
        "print(\"Value of 'name':\", person3['name'])"
      ],
      "metadata": {
        "colab": {
          "base_uri": "https://localhost:8080/"
        },
        "id": "-IFstfwawNjt",
        "outputId": "cbdc5039-4269-480b-b748-96ad19a35599"
      },
      "execution_count": 34,
      "outputs": [
        {
          "output_type": "stream",
          "name": "stdout",
          "text": [
            "Value of 'name': Alice\n"
          ]
        }
      ]
    },
    {
      "cell_type": "markdown",
      "source": [
        "# 24. Remove the key \"age\""
      ],
      "metadata": {
        "id": "iRRnorg7wUuz"
      }
    },
    {
      "cell_type": "code",
      "source": [
        "person4 = {'name': 'Bob', 'age': 22, 'city': 'New York'}\n",
        "del person4['age']\n",
        "print(\"After removing 'age':\", person4)"
      ],
      "metadata": {
        "colab": {
          "base_uri": "https://localhost:8080/"
        },
        "id": "XPae9kErwVhc",
        "outputId": "52766d14-ddcb-4033-d1cf-b0a0a62de80c"
      },
      "execution_count": 35,
      "outputs": [
        {
          "output_type": "stream",
          "name": "stdout",
          "text": [
            "After removing 'age': {'name': 'Bob', 'city': 'New York'}\n"
          ]
        }
      ]
    },
    {
      "cell_type": "markdown",
      "source": [
        "# 25. Check if the key \"city\" exists"
      ],
      "metadata": {
        "id": "p74cCtcvwZC3"
      }
    },
    {
      "cell_type": "code",
      "source": [
        "person5 = {'name': 'Alice', 'city': 'Paris'}\n",
        "print(\"Does 'city' exist?\", \"city\" in person5)"
      ],
      "metadata": {
        "colab": {
          "base_uri": "https://localhost:8080/"
        },
        "id": "nwcQET-mwcE-",
        "outputId": "92e673ef-c094-4df8-a96e-492a63488aff"
      },
      "execution_count": 36,
      "outputs": [
        {
          "output_type": "stream",
          "name": "stdout",
          "text": [
            "Does 'city' exist? True\n"
          ]
        }
      ]
    },
    {
      "cell_type": "markdown",
      "source": [
        "# 26. Create a list, a tuple, and a dictionary, and print them all"
      ],
      "metadata": {
        "id": "ytl6rKjowgqr"
      }
    },
    {
      "cell_type": "code",
      "source": [
        "my_list = [1, 2, 3]\n",
        "my_tuple2 = (4, 5, 6)\n",
        "my_dict = {'a': 1, 'b': 2}\n",
        "print(\"List:\", my_list)\n",
        "print(\"Tuple:\", my_tuple2)\n",
        "print(\"Dictionary:\", my_dict)"
      ],
      "metadata": {
        "colab": {
          "base_uri": "https://localhost:8080/"
        },
        "id": "S5Xqir2XwjnQ",
        "outputId": "9efc6b5a-ebb6-4aaa-ebcc-40094f3d816b"
      },
      "execution_count": 37,
      "outputs": [
        {
          "output_type": "stream",
          "name": "stdout",
          "text": [
            "List: [1, 2, 3]\n",
            "Tuple: (4, 5, 6)\n",
            "Dictionary: {'a': 1, 'b': 2}\n"
          ]
        }
      ]
    },
    {
      "cell_type": "markdown",
      "source": [
        "# 27. Create a list of 5 random numbers between 1 and 100, sort and print"
      ],
      "metadata": {
        "id": "VzhB_oEmwmdz"
      }
    },
    {
      "cell_type": "code",
      "source": [
        "import random\n",
        "rand_nums = random.sample(range(1, 101), 5)\n",
        "rand_nums.sort()\n",
        "print(\"Sorted random numbers:\", rand_nums)\n"
      ],
      "metadata": {
        "colab": {
          "base_uri": "https://localhost:8080/"
        },
        "id": "m8eiJ_rAwqQ6",
        "outputId": "2c8acbb4-66b6-479a-cf9a-824dcb15d238"
      },
      "execution_count": 38,
      "outputs": [
        {
          "output_type": "stream",
          "name": "stdout",
          "text": [
            "Sorted random numbers: [18, 26, 35, 79, 85]\n"
          ]
        }
      ]
    },
    {
      "cell_type": "markdown",
      "source": [
        "# 28. Create a list with strings and print the element at the third index"
      ],
      "metadata": {
        "id": "6eVQcvwMwt-C"
      }
    },
    {
      "cell_type": "code",
      "source": [
        "words = [\"apple\", \"banana\", \"cherry\", \"date\", \"elderberry\"]\n",
        "print(\"Element at index 3:\", words[3])"
      ],
      "metadata": {
        "colab": {
          "base_uri": "https://localhost:8080/"
        },
        "id": "ev0gfMR6wxjt",
        "outputId": "a94fa313-e8bd-48fd-b8c5-bdd413f0e4c8"
      },
      "execution_count": 39,
      "outputs": [
        {
          "output_type": "stream",
          "name": "stdout",
          "text": [
            "Element at index 3: date\n"
          ]
        }
      ]
    },
    {
      "cell_type": "markdown",
      "source": [
        "# 29. Combine two dictionaries into one"
      ],
      "metadata": {
        "id": "do7fnnoow3Pe"
      }
    },
    {
      "cell_type": "code",
      "source": [
        "dict1 = {'a': 1, 'b': 2}\n",
        "dict2 = {'c': 3, 'd': 4}\n",
        "combined_dict = {**dict1, **dict2}\n",
        "print(\"Combined dictionary:\", combined_dict)"
      ],
      "metadata": {
        "colab": {
          "base_uri": "https://localhost:8080/"
        },
        "id": "z5V-m99Jw5vf",
        "outputId": "2b415de7-4b71-438d-b8d3-6d6e6115f593"
      },
      "execution_count": 40,
      "outputs": [
        {
          "output_type": "stream",
          "name": "stdout",
          "text": [
            "Combined dictionary: {'a': 1, 'b': 2, 'c': 3, 'd': 4}\n"
          ]
        }
      ]
    },
    {
      "cell_type": "markdown",
      "source": [
        "# 30. Convert a list of strings into a set"
      ],
      "metadata": {
        "id": "XhNCsUY8w9Qb"
      }
    },
    {
      "cell_type": "code",
      "source": [
        "str_list = [\"apple\", \"banana\", \"apple\", \"cherry\"]\n",
        "str_set = set(str_list)\n",
        "print(\"Set of strings:\", str_set)"
      ],
      "metadata": {
        "colab": {
          "base_uri": "https://localhost:8080/"
        },
        "id": "fHlAvhXVxBoB",
        "outputId": "6db31a23-895a-4f44-ce75-6cc9ecba74fa"
      },
      "execution_count": 41,
      "outputs": [
        {
          "output_type": "stream",
          "name": "stdout",
          "text": [
            "Set of strings: {'apple', 'banana', 'cherry'}\n"
          ]
        }
      ]
    }
  ]
}