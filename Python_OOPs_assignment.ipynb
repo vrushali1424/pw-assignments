{
  "nbformat": 4,
  "nbformat_minor": 0,
  "metadata": {
    "colab": {
      "provenance": []
    },
    "kernelspec": {
      "name": "python3",
      "display_name": "Python 3"
    },
    "language_info": {
      "name": "python"
    }
  },
  "cells": [
    {
      "cell_type": "code",
      "execution_count": null,
      "metadata": {
        "id": "LxZWL5G6ndO2"
      },
      "outputs": [],
      "source": []
    },
    {
      "cell_type": "markdown",
      "source": [
        " # What is Object-Oriented Programming (OOP)?\n",
        "\n",
        "\n"
      ],
      "metadata": {
        "id": "7uuD5kLOnpG5"
      }
    },
    {
      "cell_type": "markdown",
      "source": [
        "Object-Oriented Programming (OOP) is a programming style that organizes software design around objects rather than functions or logic. An object represents a real-world entity and contains both data (called attributes) and methods (functions or behaviors) that operate on the data.\n",
        "\n",
        "The main principles of OOP are:\n",
        "\n",
        "Class: A blueprint for creating objects, defining attributes and behaviors.\n",
        "\n",
        "Object: An instance of a class with specific values.\n",
        "\n",
        "Encapsulation: Keeping data and methods together and restricting access to the inner workings.\n",
        "\n",
        "Inheritance: Creating new classes from existing ones, inheriting their properties and methods.\n",
        "\n",
        "Polymorphism: The ability to process objects differently based on their class, allowing methods to behave differently.\n",
        "\n",
        "Abstraction: Hiding complex details while exposing only the essential features.\n",
        "\n",
        "OOP helps in creating modular, reusable, and easy-to-maintain code by modeling programs based on real-world entities.\n",
        "\n"
      ],
      "metadata": {
        "id": "sO9o3o8E-oxR"
      }
    },
    {
      "cell_type": "markdown",
      "source": [
        "#2.What is a class in OOP?"
      ],
      "metadata": {
        "id": "4M7UiUAb-szs"
      }
    },
    {
      "cell_type": "markdown",
      "source": [
        "\n",
        "A class in Object-Oriented Programming (OOP) is a blueprint or template for creating objects. It defines a set of attributes (data/variables) and methods (functions/behaviors) that the objects created from the class will have.\n",
        "\n",
        "In other words, a class describes what an object is and can do, but it is not the object itself. Objects are created (or instantiated) from a class.\n",
        "\n",
        "Example:\n",
        "If you have a class named Car, it might define:\n",
        "\n",
        "Attributes: color, model, speed\n",
        "\n",
        "Methods: start(), stop(), accelerate()\n",
        "\n",
        "Each specific car (object) created from this class will have these properties and behaviors."
      ],
      "metadata": {
        "id": "Q3TCuIyz-x71"
      }
    },
    {
      "cell_type": "markdown",
      "source": [
        "# 3.What is an object in OOP?"
      ],
      "metadata": {
        "id": "RghbNukS_BqG"
      }
    },
    {
      "cell_type": "markdown",
      "source": [
        "\n",
        "An object in Object-Oriented Programming (OOP) is an instance of a class. It represents a specific entity with real values for the attributes defined by the class, and it can perform the behaviors (methods) described by that class.\n",
        "\n",
        "Think of an object as a concrete example created from the blueprint (class).\n",
        "\n",
        "Example:\n",
        "If Car is a class, then a specific car like a red Toyota Corolla moving at 60 km/h is an object of that class.\n",
        "\n",
        "Each object has its own unique data but shares the structure and behavior defined by the class."
      ],
      "metadata": {
        "id": "RyoqbcyY_LZt"
      }
    },
    {
      "cell_type": "markdown",
      "source": [
        "#4.What is the difference between abstraction and encapsulation?\n"
      ],
      "metadata": {
        "id": "QrSDWLF5_WoE"
      }
    },
    {
      "cell_type": "markdown",
      "source": [
        "| Aspect             | Abstraction                                                                                | Encapsulation                                                                                                                                            |\n",
        "| ------------------ | ------------------------------------------------------------------------------------------ | -------------------------------------------------------------------------------------------------------------------------------------------------------- |\n",
        "| **Meaning**        | Hiding complex implementation details and showing only the essential features to the user. | Wrapping data (attributes) and methods (functions) together into a single unit (class) and restricting direct access to some of the object's components. |\n",
        "| **Focus**          | What a system does (interface)                                                             | How data and methods are protected and accessed                                                                                                          |\n",
        "| **Purpose**        | Simplify complexity by exposing only relevant parts                                        | Protect data from unauthorized access or modification                                                                                                    |\n",
        "| **Implementation** | Achieved by abstract classes and interfaces                                                | Achieved by access modifiers (private, protected, public)                                                                                                |\n",
        "| **Example**        | Using a car without knowing the engine details                                             | Keeping car engine details private and providing methods to access it safely                                                                             |\n"
      ],
      "metadata": {
        "id": "nJ-Z_2JM_h58"
      }
    },
    {
      "cell_type": "markdown",
      "source": [
        " # 5.What are dunder methods in Python?"
      ],
      "metadata": {
        "id": "An3ZuDZT_kqz"
      }
    },
    {
      "cell_type": "markdown",
      "source": [
        "\n",
        "Dunder methods (short for double underscore methods) in Python are special methods that have two underscores before and after their name (like __init__, __str__, __repr__). They are also called magic methods or special methods.\n",
        "\n",
        "These methods allow you to define how your objects behave with built-in Python operations. For example, they let you customize object creation, representation, arithmetic operations, comparisons, and more.\n",
        "\n",
        "Common Examples of Dunder Methods:\n",
        "__init__(self, ...) — Constructor method called when creating an object.\n",
        "\n",
        "__str__(self) — Returns a readable string representation of the object (used by print()).\n",
        "\n",
        "__repr__(self) — Returns an official string representation (used in debugging).\n",
        "\n",
        "__add__(self, other) — Defines behavior for the + operator.\n",
        "\n",
        "__len__(self) — Defines behavior for the len() function.\n",
        "\n",
        "Why Use Dunder Methods?\n",
        "They let you make your classes integrate smoothly with Python’s built-in features and syntax."
      ],
      "metadata": {
        "id": "RutA_IiV_tTq"
      }
    },
    {
      "cell_type": "markdown",
      "source": [
        "# 6. Explain the concept of inheritance in OOP?"
      ],
      "metadata": {
        "id": "uygC8Xmn_1Cu"
      }
    },
    {
      "cell_type": "markdown",
      "source": [
        "\n",
        "Inheritance is a fundamental concept in OOP where a new class (called the child or subclass) is created based on an existing class (called the parent or superclass). The child class inherits the attributes and methods of the parent class, allowing code reuse and the creation of a hierarchical relationship between classes.\n",
        "\n",
        "Key Points:\n",
        "The child class can use all the features of the parent class without rewriting them.\n",
        "\n",
        "The child class can also add new attributes and methods or override (modify) existing ones from the parent.\n",
        "\n",
        "Inheritance helps in building a logical and organized class structure.\n",
        "\n",
        "Example:\n",
        "If there is a class Animal with methods like eat() and sleep(), a subclass Dog can inherit these methods and also have its own method like bark()."
      ],
      "metadata": {
        "id": "cygq41Af_-k9"
      }
    },
    {
      "cell_type": "markdown",
      "source": [
        "# 7. What is polymorphism in OOP?"
      ],
      "metadata": {
        "id": "BmEOX_ziAALz"
      }
    },
    {
      "cell_type": "markdown",
      "source": [
        "\n",
        "Polymorphism means “many forms.” In OOP, it refers to the ability of different classes to be treated as instances of the same class through a common interface, typically by sharing method names but having different implementations.\n",
        "\n",
        "It allows the same method or function to behave differently depending on the object that calls it.\n",
        "\n",
        "Key Types of Polymorphism:\n",
        "Method Overriding:\n",
        "A subclass provides a specific implementation of a method already defined in its parent class.\n",
        "\n",
        "Method Overloading (less common in Python):\n",
        "Multiple methods with the same name but different parameters within the same class (more common in languages like Java and C++).\n",
        "\n",
        "Example:\n",
        "If classes Cat and Dog both have a method sound(), calling sound() on a Cat object might return “Meow,” while on a Dog object it might return “Bark.” This way, the same method name works differently based on the object type."
      ],
      "metadata": {
        "id": "jgqzEt4vAE5n"
      }
    },
    {
      "cell_type": "markdown",
      "source": [
        "# 8.How is encapsulation achieved in Python?"
      ],
      "metadata": {
        "id": "GXUZom1fANzw"
      }
    },
    {
      "cell_type": "markdown",
      "source": [
        "\n",
        "Encapsulation in Python is the practice of restricting access to the internal data and methods of a class to protect them from unauthorized or accidental modification. It is achieved by using access modifiers that control how the attributes and methods can be accessed.\n",
        "\n",
        "In Python, Encapsulation is done using:\n",
        "Public members:\n",
        "Attributes and methods without underscores are public and accessible from anywhere.\n",
        "Example: self.name\n",
        "\n",
        "Protected members (convention):\n",
        "Attributes and methods with a single underscore prefix (_) are treated as protected — meant for internal use within the class or subclasses, but not enforced by Python.\n",
        "Example: self._age\n",
        "\n",
        "Private members:\n",
        "Attributes and methods with double underscore prefix (__) are made private by name mangling, which makes it harder (but not impossible) to access them from outside the class.\n",
        "Example: self.__salary\n",
        "\n",
        "```\n",
        "class Employee:\n",
        "    def __init__(self, name, salary):\n",
        "        self.name = name          # public\n",
        "        self._age = 30            # protected (by convention)\n",
        "        self.__salary = salary    # private\n",
        "\n",
        "    def get_salary(self):\n",
        "        return self.__salary      # Accessor method for private attribute\n",
        "```\n",
        "\n",
        "Python uses naming conventions (_ and __) to indicate different access levels.\n",
        "\n",
        "True enforcement of private members is not strict but done by name mangling with double underscores.\n",
        "\n",
        "Encapsulation helps protect the data and exposes only necessary parts through methods (getters/setters)."
      ],
      "metadata": {
        "id": "dBxn0eQ3ASkn"
      }
    },
    {
      "cell_type": "markdown",
      "source": [
        "# 9.What is a constructor in Python?"
      ],
      "metadata": {
        "id": "-KGocyIUAi3W"
      }
    },
    {
      "cell_type": "markdown",
      "source": [
        "\n",
        "A constructor is a special method in a Python class that is automatically called when a new object (instance) of the class is created. Its main purpose is to initialize the object’s attributes with values.\n",
        "\n",
        "In Python, the constructor method is named __init__.\n",
        "\n",
        "Key Points:\n",
        "It sets up the initial state of the object.\n",
        "\n",
        "It can accept parameters to initialize attributes.\n",
        "\n",
        "It is called only once when the object is created.\n",
        "\n",
        "```\n",
        "class Person:\n",
        "    def __init__(self, name, age):\n",
        "        self.name = name    # Initialize the name attribute\n",
        "        self.age = age      # Initialize the age attribute\n",
        "\n",
        "# Creating an object\n",
        "p = Person(\"Alice\", 25)\n",
        "\n",
        "print(p.name)  # Output: Alice\n",
        "print(p.age)   # Output: 25\n",
        "```\n"
      ],
      "metadata": {
        "id": "TjrXpNQ9Arcs"
      }
    },
    {
      "cell_type": "markdown",
      "source": [
        "# 10. What are class and static methods in Python?"
      ],
      "metadata": {
        "id": "WDIlBzHXA1oL"
      }
    },
    {
      "cell_type": "markdown",
      "source": [
        "Class Methods and Static Methods in Python\n",
        "Both class methods and static methods are types of methods that belong to a class rather than an instance of the class. But they differ in how they work and when to use them.\n",
        "\n",
        "Class Method\\\n",
        "Defined with the decorator @classmethod.\n",
        "\n",
        "The first parameter is cls, which refers to the class itself, not the instance.\n",
        "\n",
        "Can access and modify class state (class variables).\n",
        "\n",
        "Called on the class itself or on an instance.\n",
        "\n",
        "```\n",
        "class Example:\n",
        "    count = 0  # Class variable\n",
        "\n",
        "    def __init__(self):\n",
        "        Example.count += 1\n",
        "\n",
        "    @classmethod\n",
        "    def get_count(cls):\n",
        "        return cls.count\n",
        "\n",
        "# Usage:\n",
        "print(Example.get_count())  # Access via class\n",
        "e1 = Example()\n",
        "e2 = Example()\n",
        "print(Example.get_count())  # Output: 2\n",
        "\n",
        "```\n",
        "Static Method\\\n",
        "Defined with the decorator @staticmethod.\n",
        "\n",
        "Does not take self or cls as the first parameter.\n",
        "\n",
        "Behaves like a regular function but belongs to the class’s namespace.\n",
        "\n",
        "Cannot access or modify instance or class data directly.\n",
        "\n",
        "Used for utility or helper functions related to the class.\n",
        "\n",
        "```\n",
        "class MathUtils:\n",
        "    @staticmethod\n",
        "    def add(a, b):\n",
        "        return a + b\n",
        "\n",
        "# Usage:\n",
        "print(MathUtils.add(5, 3))  # Output: 8\n",
        "```\n",
        "| Feature                       | Class Method                           | Static Method                             |\n",
        "| ----------------------------- | -------------------------------------- | ----------------------------------------- |\n",
        "| Decorator                     | `@classmethod`                         | `@staticmethod`                           |\n",
        "| First parameter               | `cls` (class itself)                   | None                                      |\n",
        "| Access to class/instance data | Can access/modify class variables      | Cannot access class or instance variables |\n",
        "| Use case                      | Factory methods, modifying class state | Utility functions, helper methods         |\n"
      ],
      "metadata": {
        "id": "MiWsa-w0A3tP"
      }
    },
    {
      "cell_type": "markdown",
      "source": [
        "# 11.What is method overloading in Python?"
      ],
      "metadata": {
        "id": "ndBe4qBvBr6S"
      }
    },
    {
      "cell_type": "markdown",
      "source": [
        "\n",
        "Method overloading is the ability to define multiple methods with the same name but different parameters (different type or number of arguments) in the same class.\n",
        "\n",
        "However, Python does not support method overloading directly like some other languages (Java, C++). In Python, if you define multiple methods with the same name, the last one will override the previous ones.\n",
        "\n",
        "How to Achieve Similar Behavior in Python?\\\n",
        "Python uses default arguments or variable-length arguments (*args and **kwargs) to mimic method overloading.\n",
        "\n",
        "Example using default arguments:\n",
        "```\n",
        "class Example:\n",
        "    def greet(self, name=None):\n",
        "        if name:\n",
        "            print(f\"Hello, {name}!\")\n",
        "        else:\n",
        "            print(\"Hello!\")\n",
        "\n",
        "e = Example()\n",
        "e.greet()         # Output: Hello!\n",
        "e.greet(\"Alice\")  # Output: Hello, Alice!\n",
        "```\n",
        "Python does not support traditional method overloading.\n",
        "\n",
        "Use default parameters or *args, **kwargs to handle different numbers or types of arguments in one method."
      ],
      "metadata": {
        "id": "FqOllS26BxwD"
      }
    },
    {
      "cell_type": "markdown",
      "source": [
        "# 12.What is method overriding in OOP?"
      ],
      "metadata": {
        "id": "8RdjnHepCDba"
      }
    },
    {
      "cell_type": "markdown",
      "source": [
        "Method overriding in Object-Oriented Programming (OOP) occurs when a subclass provides its own specific implementation of a method that is already defined in its parent class. This allows the subclass to modify or extend the behavior of that method to suit its own needs. When the method is called on an object of the subclass, the overridden version is executed instead of the parent class’s version. This is a key feature of polymorphism, enabling dynamic method dispatch and flexible code behavior."
      ],
      "metadata": {
        "id": "_vUce0cBCT1G"
      }
    },
    {
      "cell_type": "markdown",
      "source": [
        "# 13.What is a property decorator in Python?"
      ],
      "metadata": {
        "id": "evhVXhf4CU1z"
      }
    },
    {
      "cell_type": "markdown",
      "source": [
        "A property decorator in Python is a built-in way to define getter, setter, and deleter methods for class attributes in a clean and readable way. It allows you to access methods like attributes, enabling controlled access to private variables while keeping syntax simple.\n",
        "\n",
        "How it works:\n",
        "@property decorates a method to act like a getter.\n",
        "\n",
        "@<property_name>.setter decorates a method to act like a setter for the same property.\n",
        "\n",
        "@<property_name>.deleter decorates a method to act like a deleter.\n",
        "\n",
        "This way, you can control how attributes are accessed or modified without changing how they are used externally.\n",
        "\n",
        "```\n",
        "class Person:\n",
        "    def __init__(self, name):\n",
        "        self._name = name  # Private attribute\n",
        "\n",
        "    @property\n",
        "    def name(self):\n",
        "        return self._name  # Getter method\n",
        "\n",
        "    @name.setter\n",
        "    def name(self, value):\n",
        "        if value:\n",
        "            self._name = value  # Setter method\n",
        "\n",
        "# Usage:\n",
        "p = Person(\"Alice\")\n",
        "print(p.name)     # Calls getter, prints: Alice\n",
        "p.name = \"Bob\"    # Calls setter to update the name\n",
        "print(p.name)     # Prints: Bob\n",
        "```"
      ],
      "metadata": {
        "id": "A4XCowZSCZzY"
      }
    },
    {
      "cell_type": "markdown",
      "source": [
        "# 14. Why is polymorphism important in OOP?"
      ],
      "metadata": {
        "id": "LYOhx2OuCpwC"
      }
    },
    {
      "cell_type": "markdown",
      "source": [
        "Polymorphism is important in Object-Oriented Programming because it allows objects of different classes to be treated through a common interface, enabling flexibility and scalability in code design. It promotes code reusability and extensibility by allowing the same method name to behave differently based on the object’s class, reducing the need for complex conditional statements. This makes programs easier to maintain, extend, and understand by supporting dynamic method binding and cleaner, more modular code.\n",
        "\n",
        "\n",
        "\n",
        "\n",
        "\n",
        "\n",
        "\n"
      ],
      "metadata": {
        "id": "RKKyUNlhCtzE"
      }
    },
    {
      "cell_type": "markdown",
      "source": [
        "# 15.What is an abstract class in Python?"
      ],
      "metadata": {
        "id": "lZZ8M9k8C1uH"
      }
    },
    {
      "cell_type": "markdown",
      "source": [
        "An abstract class in Python is a class that cannot be instantiated directly and is designed to be a base class for other classes. It often contains one or more abstract methods, which are declared but have no implementation in the abstract class. Subclasses must override these abstract methods to provide specific behavior.\n",
        "\n",
        "How to create an abstract class in Python:\n",
        "Use the abc module (Abstract Base Classes).\n",
        "\n",
        "Decorate abstract methods with @abstractmethod."
      ],
      "metadata": {
        "id": "rFkgsUWeC8wf"
      }
    },
    {
      "cell_type": "markdown",
      "source": [
        "# 17.What are the advantages of OOP?\n"
      ],
      "metadata": {
        "id": "mrofUpOdDCoS"
      }
    },
    {
      "cell_type": "markdown",
      "source": [
        "Modularity:\\\n",
        "Code is organized into classes and objects, making it easier to manage, understand, and debug.\n",
        "\n",
        "Reusability:\\\n",
        "Classes and objects can be reused across different programs, reducing code duplication.\n",
        "\n",
        "Scalability:\\\n",
        "OOP allows programs to be scaled up easily by adding new classes or extending existing ones without affecting existing code.\n",
        "\n",
        "Maintainability:\\\n",
        "Encapsulation keeps data safe and hides implementation details, making maintenance and updates simpler.\n",
        "\n",
        "Code Flexibility through Polymorphism:\\\n",
        "Same interfaces or method names can work with different data types, enabling flexible and dynamic code behavior.\n",
        "\n",
        "Real-world Modeling:\\\n",
        "OOP mimics real-world entities and relationships, making the design intuitive and aligned with actual problems.\n",
        "\n",
        "Inheritance Promotes Code Reuse:\\\n",
        "Subclasses inherit properties and methods from parent classes, minimizing redundancy.\n",
        "\n",
        "Improved Collaboration:\\\n",
        "Teams can work on different classes or modules independently, improving development efficiency."
      ],
      "metadata": {
        "id": "ffDDtz_aDhZ1"
      }
    },
    {
      "cell_type": "markdown",
      "source": [
        "# 17.What is the difference between a class variable and an instance variable?"
      ],
      "metadata": {
        "id": "v3t4w0qgDohb"
      }
    },
    {
      "cell_type": "markdown",
      "source": [
        "| Aspect         | Class Variable                                            | Instance Variable                                                 |\n",
        "| -------------- | --------------------------------------------------------- | ----------------------------------------------------------------- |\n",
        "| **Definition** | A variable that is shared by all instances of a class.    | A variable that is unique to each instance (object) of the class. |\n",
        "| **Scope**      | Belongs to the class itself.                              | Belongs to the individual object (instance).                      |\n",
        "| **Access**     | Accessed using the class name or through instances.       | Accessed only through instances.                                  |\n",
        "| **Storage**    | Stored once and shared across all objects.                | Stored separately in each object.                                 |\n",
        "| **Use case**   | Used for properties or constants common to all instances. | Used for attributes that differ from one object to another.       |\n",
        "\n",
        "```\n",
        "class Car:\n",
        "    wheels = 4  # Class variable\n",
        "\n",
        "    def __init__(self, color):\n",
        "        self.color = color  # Instance variable\n",
        "\n",
        "car1 = Car(\"Red\")\n",
        "car2 = Car(\"Blue\")\n",
        "\n",
        "print(car1.wheels)  # Output: 4\n",
        "print(car2.wheels)  # Output: 4\n",
        "\n",
        "print(car1.color)   # Output: Red\n",
        "print(car2.color)   # Output: Blue\n",
        "```"
      ],
      "metadata": {
        "id": "q5Fkwe-yDsrr"
      }
    },
    {
      "cell_type": "markdown",
      "source": [
        "# 19. What is multiple inheritance in Python?"
      ],
      "metadata": {
        "id": "IthWjsaGD0lq"
      }
    },
    {
      "cell_type": "markdown",
      "source": [
        "Multiple Inheritance in Python\\\n",
        "Multiple inheritance is a feature in Python where a class can inherit attributes and methods from more than one parent class. This allows the child class to combine behaviors and properties from multiple classes, promoting code reuse and flexibility.\n",
        "\n",
        "How it works:\\\n",
        "The child class lists multiple parent classes separated by commas.\n",
        "\n",
        "It inherits all attributes and methods from all the parent classes.\n",
        "\n",
        "If there are methods with the same name in multiple parents, Python uses the Method Resolution Order (MRO) to decide which method to call.\n",
        "\n",
        "```\n",
        "class Father:\n",
        "    def skills(self):\n",
        "        return \"Gardening\"\n",
        "\n",
        "class Mother:\n",
        "    def skills(self):\n",
        "        return \"Cooking\"\n",
        "\n",
        "class Child(Father, Mother):\n",
        "    def skills(self):\n",
        "        return super().skills() + \" and Painting\"\n",
        "\n",
        "c = Child()\n",
        "print(c.skills())  # Output: Gardening and Painting\n",
        "```\n",
        "Multiple inheritance can be powerful but should be used carefully to avoid complexity and ambiguity in method resolution."
      ],
      "metadata": {
        "id": "cUGIdmjXECBY"
      }
    },
    {
      "cell_type": "markdown",
      "source": [
        "# 19. Explain the purpose of ‘’__str__’ and ‘__repr__’ ‘ methods in Python?"
      ],
      "metadata": {
        "id": "bSJZCVRPENZW"
      }
    },
    {
      "cell_type": "markdown",
      "source": [
        "Purpose of __str__ and __repr__ Methods in Python\\\n",
        "Both __str__ and __repr__ are special dunder methods used to define how an object is represented as a string, but they serve different purposes:\n",
        "\n",
        "__repr__ (Official Representation)\\\n",
        "Designed to provide an unambiguous and detailed string representation of the object.\n",
        "\n",
        "Should return a string that, if possible, can be used to recreate the object (like valid Python code).\n",
        "\n",
        "Mainly used for debugging and development.\n",
        "\n",
        "Called when you use repr(object) or just type the object in the interpreter.\n",
        "\n",
        "__str__ (Informal or Readable Representation)\\\n",
        "Designed to provide a readable and user-friendly string representation of the object.\n",
        "\n",
        "Used by the print() function and str(object).\n",
        "\n",
        "Should be easy to understand for end users.\n",
        "```\n",
        "class Person:\n",
        "    def __init__(self, name, age):\n",
        "        self.name = name\n",
        "        self.age = age\n",
        "\n",
        "    def __repr__(self):\n",
        "        return f\"Person('{self.name}', {self.age})\"\n",
        "\n",
        "    def __str__(self):\n",
        "        return f\"{self.name}, aged {self.age}\"\n",
        "\n",
        "p = Person(\"Alice\", 30)\n",
        "\n",
        "print(repr(p))  # Output: Person('Alice', 30)\n",
        "print(str(p))   # Output: Alice, aged 30\n",
        "print(p)        # Output: Alice, aged 30 (calls __str__)\n",
        "\n",
        "```\n",
        "Use __repr__ for developers to get precise info.\n",
        "\n",
        "Use __str__ for end users to get readable info.\n",
        "\n"
      ],
      "metadata": {
        "id": "mA3YOkDgEYhF"
      }
    },
    {
      "cell_type": "markdown",
      "source": [
        "# 20.What is the significance of the ‘super()’ function in Python?"
      ],
      "metadata": {
        "id": "ObFjdDqWEczq"
      }
    },
    {
      "cell_type": "markdown",
      "source": [
        "Significance of the super() Function in Python\\\n",
        "The super() function is used to call a method from a parent (or superclass) class inside a child (subclass). It allows you to access and extend the functionality of the parent class without explicitly naming it.\n",
        "\n",
        "Why is super() important?\\\n",
        "It helps in code reuse by avoiding duplication of parent class code.\n",
        "\n",
        "It supports multiple inheritance by following Python’s Method Resolution Order (MRO) to find the right parent method to call.\n",
        "\n",
        "Makes it easier to maintain and update code, especially in complex inheritance hierarchies.\n",
        "\n",
        "```\n",
        "class Parent:\n",
        "    def greet(self):\n",
        "        print(\"Hello from Parent\")\n",
        "\n",
        "class Child(Parent):\n",
        "    def greet(self):\n",
        "        super().greet()   # Call the Parent’s greet method\n",
        "        print(\"Hello from Child\")\n",
        "\n",
        "c = Child()\n",
        "c.greet()\n",
        "\n",
        "# Output:\n",
        "# Hello from Parent\n",
        "# Hello from Child\n",
        "```"
      ],
      "metadata": {
        "id": "JX2_ZBH1Ei5S"
      }
    },
    {
      "cell_type": "markdown",
      "source": [
        "# 21.What is the significance of the __del__ method in Python?"
      ],
      "metadata": {
        "id": "iW_bUANgEyJh"
      }
    },
    {
      "cell_type": "markdown",
      "source": [
        "Significance of the __del__ Method in Python\\\n",
        "The __del__ method is a special destructor method in Python. It is called when an object is about to be destroyed or garbage collected. This method allows you to perform any cleanup actions before the object is removed from memory, such as closing files, releasing resources, or saving state.\n",
        "\n",
        "Key Points:\\\n",
        "Automatically invoked when the object’s reference count drops to zero.\n",
        "\n",
        "Useful for cleanup tasks.\n",
        "\n",
        "Should be used carefully, as the timing of its call is not guaranteed (especially with circular references or program exit).\n",
        "\n",
        "```\n",
        "class FileHandler:\n",
        "    def __init__(self, filename):\n",
        "        self.file = open(filename, 'w')\n",
        "\n",
        "    def __del__(self):\n",
        "        self.file.close()\n",
        "        print(\"File closed and resources released\")\n",
        "\n",
        "fh = FileHandler(\"example.txt\")\n",
        "del fh  # Manually delete object to trigger __del__\n",
        "```\n",
        "The __del__ method helps manage resources but relying on it for critical cleanup is discouraged; using context managers (with statement) is often better.\n",
        "\n",
        "\n"
      ],
      "metadata": {
        "id": "n8QML1ptE8K_"
      }
    },
    {
      "cell_type": "markdown",
      "source": [
        "# 22. What is the difference between @staticmethod and @classmethod in Python?"
      ],
      "metadata": {
        "id": "adLeAAW6FLQ6"
      }
    },
    {
      "cell_type": "markdown",
      "source": [
        "| Feature                  | `@staticmethod`                                                                             | `@classmethod`                                                                       |\n",
        "| ------------------------ | ------------------------------------------------------------------------------------------- | ------------------------------------------------------------------------------------ |\n",
        "| **Decorator**            | `@staticmethod`                                                                             | `@classmethod`                                                                       |\n",
        "| **First parameter**      | No default first parameter (`self` or `cls`)                                                | Takes `cls` as the first parameter (refers to the class)                             |\n",
        "| **Access to class data** | Cannot access or modify class or instance data directly                                     | Can access and modify class state or variables                                       |\n",
        "| **Usage**                | Used for utility functions related to the class but not dependent on class or instance data | Used when method needs to access or modify class state, or to create factory methods |\n",
        "| **Called by**            | Can be called on class or instance                                                          | Can be called on class or instance                                                   |\n",
        "\n",
        "```\n",
        "class MyClass:\n",
        "    @staticmethod\n",
        "    def static_method():\n",
        "        print(\"This is a static method.\")\n",
        "\n",
        "    @classmethod\n",
        "    def class_method(cls):\n",
        "        print(f\"This is a class method. Class: {cls}\")\n",
        "\n",
        "# Usage\n",
        "MyClass.static_method()   # Works\n",
        "MyClass.class_method()    # Works\n",
        "```\n",
        "Use @staticmethod for methods that don’t need access to the class or instance.\n",
        "\n",
        "Use @classmethod when the method needs to know about or modify the class itself.\n",
        "\n"
      ],
      "metadata": {
        "id": "Xrm2bA8jFQJf"
      }
    },
    {
      "cell_type": "markdown",
      "source": [
        "# 23. How does polymorphism work in Python with inheritance?"
      ],
      "metadata": {
        "id": "1XgUYoznFhpn"
      }
    },
    {
      "cell_type": "markdown",
      "source": [
        "Polymorphism in Python allows objects of different subclasses to be treated as objects of a common parent class, enabling the same method to behave differently depending on the subclass implementation. This is mainly achieved through method overriding in inheritance.\n",
        "\n",
        "How it works:\\\n",
        "A parent class defines a method.\n",
        "\n",
        "Each subclass can provide its own version of that method by overriding it.\n",
        "\n",
        "When a method is called on an object, Python uses the actual object’s class method, not the parent’s method. This is called dynamic dispatch.\n",
        "\n",
        "```\n",
        "class Animal:\n",
        "    def sound(self):\n",
        "        print(\"Some generic sound\")\n",
        "\n",
        "class Dog(Animal):\n",
        "    def sound(self):\n",
        "        print(\"Bark\")\n",
        "\n",
        "class Cat(Animal):\n",
        "    def sound(self):\n",
        "        print(\"Meow\")\n",
        "\n",
        "def make_sound(animal):\n",
        "    animal.sound()  # Calls the overridden method based on actual object\n",
        "\n",
        "dog = Dog()\n",
        "cat = Cat()\n",
        "\n",
        "make_sound(dog)  # Output: Bark\n",
        "make_sound(cat)  # Output: Meow\n",
        "```\n",
        "Polymorphism lets you write code that works with objects of different classes through a common interface.\n",
        "\n",
        "It promotes flexibility and extensibility by relying on method overriding in inheritance."
      ],
      "metadata": {
        "id": "ANTPL-RNFlj1"
      }
    },
    {
      "cell_type": "markdown",
      "source": [
        "# 24.What is method chaining in Python OOP?"
      ],
      "metadata": {
        "id": "u7MyO3fWFzBS"
      }
    },
    {
      "cell_type": "markdown",
      "source": [
        "Method chaining is a programming technique where multiple method calls are linked together in a single statement, one after the other.\\\n",
        " In Python OOP, it is achieved by designing class methods to return the object itself (self) after performing their operation, allowing multiple methods to be called sequentially on the same object.\n",
        "\n",
        "Why use method chaining?\\\n",
        "Makes code more concise and readable.\n",
        "\n",
        "Allows performing multiple operations in a smooth, flowing manner.\n",
        "\n",
        "```\n",
        "class Person:\n",
        "    def __init__(self):\n",
        "        self.name = \"\"\n",
        "        self.age = 0\n",
        "\n",
        "    def set_name(self, name):\n",
        "        self.name = name\n",
        "        return self      # Returning self to enable chaining\n",
        "\n",
        "    def set_age(self, age):\n",
        "        self.age = age\n",
        "        return self      # Returning self to enable chaining\n",
        "\n",
        "    def display(self):\n",
        "        print(f\"Name: {self.name}, Age: {self.age}\")\n",
        "        return self      # Optional to chain display as well\n",
        "\n",
        "# Using method chaining\n",
        "p = Person()\n",
        "p.set_name(\"Alice\").set_age(30).display()\n",
        "```\n",
        "Output:\n",
        "Name: Alice, Age: 30\n",
        "\n",
        "Method chaining improves code elegance and reduces the need to write repetitive lines.\n",
        "\n"
      ],
      "metadata": {
        "id": "yiKS6G_KGA7e"
      }
    },
    {
      "cell_type": "markdown",
      "source": [
        "# 25.What is the purpose of the __call__ method in Python?"
      ],
      "metadata": {
        "id": "j23lBXWeGWj9"
      }
    },
    {
      "cell_type": "markdown",
      "source": [
        "Purpose of the __call__ Method in Python\\\n",
        "The __call__ method is a special dunder method that allows an instance of a class to be called like a function. When you define the __call__ method inside a class, you can use the object itself as if it were a regular function, enabling callable behavior.\\\n",
        "Why use __call__?\\\n",
        "To make objects behave like functions.\n",
        "\n",
        "Useful for creating function-like objects or functors.\n",
        "\n",
        "Can help encapsulate functionality while keeping the syntax simple.\n",
        "\n",
        "```\n",
        "class Multiplier:\n",
        "    def __init__(self, factor):\n",
        "        self.factor = factor\n",
        "\n",
        "    def __call__(self, x):\n",
        "        return x * self.factor\n",
        "\n",
        "m = Multiplier(5)\n",
        "print(m(10))  # Output: 50\n",
        "```\n",
        "In this example, m(10) calls the __call__ method of the Multiplier instance m.\n",
        "\n",
        "Using __call__ can make your code more intuitive and flexible when objects need to be used like functions."
      ],
      "metadata": {
        "id": "bdLQ9xc3GYpP"
      }
    },
    {
      "cell_type": "markdown",
      "source": [
        "# **Practical Questions**\n",
        "\n",
        "---\n",
        "\n"
      ],
      "metadata": {
        "id": "wgs9ZEnPGnwK"
      }
    },
    {
      "cell_type": "markdown",
      "source": [
        "# 1.Create a parent class Animal with a method speak() that prints a generic message. Create a child class Dog that overrides the speak() method to print \"Bark!\"."
      ],
      "metadata": {
        "id": "MeSrr5auGxfY"
      }
    },
    {
      "cell_type": "code",
      "source": [
        "class Animal:\n",
        "    def speak(self):\n",
        "        print(\"This animal makes a sound.\")\n",
        "\n",
        "class Dog(Animal):\n",
        "    def speak(self):\n",
        "        print(\"Bark!\")\n",
        "\n",
        "dog = Dog()\n",
        "dog.speak()  # Output: Bark!\n"
      ],
      "metadata": {
        "colab": {
          "base_uri": "https://localhost:8080/"
        },
        "id": "iQ289s2oHALr",
        "outputId": "a4cb956d-2d7b-4520-858b-5bdd7abf51e0"
      },
      "execution_count": 1,
      "outputs": [
        {
          "output_type": "stream",
          "name": "stdout",
          "text": [
            "Bark!\n"
          ]
        }
      ]
    },
    {
      "cell_type": "markdown",
      "source": [
        "# 2. Write a program to create an abstract class Shape with a method area(). Derive classes Circle and Rectangle from it and implement the area() method in both."
      ],
      "metadata": {
        "id": "zLnDZY75HOXI"
      }
    },
    {
      "cell_type": "code",
      "source": [
        "from abc import ABC, abstractmethod\n",
        "import math\n",
        "\n",
        "class Shape(ABC):\n",
        "    @abstractmethod\n",
        "    def area(self):\n",
        "        pass\n",
        "\n",
        "class Circle(Shape):\n",
        "    def __init__(self, radius):\n",
        "        self.radius = radius\n",
        "\n",
        "    def area(self):\n",
        "        return math.pi * self.radius ** 2\n",
        "\n",
        "class Rectangle(Shape):\n",
        "    def __init__(self, width, height):\n",
        "        self.width = width\n",
        "        self.height = height\n",
        "\n",
        "    def area(self):\n",
        "        return self.width * self.height\n",
        "\n",
        "c = Circle(5)\n",
        "r = Rectangle(4, 6)\n",
        "print(c.area())  # ~78.54\n",
        "print(r.area())  # 24\n"
      ],
      "metadata": {
        "colab": {
          "base_uri": "https://localhost:8080/"
        },
        "id": "kj6xJNjIHFDB",
        "outputId": "e10494cd-999a-4f63-a749-4e55c9b6e815"
      },
      "execution_count": 2,
      "outputs": [
        {
          "output_type": "stream",
          "name": "stdout",
          "text": [
            "78.53981633974483\n",
            "24\n"
          ]
        }
      ]
    },
    {
      "cell_type": "markdown",
      "source": [
        "# 3. Implement a multi-level inheritance scenario where a class Vehicle has an attribute type. Derive a class Car and further derive a class ElectricCar that adds a battery attribute."
      ],
      "metadata": {
        "id": "Nc0Lqb1BHUDU"
      }
    },
    {
      "cell_type": "code",
      "source": [
        "class Vehicle:\n",
        "    def __init__(self, type):\n",
        "        self.type = type\n",
        "\n",
        "class Car(Vehicle):\n",
        "    def __init__(self, type, model):\n",
        "        super().__init__(type)\n",
        "        self.model = model\n",
        "\n",
        "class ElectricCar(Car):\n",
        "    def __init__(self, type, model, battery):\n",
        "        super().__init__(type, model)\n",
        "        self.battery = battery\n",
        "\n",
        "ecar = ElectricCar(\"Vehicle\", \"Tesla Model S\", \"100 kWh\")\n",
        "print(ecar.type, ecar.model, ecar.battery)\n"
      ],
      "metadata": {
        "id": "-yCIYxo-HZxC"
      },
      "execution_count": null,
      "outputs": []
    },
    {
      "cell_type": "markdown",
      "source": [
        "# 4.Demonstrate polymorphism by creating a base class Bird with a method fly(). Create two derived classes Sparrow and Penguin that override the fly() method."
      ],
      "metadata": {
        "id": "RDS2iohsHcV7"
      }
    },
    {
      "cell_type": "code",
      "source": [
        "class Bird:\n",
        "    def fly(self):\n",
        "        print(\"Flying...\")\n",
        "\n",
        "class Sparrow(Bird):\n",
        "    def fly(self):\n",
        "        print(\"Sparrow flying high!\")\n",
        "\n",
        "class Penguin(Bird):\n",
        "    def fly(self):\n",
        "        print(\"Penguins can't fly!\")\n",
        "\n",
        "def let_bird_fly(bird):\n",
        "    bird.fly()\n",
        "\n",
        "sparrow = Sparrow()\n",
        "penguin = Penguin()\n",
        "let_bird_fly(sparrow)  # Sparrow flying high!\n",
        "let_bird_fly(penguin)  # Penguins can't fly!\n"
      ],
      "metadata": {
        "colab": {
          "base_uri": "https://localhost:8080/"
        },
        "id": "txnPNZUqHh4n",
        "outputId": "4d074165-2584-41ed-874d-6eebbcc6a99b"
      },
      "execution_count": 3,
      "outputs": [
        {
          "output_type": "stream",
          "name": "stdout",
          "text": [
            "Sparrow flying high!\n",
            "Penguins can't fly!\n"
          ]
        }
      ]
    },
    {
      "cell_type": "markdown",
      "source": [
        "# 5.. Write a program to demonstrate encapsulation by creating a class BankAccount with private attributes balance and methods to deposit, withdraw, and check balance."
      ],
      "metadata": {
        "id": "sGtg1WIhHnYF"
      }
    },
    {
      "cell_type": "code",
      "source": [
        "class BankAccount:\n",
        "    def __init__(self, balance=0):\n",
        "        self.__balance = balance  # Private attribute\n",
        "\n",
        "    def deposit(self, amount):\n",
        "        if amount > 0:\n",
        "            self.__balance += amount\n",
        "\n",
        "    def withdraw(self, amount):\n",
        "        if 0 < amount <= self.__balance:\n",
        "            self.__balance -= amount\n",
        "        else:\n",
        "            print(\"Insufficient balance or invalid amount\")\n",
        "\n",
        "    def check_balance(self):\n",
        "        return self.__balance\n",
        "\n",
        "account = BankAccount(1000)\n",
        "account.deposit(500)\n",
        "account.withdraw(200)\n",
        "print(account.check_balance())  # 1300\n"
      ],
      "metadata": {
        "colab": {
          "base_uri": "https://localhost:8080/"
        },
        "id": "Z4d_CcVPHpuY",
        "outputId": "1208a43e-b172-4a15-ff0d-c3d80389e08a"
      },
      "execution_count": 4,
      "outputs": [
        {
          "output_type": "stream",
          "name": "stdout",
          "text": [
            "1300\n"
          ]
        }
      ]
    },
    {
      "cell_type": "markdown",
      "source": [
        "# 6. Demonstrate runtime polymorphism using a method play() in a base class Instrument. Derive classes Guitar and Piano that implement their own version of play()"
      ],
      "metadata": {
        "id": "Vtx4TFQXHxLg"
      }
    },
    {
      "cell_type": "code",
      "source": [
        "class Instrument:\n",
        "    def play(self):\n",
        "        print(\"Playing instrument\")\n",
        "\n",
        "class Guitar(Instrument):\n",
        "    def play(self):\n",
        "        print(\"Strumming the guitar\")\n",
        "\n",
        "class Piano(Instrument):\n",
        "    def play(self):\n",
        "        print(\"Playing the piano\")\n",
        "\n",
        "def perform(instrument):\n",
        "    instrument.play()\n",
        "\n",
        "guitar = Guitar()\n",
        "piano = Piano()\n",
        "perform(guitar)  # Strumming the guitar\n",
        "perform(piano)   # Playing the piano\n"
      ],
      "metadata": {
        "colab": {
          "base_uri": "https://localhost:8080/"
        },
        "id": "rx987QihH0HS",
        "outputId": "226b00b9-1307-4a5c-c2d4-3b07190f05e3"
      },
      "execution_count": 5,
      "outputs": [
        {
          "output_type": "stream",
          "name": "stdout",
          "text": [
            "Strumming the guitar\n",
            "Playing the piano\n"
          ]
        }
      ]
    },
    {
      "cell_type": "markdown",
      "source": [
        "# 7.Create a class MathOperations with a class method add_numbers() to add two numbers and a static method subtract_numbers() to subtract two numbers."
      ],
      "metadata": {
        "id": "MS_2g5CnH6by"
      }
    },
    {
      "cell_type": "code",
      "source": [
        "class MathOperations:\n",
        "    @classmethod\n",
        "    def add_numbers(cls, a, b):\n",
        "        return a + b\n",
        "\n",
        "    @staticmethod\n",
        "    def subtract_numbers(a, b):\n",
        "        return a - b\n",
        "\n",
        "print(MathOperations.add_numbers(10, 5))     # 15\n",
        "print(MathOperations.subtract_numbers(10, 5))  # 5\n"
      ],
      "metadata": {
        "colab": {
          "base_uri": "https://localhost:8080/"
        },
        "id": "dswf53j2H87g",
        "outputId": "0e2cb804-9c09-4dc2-d4c9-260507fac1a8"
      },
      "execution_count": 6,
      "outputs": [
        {
          "output_type": "stream",
          "name": "stdout",
          "text": [
            "15\n",
            "5\n"
          ]
        }
      ]
    },
    {
      "cell_type": "markdown",
      "source": [
        "# 8. Implement a class Person with a class method to count the total number of persons created."
      ],
      "metadata": {
        "id": "nS5qKclCH_8-"
      }
    },
    {
      "cell_type": "code",
      "source": [
        "class Person:\n",
        "    count = 0\n",
        "\n",
        "    def __init__(self, name):\n",
        "        self.name = name\n",
        "        Person.count += 1\n",
        "\n",
        "    @classmethod\n",
        "    def total_persons(cls):\n",
        "        return cls.count\n",
        "\n",
        "p1 = Person(\"Alice\")\n",
        "p2 = Person(\"Bob\")\n",
        "print(Person.total_persons())  # 2\n"
      ],
      "metadata": {
        "colab": {
          "base_uri": "https://localhost:8080/"
        },
        "id": "gqKDu2yzIEEI",
        "outputId": "4309416b-f3b6-4876-eaac-00b348c4547a"
      },
      "execution_count": 7,
      "outputs": [
        {
          "output_type": "stream",
          "name": "stdout",
          "text": [
            "2\n"
          ]
        }
      ]
    },
    {
      "cell_type": "markdown",
      "source": [
        "# 9. Write a class Fraction with attributes numerator and denominator. Override the str method to display the fraction as \"numerator/denominator\""
      ],
      "metadata": {
        "id": "H_Rc7Y-FIJws"
      }
    },
    {
      "cell_type": "code",
      "source": [
        "class Fraction:\n",
        "    def __init__(self, numerator, denominator):\n",
        "        self.numerator = numerator\n",
        "        self.denominator = denominator\n",
        "\n",
        "    def __str__(self):\n",
        "        return f\"{self.numerator}/{self.denominator}\"\n",
        "\n",
        "f = Fraction(3, 4)\n",
        "print(f)  # 3/4\n"
      ],
      "metadata": {
        "colab": {
          "base_uri": "https://localhost:8080/"
        },
        "id": "CctPa1qUINzo",
        "outputId": "3826a74b-ecaa-48ac-f0a9-dabe1e9434e7"
      },
      "execution_count": 8,
      "outputs": [
        {
          "output_type": "stream",
          "name": "stdout",
          "text": [
            "3/4\n"
          ]
        }
      ]
    },
    {
      "cell_type": "markdown",
      "source": [
        "# 10.Demonstrate operator overloading by creating a class Vector and overriding the add method to add two vectors"
      ],
      "metadata": {
        "id": "kYRZtZniISNn"
      }
    },
    {
      "cell_type": "code",
      "source": [
        "class Vector:\n",
        "    def __init__(self, x, y):\n",
        "        self.x = x\n",
        "        self.y = y\n",
        "\n",
        "    def __add__(self, other):\n",
        "        return Vector(self.x + other.x, self.y + other.y)\n",
        "\n",
        "    def __str__(self):\n",
        "        return f\"Vector({self.x}, {self.y})\"\n",
        "\n",
        "v1 = Vector(2, 3)\n",
        "v2 = Vector(4, 1)\n",
        "v3 = v1 + v2\n",
        "print(v3)  # Vector(6, 4)\n"
      ],
      "metadata": {
        "colab": {
          "base_uri": "https://localhost:8080/"
        },
        "id": "0dfPJVwaIY6O",
        "outputId": "06e0ccad-ebbc-4e72-be84-23e4e8ed51d4"
      },
      "execution_count": 9,
      "outputs": [
        {
          "output_type": "stream",
          "name": "stdout",
          "text": [
            "Vector(6, 4)\n"
          ]
        }
      ]
    },
    {
      "cell_type": "markdown",
      "source": [
        "# 11. Create a class Person with attributes name and age. Add a method greet() that prints \"Hello, my name is {name} and I am {age} years old."
      ],
      "metadata": {
        "id": "M7tTN3XNIdSi"
      }
    },
    {
      "cell_type": "code",
      "source": [
        "class Person:\n",
        "    def __init__(self, name, age):\n",
        "        self.name = name\n",
        "        self.age = age\n",
        "\n",
        "    def greet(self):\n",
        "        print(f\"Hello, my name is {self.name} and I am {self.age} years old.\")\n",
        "\n",
        "p = Person(\"John\", 28)\n",
        "p.greet()\n"
      ],
      "metadata": {
        "colab": {
          "base_uri": "https://localhost:8080/"
        },
        "id": "ALQJDGM_IsUE",
        "outputId": "051219e9-edc5-432d-d73d-2408142cc09b"
      },
      "execution_count": 10,
      "outputs": [
        {
          "output_type": "stream",
          "name": "stdout",
          "text": [
            "Hello, my name is John and I am 28 years old.\n"
          ]
        }
      ]
    },
    {
      "cell_type": "markdown",
      "source": [
        "# 12. Implement a class Student with attributes name and grades. Create a method average_grade() to compute the average of the grades"
      ],
      "metadata": {
        "id": "1622ZPT2I1W8"
      }
    },
    {
      "cell_type": "code",
      "source": [
        "class Student:\n",
        "    def __init__(self, name, grades):\n",
        "        self.name = name\n",
        "        self.grades = grades\n",
        "\n",
        "    def average_grade(self):\n",
        "        return sum(self.grades) / len(self.grades) if self.grades else 0\n",
        "\n",
        "s = Student(\"Alice\", [90, 80, 85])\n",
        "print(s.average_grade())  # 85.0\n"
      ],
      "metadata": {
        "colab": {
          "base_uri": "https://localhost:8080/"
        },
        "id": "EyxhM9WyI4x5",
        "outputId": "2424d32c-1f97-442a-b2fb-c68e7f39972d"
      },
      "execution_count": 11,
      "outputs": [
        {
          "output_type": "stream",
          "name": "stdout",
          "text": [
            "85.0\n"
          ]
        }
      ]
    },
    {
      "cell_type": "markdown",
      "source": [
        "# 13. Create a class Rectangle with methods set_dimensions() to set the dimensions and area() to calculate the area"
      ],
      "metadata": {
        "id": "cRowbv8AI83k"
      }
    },
    {
      "cell_type": "code",
      "source": [
        "class Rectangle:\n",
        "    def set_dimensions(self, width, height):\n",
        "        self.width = width\n",
        "        self.height = height\n",
        "\n",
        "    def area(self):\n",
        "        return self.width * self.height\n",
        "\n",
        "rect = Rectangle()\n",
        "rect.set_dimensions(4, 5)\n",
        "print(rect.area())  # 20\n"
      ],
      "metadata": {
        "colab": {
          "base_uri": "https://localhost:8080/"
        },
        "id": "kwCuYk2lJChh",
        "outputId": "736c9def-6ef2-4ed1-d46a-bbb7a22264e6"
      },
      "execution_count": 12,
      "outputs": [
        {
          "output_type": "stream",
          "name": "stdout",
          "text": [
            "20\n"
          ]
        }
      ]
    },
    {
      "cell_type": "markdown",
      "source": [
        "# 14. Create a class Employee with a method calculate_salary() that computes the salary based on hours worked and hourly rate. Create a derived class Manager that adds a bonus to the salary"
      ],
      "metadata": {
        "id": "e920bVJlJGqZ"
      }
    },
    {
      "cell_type": "code",
      "source": [
        "class Employee:\n",
        "    def __init__(self, hours_worked, hourly_rate):\n",
        "        self.hours_worked = hours_worked\n",
        "        self.hourly_rate = hourly_rate\n",
        "\n",
        "    def calculate_salary(self):\n",
        "        return self.hours_worked * self.hourly_rate\n",
        "\n",
        "class Manager(Employee):\n",
        "    def __init__(self, hours_worked, hourly_rate, bonus):\n",
        "        super().__init__(hours_worked, hourly_rate)\n",
        "        self.bonus = bonus\n",
        "\n",
        "    def calculate_salary(self):\n",
        "        return super().calculate_salary() + self.bonus\n",
        "\n",
        "e = Employee(40, 20)\n",
        "m = Manager(40, 20, 500)\n",
        "print(e.calculate_salary())  # 800\n",
        "print(m.calculate_salary())  # 1300\n"
      ],
      "metadata": {
        "colab": {
          "base_uri": "https://localhost:8080/"
        },
        "id": "8CVA6d1mJL-1",
        "outputId": "c6c926b1-bd3b-43ee-d525-f5dfadb3d43a"
      },
      "execution_count": 13,
      "outputs": [
        {
          "output_type": "stream",
          "name": "stdout",
          "text": [
            "800\n",
            "1300\n"
          ]
        }
      ]
    },
    {
      "cell_type": "markdown",
      "source": [
        "# 15.Create a class Product with attributes name, price, and quantity. Implement a method total_price() that calculates the total price of the product"
      ],
      "metadata": {
        "id": "Y71Wqv1TJN5V"
      }
    },
    {
      "cell_type": "code",
      "source": [
        "class Product:\n",
        "    def __init__(self, name, price, quantity):\n",
        "        self.name = name\n",
        "        self.price = price\n",
        "        self.quantity = quantity\n",
        "\n",
        "    def total_price(self):\n",
        "        return self.price * self.quantity\n",
        "\n",
        "p = Product(\"Laptop\", 1000, 3)\n",
        "print(p.total_price())  # 3000\n"
      ],
      "metadata": {
        "colab": {
          "base_uri": "https://localhost:8080/"
        },
        "id": "mJ_LxGoGJSzL",
        "outputId": "a0f4021e-4221-45ec-80e4-7b37c5a50a98"
      },
      "execution_count": 14,
      "outputs": [
        {
          "output_type": "stream",
          "name": "stdout",
          "text": [
            "3000\n"
          ]
        }
      ]
    },
    {
      "cell_type": "markdown",
      "source": [
        "# 16. Create a class Animal with an abstract method sound(). Create two derived classes Cow and Sheep that implement the sound() method"
      ],
      "metadata": {
        "id": "iDxDPgS8JVaX"
      }
    },
    {
      "cell_type": "code",
      "source": [
        "from abc import ABC, abstractmethod\n",
        "\n",
        "class Animal(ABC):\n",
        "    @abstractmethod\n",
        "    def sound(self):\n",
        "        pass\n",
        "\n",
        "class Cow(Animal):\n",
        "    def sound(self):\n",
        "        return \"Moo\"\n",
        "\n",
        "class Sheep(Animal):\n",
        "    def sound(self):\n",
        "        return \"Baa\"\n",
        "\n",
        "cow = Cow()\n",
        "sheep = Sheep()\n",
        "print(cow.sound())   # Moo\n",
        "print(sheep.sound()) # Baa\n"
      ],
      "metadata": {
        "colab": {
          "base_uri": "https://localhost:8080/"
        },
        "id": "zDhW_An4JaG2",
        "outputId": "0d636b41-2527-44b4-855b-9ac4c6939690"
      },
      "execution_count": 15,
      "outputs": [
        {
          "output_type": "stream",
          "name": "stdout",
          "text": [
            "Moo\n",
            "Baa\n"
          ]
        }
      ]
    },
    {
      "cell_type": "markdown",
      "source": [
        "# 17.Create a class Book with attributes title, author, and year_published. Add a method get_book_info() that returns a formatted string with the book's details"
      ],
      "metadata": {
        "id": "Mf_8sXO4Jges"
      }
    },
    {
      "cell_type": "code",
      "source": [
        "class Book:\n",
        "    def __init__(self, title, author, year_published):\n",
        "        self.title = title\n",
        "        self.author = author\n",
        "        self.year_published = year_published\n",
        "\n",
        "    def get_book_info(self):\n",
        "        return f\"'{self.title}' by {self.author}, published in {self.year_published}\"\n",
        "\n",
        "b = Book(\"1984\", \"George Orwell\", 1949)\n",
        "print(b.get_book_info())\n"
      ],
      "metadata": {
        "colab": {
          "base_uri": "https://localhost:8080/"
        },
        "id": "-Py5PyhoJmzF",
        "outputId": "c9719292-c25c-4084-ba22-82a3ee9a6feb"
      },
      "execution_count": 16,
      "outputs": [
        {
          "output_type": "stream",
          "name": "stdout",
          "text": [
            "'1984' by George Orwell, published in 1949\n"
          ]
        }
      ]
    },
    {
      "cell_type": "markdown",
      "source": [
        "# 18. Create a class House with attributes address and price. Create a derived class Mansion that adds an attribute number_of_rooms."
      ],
      "metadata": {
        "id": "8UF9t42RJrEm"
      }
    },
    {
      "cell_type": "code",
      "source": [
        "class House:\n",
        "    def __init__(self, address, price):\n",
        "        self.address = address\n",
        "        self.price = price\n",
        "\n",
        "class Mansion(House):\n",
        "    def __init__(self, address, price, number_of_rooms):\n",
        "        super().__init__(address, price)\n",
        "        self.number_of_rooms = number_of_rooms\n",
        "\n",
        "m = Mansion(\"123 Luxury St\", 5000000, 10)\n",
        "print(m.address, m.price, m.number_of_rooms)\n"
      ],
      "metadata": {
        "colab": {
          "base_uri": "https://localhost:8080/"
        },
        "id": "0wfJjQh9Jwt9",
        "outputId": "a2838416-5339-4926-b86c-2a7df1d8b549"
      },
      "execution_count": 17,
      "outputs": [
        {
          "output_type": "stream",
          "name": "stdout",
          "text": [
            "123 Luxury St 5000000 10\n"
          ]
        }
      ]
    }
  ]
}