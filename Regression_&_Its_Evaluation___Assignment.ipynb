{
  "nbformat": 4,
  "nbformat_minor": 0,
  "metadata": {
    "colab": {
      "provenance": []
    },
    "kernelspec": {
      "name": "python3",
      "display_name": "Python 3"
    },
    "language_info": {
      "name": "python"
    }
  },
  "cells": [
    {
      "cell_type": "markdown",
      "source": [
        "# Assignment Code: DA-AG-010\n",
        "## Regression & Its Evaluation | Assignment\n",
        "\n",
        "---"
      ],
      "metadata": {
        "id": "KHuZZc_U1flI"
      }
    },
    {
      "cell_type": "markdown",
      "source": [
        "\n",
        "\n",
        "### Question 1: What is Simple Linear Regression?\n",
        "**Answer:**  \n",
        "Simple Linear Regression is a statistical method used to model the relationship between two variables:  \n",
        "- One independent variable (X)  \n",
        "- One dependent variable (Y)  \n",
        "\n",
        "It assumes a straight-line relationship between X and Y, expressed as:  \n",
        "\n",
        "\\[\n",
        "Y = \\beta_0 + \\beta_1 X + \\epsilon\n",
        "\\]  \n",
        "\n",
        "Where:  \n",
        "- \\( Y \\) = Dependent variable  \n",
        "- \\( X \\) = Independent variable  \n",
        "- \\( \\beta_0 \\) = Intercept  \n",
        "- \\( \\beta_1 \\) = Slope  \n",
        "- \\( \\epsilon \\) = Error term  \n",
        "\n",
        "The aim is to minimize the difference between actual and predicted values (least squares method).\n"
      ],
      "metadata": {
        "id": "2QjEGkSf1Vv1"
      }
    },
    {
      "cell_type": "markdown",
      "source": [
        "### Question 2: What are the key assumptions of Simple Linear Regression?\n",
        "**Answer:**  \n",
        "1. **Linearity** – Relationship between X and Y is linear.  \n",
        "2. **Independence** – Observations are independent.  \n",
        "3. **Homoscedasticity** – Constant variance of errors.  \n",
        "4. **Normality of Errors** – Residuals are normally distributed.  \n",
        "5. **No multicollinearity** – Relevant in multiple regression, not simple.  \n",
        "\n",
        "Violating assumptions can cause biased or inefficient estimates.\n"
      ],
      "metadata": {
        "id": "vA2oIbkF1nL8"
      }
    },
    {
      "cell_type": "markdown",
      "source": [
        "### Question 3: What is heteroscedasticity, and why is it important?\n",
        "**Answer:**  \n",
        "Heteroscedasticity means residuals (errors) do not have constant variance across all values of X.  \n",
        "\n",
        "- Example: Small errors for low X, large errors for high X.  \n",
        "\n",
        "**Why important?**  \n",
        "- Violates regression assumptions.  \n",
        "- Makes standard errors unreliable.  \n",
        "- Can lead to wrong conclusions in hypothesis testing.  \n",
        "\n",
        "Fixes: transformations, Weighted Least Squares, or robust errors.\n"
      ],
      "metadata": {
        "id": "ou-jRaV81rrA"
      }
    },
    {
      "cell_type": "markdown",
      "source": [
        "### Question 4: What is Multiple Linear Regression?\n",
        "**Answer:**  \n",
        "Multiple Linear Regression (MLR) models the relationship between one dependent variable and **two or more independent variables**.  \n",
        "\n",
        "Equation:  \n",
        "\n",
        "\\[\n",
        "Y = \\beta_0 + \\beta_1 X_1 + \\beta_2 X_2 + \\cdots + \\beta_n X_n + \\epsilon\n",
        "\\]  \n",
        "\n",
        "It predicts outcomes using multiple features but requires checks for multicollinearity.\n"
      ],
      "metadata": {
        "id": "hx-8iFV31v3l"
      }
    },
    {
      "cell_type": "markdown",
      "source": [
        "### Question 5: What is polynomial regression, and how does it differ from linear regression?\n",
        "**Answer:**  \n",
        "Polynomial Regression models the relationship as an nth-degree polynomial.  \n",
        "\n",
        "Example (2nd degree):  \n",
        "\n",
        "\\[\n",
        "Y = \\beta_0 + \\beta_1 X + \\beta_2 X^2 + \\epsilon\n",
        "\\]  \n",
        "\n",
        "**Difference from Linear Regression:**  \n",
        "- Linear regression → straight line.  \n",
        "- Polynomial regression → curved line (nonlinear).  \n",
        "- Useful when data shows curvature.\n"
      ],
      "metadata": {
        "id": "8l2CpPhW12YP"
      }
    },
    {
      "cell_type": "markdown",
      "source": [
        "### Question 6:  Implement a Python program to fit a Simple Linear Regression model to the following sample data:\n",
        "**Data:**  \n",
        "X = [1, 2, 3, 4, 5]  \n",
        "Y = [2.1, 4.3, 6.1, 7.9, 10.2]\\\n",
        "Plot the regression line over the data points.\n",
        "(Include your Python code and output in the code box below.)"
      ],
      "metadata": {
        "id": "IqrpJXXC18FV"
      }
    },
    {
      "cell_type": "code",
      "source": [
        "import numpy as np\n",
        "import matplotlib.pyplot as plt\n",
        "from sklearn.linear_model import LinearRegression\n",
        "\n",
        "X = np.array([1, 2, 3, 4, 5]).reshape(-1,1)\n",
        "Y = np.array([2.1, 4.3, 6.1, 7.9, 10.2])\n",
        "\n",
        "model = LinearRegression()\n",
        "model.fit(X, Y)\n",
        "\n",
        "Y_pred = model.predict(X)\n",
        "\n",
        "plt.scatter(X, Y, color='blue', label='Data')\n",
        "plt.plot(X, Y_pred, color='red', label='Regression Line')\n",
        "plt.xlabel(\"X\")\n",
        "plt.ylabel(\"Y\")\n",
        "plt.legend()\n",
        "plt.show()\n",
        "\n",
        "print(\"Intercept:\", model.intercept_)\n",
        "print(\"Slope:\", model.coef_[0])\n"
      ],
      "metadata": {
        "colab": {
          "base_uri": "https://localhost:8080/",
          "height": 484
        },
        "id": "z5LXOeKF19Qq",
        "outputId": "d7ef2293-07f5-45fb-9f91-b15f6a88cd63"
      },
      "execution_count": 1,
      "outputs": [
        {
          "output_type": "display_data",
          "data": {
            "text/plain": [
              "<Figure size 640x480 with 1 Axes>"
            ],
            "image/png": "[encoded data removed]"
          },
          "metadata": {}
        },
        {
          "output_type": "stream",
          "name": "stdout",
          "text": [
            "Intercept: 0.17999999999999794\n",
            "Slope: 1.9800000000000004\n"
          ]
        }
      ]
    },
    {
      "cell_type": "markdown",
      "source": [
        "### Question 7:  Fit a Multiple Linear Regression model on this sample data:\n",
        "**Data:**  \n",
        "Area = [1200, 1500, 1800, 2000]  \n",
        "Rooms = [2, 3, 3, 4]  \n",
        "Price = [250000, 300000, 320000, 370000]\\\n",
        "Check for multicollinearity using VIF and report the results.\n",
        "(Include your Python code and output in the code box below.)\n"
      ],
      "metadata": {
        "id": "zayQCLnj2GLA"
      }
    },
    {
      "cell_type": "code",
      "source": [
        "import pandas as pd\n",
        "import statsmodels.api as sm\n",
        "from statsmodels.stats.outliers_influence import variance_inflation_factor\n",
        "\n",
        "data = pd.DataFrame({\n",
        "    'Area': [1200, 1500, 1800, 2000],\n",
        "    'Rooms': [2, 3, 3, 4],\n",
        "    'Price': [250000, 300000, 320000, 370000]\n",
        "})\n",
        "\n",
        "X = data[['Area','Rooms']]\n",
        "Y = data['Price']\n",
        "\n",
        "X_const = sm.add_constant(X)\n",
        "model = sm.OLS(Y, X_const).fit()\n",
        "print(model.summary())\n",
        "\n",
        "# VIF\n",
        "vif_data = pd.DataFrame()\n",
        "vif_data['Feature'] = X_const.columns\n",
        "vif_data['VIF'] = [variance_inflation_factor(X_const.values, i) for i in range(X_const.shape[1])]\n",
        "print(vif_data)\n"
      ],
      "metadata": {
        "colab": {
          "base_uri": "https://localhost:8080/"
        },
        "id": "eXLXg9NJ2HU6",
        "outputId": "18cd2a8b-2b77-47a7-c05e-c2ceeffccc12"
      },
      "execution_count": 2,
      "outputs": [
        {
          "output_type": "stream",
          "name": "stdout",
          "text": [
            "                            OLS Regression Results                            \n",
            "==============================================================================\n",
            "Dep. Variable:                  Price   R-squared:                       0.999\n",
            "Model:                            OLS   Adj. R-squared:                  0.996\n",
            "Method:                 Least Squares   F-statistic:                     351.0\n",
            "Date:                Thu, 09 Oct 2025   Prob (F-statistic):             0.0377\n",
            "Time:                        07:21:30   Log-Likelihood:                -35.242\n",
            "No. Observations:                   4   AIC:                             76.48\n",
            "Df Residuals:                       1   BIC:                             74.64\n",
            "Df Model:                           2                                         \n",
            "Covariance Type:            nonrobust                                         \n",
            "==============================================================================\n",
            "                 coef    std err          t      P>|t|      [0.025      0.975]\n",
            "------------------------------------------------------------------------------\n",
            "const       1.032e+05   9488.293     10.872      0.058   -1.74e+04    2.24e+05\n",
            "Area          63.1579     14.886      4.243      0.147    -125.992     252.308\n",
            "Rooms       3.474e+04   6381.240      5.444      0.116   -4.63e+04    1.16e+05\n",
            "==============================================================================\n",
            "Omnibus:                          nan   Durbin-Watson:                   2.053\n",
            "Prob(Omnibus):                    nan   Jarque-Bera (JB):                0.554\n",
            "Skew:                          -0.154   Prob(JB):                        0.758\n",
            "Kurtosis:                       1.202   Cond. No.                     1.01e+04\n",
            "==============================================================================\n",
            "\n",
            "Notes:\n",
            "[1] Standard Errors assume that the covariance matrix of the errors is correctly specified.\n",
            "[2] The condition number is large, 1.01e+04. This might indicate that there are\n",
            "strong multicollinearity or other numerical problems.\n",
            "  Feature        VIF\n",
            "0   const  34.210526\n",
            "1    Area   7.736842\n",
            "2   Rooms   7.736842\n"
          ]
        },
        {
          "output_type": "stream",
          "name": "stderr",
          "text": [
            "/usr/local/lib/python3.12/dist-packages/statsmodels/stats/stattools.py:74: ValueWarning: omni_normtest is not valid with less than 8 observations; 4 samples were given.\n",
            "  warn(\"omni_normtest is not valid with less than 8 observations; %i \"\n"
          ]
        }
      ]
    },
    {
      "cell_type": "markdown",
      "source": [
        "### Question 8:   Implement polynomial regression on the following data:\n",
        "**Data:**  \n",
        "X = [1, 2, 3, 4, 5]  \n",
        "Y = [2.2, 4.8, 7.5, 11.2, 14.7]\n",
        "\n",
        "Fit a 2nd-degree polynomial and plot the resulting curve.\n",
        "(Include your Python code and output in the code box below.)\n"
      ],
      "metadata": {
        "id": "-kHiw8qo2NeF"
      }
    },
    {
      "cell_type": "code",
      "source": [
        "from sklearn.preprocessing import PolynomialFeatures\n",
        "from sklearn.linear_model import LinearRegression\n",
        "\n",
        "X = np.array([1,2,3,4,5]).reshape(-1,1)\n",
        "Y = np.array([2.2, 4.8, 7.5, 11.2, 14.7])\n",
        "\n",
        "poly = PolynomialFeatures(degree=2)\n",
        "X_poly = poly.fit_transform(X)\n",
        "\n",
        "model = LinearRegression()\n",
        "model.fit(X_poly, Y)\n",
        "Y_pred = model.predict(X_poly)\n",
        "\n",
        "plt.scatter(X, Y, color='blue')\n",
        "plt.plot(X, Y_pred, color='red')\n",
        "plt.xlabel(\"X\")\n",
        "plt.ylabel(\"Y\")\n",
        "plt.title(\"Polynomial Regression (Degree 2)\")\n",
        "plt.show()\n",
        "\n",
        "print(\"Coefficients:\", model.coef_)\n",
        "print(\"Intercept:\", model.intercept_)\n"
      ],
      "metadata": {
        "colab": {
          "base_uri": "https://localhost:8080/",
          "height": 507
        },
        "id": "so0fk-Kj2SVp",
        "outputId": "84bef4a6-9401-4ff2-9bb7-3e11a6661e7e"
      },
      "execution_count": 3,
      "outputs": [
        {
          "output_type": "display_data",
          "data": {
            "text/plain": [
              "<Figure size 640x480 with 1 Axes>"
            ],
            "image/png": "[encoded data removed]"
          },
          "metadata": {}
        },
        {
          "output_type": "stream",
          "name": "stdout",
          "text": [
            "Coefficients: [0.   1.94 0.2 ]\n",
            "Intercept: 0.06000000000000938\n"
          ]
        }
      ]
    },
    {
      "cell_type": "markdown",
      "source": [
        "### Question 9: Create a residuals plot for a regression model trained on this data:\n",
        "**Data:**  \n",
        "X = [10, 20, 30, 40, 50]  \n",
        "Y = [15, 35, 40, 50, 65]\n",
        "\n",
        "Assess heteroscedasticity by examining the spread of residuals.\n",
        "(Include your Python code and output in the code box below.)\n"
      ],
      "metadata": {
        "id": "2ODUmqZN2Vel"
      }
    },
    {
      "cell_type": "code",
      "source": [
        "X = np.array([10,20,30,40,50]).reshape(-1,1)\n",
        "Y = np.array([15,35,40,50,65])\n",
        "\n",
        "model = LinearRegression()\n",
        "model.fit(X,Y)\n",
        "Y_pred = model.predict(X)\n",
        "\n",
        "residuals = Y - Y_pred\n",
        "\n",
        "plt.scatter(X, residuals, color='blue')\n",
        "plt.axhline(y=0, color='red', linestyle='--')\n",
        "plt.xlabel(\"X\")\n",
        "plt.ylabel(\"Residuals\")\n",
        "plt.title(\"Residuals Plot\")\n",
        "plt.show()\n"
      ],
      "metadata": {
        "colab": {
          "base_uri": "https://localhost:8080/",
          "height": 472
        },
        "id": "Ok-BfBz22XxO",
        "outputId": "8cf2af20-a0fd-43e3-a9db-dda75805e4ba"
      },
      "execution_count": 4,
      "outputs": [
        {
          "output_type": "display_data",
          "data": {
            "text/plain": [
              "<Figure size 640x480 with 1 Axes>"
            ],
            "image/png": "[encoded data removed]"
          },
          "metadata": {}
        }
      ]
    },
    {
      "cell_type": "markdown",
      "source": [
        "### Question 10:  Imagine you are a data scientist working for a real estate company. You need to predict house prices using features like area, number of rooms, and location. However, you detect heteroscedasticity and multicollinearity in your regression model. Explain the steps you would take to address these issues and ensure a robust model.\n",
        "**Answer:**  \n",
        "As a data scientist predicting house prices:  \n",
        "\n",
        "1. **Fixing Heteroscedasticity**  \n",
        "   - Transform variables (log/sqrt).  \n",
        "   - Use Weighted Least Squares.  \n",
        "   - Apply robust regression.  \n",
        "\n",
        "2. **Fixing Multicollinearity**  \n",
        "   - Calculate VIF.  \n",
        "   - Drop or combine correlated features (e.g., Rooms & Area).  \n",
        "   - Use PCA or Regularization (Ridge/Lasso).  \n",
        "\n",
        "3. **Validation**  \n",
        "   - Perform cross-validation.  \n",
        "   - Evaluate metrics like RMSE, R², Adjusted R².  \n",
        "\n",
        "This ensures a robust and reliable model.\n"
      ],
      "metadata": {
        "id": "Zy2pDBL82dkb"
      }
    },
    {
      "cell_type": "markdown",
      "source": [],
      "metadata": {
        "id": "tNxf0r-A2fBo"
      }
    }
  ]
}