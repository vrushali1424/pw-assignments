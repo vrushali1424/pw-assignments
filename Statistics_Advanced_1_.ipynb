{
  "nbformat": 4,
  "nbformat_minor": 0,
  "metadata": {
    "colab": {
      "provenance": []
    },
    "kernelspec": {
      "name": "python3",
      "display_name": "Python 3"
    },
    "language_info": {
      "name": "python"
    }
  },
  "cells": [
    {
      "cell_type": "markdown",
      "source": [
        "\n",
        "\n",
        "# Statistics Advanced - 1 | Assignment\n",
        "\n",
        "---\n",
        "\n"
      ],
      "metadata": {
        "id": "JxOg86V1cu2Q"
      }
    },
    {
      "cell_type": "markdown",
      "source": [
        "# Question 1: What is a random variable in probability theory?"
      ],
      "metadata": {
        "id": "QgX9wXo6c8q1"
      }
    },
    {
      "cell_type": "markdown",
      "source": [
        "Answer:\\\n",
        "A random variable is a numerical outcome of a random experiment.\\ It assigns numerical values to each possible event in a sample space. Random variables help in quantifying uncertain outcomes."
      ],
      "metadata": {
        "id": "4SyCvGkydFX4"
      }
    },
    {
      "cell_type": "markdown",
      "source": [
        "# Question 2: What are the types of random variables?\n",
        "\n"
      ],
      "metadata": {
        "id": "hPsrJv99dKMP"
      }
    },
    {
      "cell_type": "markdown",
      "source": [
        "Answer:\\\n",
        "Random variables are of two main types:\n",
        "\n",
        "Discrete Random Variable – Takes countable values (e.g., number of heads in 10 coin tosses).\n",
        "\n",
        "Continuous Random Variable – Takes values from an interval or continuum (e.g., height of students, time taken to finish a task)."
      ],
      "metadata": {
        "id": "MuR0TqebdOiI"
      }
    },
    {
      "cell_type": "markdown",
      "source": [
        "# Question 3: Explain the difference between discrete and continuous distributions."
      ],
      "metadata": {
        "id": "qHG5WXEwdSzq"
      }
    },
    {
      "cell_type": "markdown",
      "source": [
        "Answer:\n",
        "\n",
        "Discrete Distribution: Describes probability of outcomes of a discrete random variable. Values are countable, probabilities are assigned individually. Example: Binomial distribution.\n",
        "\n",
        "Continuous Distribution: Describes probability of outcomes of a continuous random variable. Values lie on a continuum, probability is defined using density function (area under curve). Example: Normal distribution."
      ],
      "metadata": {
        "id": "dVNhbqWGdV_4"
      }
    },
    {
      "cell_type": "markdown",
      "source": [
        "#Question 4: What is a binomial distribution, and how is it used in probability?"
      ],
      "metadata": {
        "id": "sYMtINJodYeN"
      }
    },
    {
      "cell_type": "markdown",
      "source": [
        "\n",
        "\n",
        "\n",
        "A binomial distribution describes the number of successes in a fixed number of independent Bernoulli trials (yes/no experiments), with constant probability of success p.\n",
        "\n",
        "* Formula=\n",
        "### Binomial Distribution\n",
        "$$ P(X = k) = \\binom{n}{k} p^k (1-p)^{n-k} $$\n",
        "\n",
        "\n",
        "* Usage:\n",
        "\n",
        "* Quality control (defective vs. non-defective items)\n",
        "\n",
        "* Survey responses (yes/no)\n",
        "\n",
        "* Clinical trials (success/failure)"
      ],
      "metadata": {
        "id": "ChkqFTShdbmt"
      }
    },
    {
      "cell_type": "markdown",
      "source": [
        "# Question 5: What is the standard normal distribution, and why is it important?"
      ],
      "metadata": {
        "id": "jm8FjWIcfmHC"
      }
    },
    {
      "cell_type": "markdown",
      "source": [
        "Answer:\\\n",
        "The standard normal distribution is a normal distribution with:\n",
        "\n",
        "Mean = 0\n",
        "\n",
        "Standard deviation = 1\n",
        "\n",
        "It is important because:\n",
        "\n",
        "Any normal distribution can be transformed into standard normal using z-scores.\n",
        "\n",
        "It is used in hypothesis testing, confidence intervals, and probability calculations."
      ],
      "metadata": {
        "id": "svZy-hPhfnrs"
      }
    },
    {
      "cell_type": "markdown",
      "source": [
        "# Question 6: What is the Central Limit Theorem (CLT), and why is it critical in statistics?"
      ],
      "metadata": {
        "id": "Zzu_8SbTfud9"
      }
    },
    {
      "cell_type": "markdown",
      "source": [
        "Answer:\\\n",
        "The Central Limit Theorem (CLT) states that the sampling distribution of the sample mean approaches a normal distribution as the sample size increases, regardless of the population distribution, provided n is large enough.\n",
        "\n",
        "Importance:\n",
        "\n",
        "Justifies using normal distribution for inference.\n",
        "\n",
        "Basis of confidence intervals and hypothesis testing.\n",
        "\n",
        "Allows approximation of probabilities for large samples."
      ],
      "metadata": {
        "id": "5nj1fqCefx_v"
      }
    },
    {
      "cell_type": "markdown",
      "source": [
        "# Question 7: What is the significance of confidence intervals in statistical analysis?"
      ],
      "metadata": {
        "id": "Z8mNUqr7f2Vn"
      }
    },
    {
      "cell_type": "markdown",
      "source": [
        "Answer:\\\n",
        "A confidence interval (CI) provides a range of values within which the true population parameter is expected to lie, with a certain confidence level (e.g., 95%).\n",
        "\n",
        "Significance:\n",
        "\n",
        "Measures reliability of sample estimates.\n",
        "\n",
        "Provides a range instead of a single value.\n",
        "\n",
        "Helps in decision-making under uncertainty."
      ],
      "metadata": {
        "id": "8nXh5Ilrf6K-"
      }
    },
    {
      "cell_type": "markdown",
      "source": [
        "# Question 8: What is the concept of expected value in a probability distribution?"
      ],
      "metadata": {
        "id": "ycfs6aFkf98W"
      }
    },
    {
      "cell_type": "markdown",
      "source": [
        "Answer:\\\n",
        "The expected value (mean) of a random variable is the long-run average outcome if the experiment is repeated many times.\n",
        "\n",
        "### Expected Value (Discrete)\n",
        "$$ E[X] = \\sum_{i=1}^n x_i \\, P(x_i) $$\n",
        "\n",
        "### Expected Value (Continuous)\n",
        "$$ E[X] = \\int_{-\\infty}^{\\infty} x \\, f(x) \\, dx $$\n",
        "\n",
        "Example: If you roll a fair die,\n",
        "\n",
        "E[X]=(1+2+3+4+5+6)/6=3.5."
      ],
      "metadata": {
        "id": "7JURgOi_gAmF"
      }
    },
    {
      "cell_type": "markdown",
      "source": [
        "# Question 9: Write a Python program to generate 1000 random numbers from a normal distribution with mean = 50 and standard deviation = 5. Compute its mean and standard deviation using NumPy, and draw a histogram to visualize the distribution. (Include your Python code and output in the code box below.)"
      ],
      "metadata": {
        "id": "kI5TkT8ggcYC"
      }
    },
    {
      "cell_type": "code",
      "source": [
        "import numpy as np\n",
        "import matplotlib.pyplot as plt\n",
        "\n",
        "# Generate random numbers\n",
        "data = np.random.normal(loc=50, scale=5, size=1000)\n",
        "\n",
        "# Compute statistics\n",
        "mean_val = np.mean(data)\n",
        "std_val = np.std(data)\n",
        "\n",
        "print(\"Mean:\", mean_val)\n",
        "print(\"Standard Deviation:\", std_val)\n",
        "\n",
        "# Plot histogram\n",
        "plt.hist(data, bins=30, edgecolor='black', alpha=0.7)\n",
        "plt.title(\"Normal Distribution (mean=50, std=5)\")\n",
        "plt.xlabel(\"Value\")\n",
        "plt.ylabel(\"Frequency\")\n",
        "plt.show()\n"
      ],
      "metadata": {
        "colab": {
          "base_uri": "https://localhost:8080/",
          "height": 507
        },
        "id": "B-UaWYHNgjm7",
        "outputId": "e6d5c10d-aea8-46aa-f39c-3d7bf906d23d"
      },
      "execution_count": 2,
      "outputs": [
        {
          "output_type": "stream",
          "name": "stdout",
          "text": [
            "Mean: 49.82392293936377\n",
            "Standard Deviation: 4.9655440303938665\n"
          ]
        },
        {
          "output_type": "display_data",
          "data": {
            "text/plain": [
              "<Figure size 640x480 with 1 Axes>"
            ],
            "image/png": "[encoded data removed]"
          },
          "metadata": {}
        }
      ]
    },
    {
      "cell_type": "markdown",
      "source": [
        "# Question 10: You are working as a data analyst for a retail company. The company has collected daily sales data for 2 years and wants you to identify the overall sales trend.\n",
        "\n",
        " daily_sales = [220, 245, 210, 265, 230, 250, 260, 275, 240, 255,\n",
        "               235, 260, 245, 250, 225, 270, 265, 255, 250, 260]\n",
        "\n",
        "* Explain how you would apply the Central Limit Theorem to estimate the average sales with a 95% confidence interval.\n",
        "\n",
        "* Write the Python code to compute the mean sales and its confidence interval. (Include your Python code and output in the code box below.)"
      ],
      "metadata": {
        "id": "1ke0y6cigpL6"
      }
    },
    {
      "cell_type": "markdown",
      "source": [
        "Step 1: \\\n",
        "Apply CLT\n",
        "\n",
        "With sample size n = 20, sample mean approximates population mean.\n",
        "\n",
        "Use t-distribution or normal approximation for 95% CI.\n",
        "\n",
        "Formula:\n",
        "\n",
        "### Confidence Interval (using t-distribution)\n",
        "$$ CI = \\bar{x} \\pm t \\cdot \\frac{s}{\\sqrt{n}} $$\n",
        "\n",
        "(where 𝑡  is critical value for 95% confidence)."
      ],
      "metadata": {
        "id": "TuOMdhA4hFqZ"
      }
    },
    {
      "cell_type": "code",
      "source": [
        "import numpy as np\n",
        "import scipy.stats as st\n",
        "\n",
        "daily_sales = [220, 245, 210, 265, 230, 250, 260, 275, 240, 255,\n",
        "               235, 260, 245, 250, 225, 270, 265, 255, 250, 260]\n",
        "\n",
        "# Mean and Standard Error\n",
        "mean_sales = np.mean(daily_sales)\n",
        "sem = st.sem(daily_sales)\n",
        "\n",
        "# 95% Confidence Interval\n",
        "confidence_interval = st.t.interval(0.95, len(daily_sales)-1,\n",
        "                                    loc=mean_sales, scale=sem)\n",
        "\n",
        "print(\"Mean Sales:\", mean_sales)\n",
        "print(\"95% Confidence Interval:\", confidence_interval)\n"
      ],
      "metadata": {
        "colab": {
          "base_uri": "https://localhost:8080/"
        },
        "id": "jebNzi0Chcfk",
        "outputId": "7ed138a6-6730-4adc-bc40-cb8097cf1dee"
      },
      "execution_count": 3,
      "outputs": [
        {
          "output_type": "stream",
          "name": "stdout",
          "text": [
            "Mean Sales: 248.25\n",
            "95% Confidence Interval: (np.float64(240.16957025147158), np.float64(256.3304297485284))\n"
          ]
        }
      ]
    },
    {
      "cell_type": "markdown",
      "source": [
        "Interpretation:\\\n",
        "We are 95% confident that the true average daily sales lie between ~239 and ~256 units."
      ],
      "metadata": {
        "id": "rtHKaCYJhydt"
      }
    }
  ]
}