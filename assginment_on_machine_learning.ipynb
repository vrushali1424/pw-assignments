{
  "nbformat": 4,
  "nbformat_minor": 0,
  "metadata": {
    "colab": {
      "provenance": []
    },
    "kernelspec": {
      "name": "python3",
      "display_name": "Python 3"
    },
    "language_info": {
      "name": "python"
    }
  },
  "cells": [
    {
      "cell_type": "markdown",
      "source": [
        "# 1.What is a parameter?"
      ],
      "metadata": {
        "id": "bq6Y784lZdVt"
      }
    },
    {
      "cell_type": "markdown",
      "source": [
        "A parameter is an internal variable that a machine learning model learns from training data.\n",
        "\n",
        "Example: In a linear regression model y = mx + c, the slope m and intercept c are parameters learned from data."
      ],
      "metadata": {
        "id": "5BUsOo4kZrMw"
      }
    },
    {
      "cell_type": "markdown",
      "source": [
        "# 2. What is correlation?"
      ],
      "metadata": {
        "id": "_bfKZaA4Zul9"
      }
    },
    {
      "cell_type": "markdown",
      "source": [
        "Correlation measures the strength and direction of a linear relationship between two variables.\n",
        "\n",
        "Value lies between -1 and +1.\n",
        "\n",
        "+1 → Strong positive relation\n",
        "\n",
        "-1 → Strong negative relation\n",
        "\n",
        "0 → No relation"
      ],
      "metadata": {
        "id": "IQk19bsKZypx"
      }
    },
    {
      "cell_type": "markdown",
      "source": [
        "# 3. What does negative correlation mean?"
      ],
      "metadata": {
        "id": "Bsy6-Av0Z1xe"
      }
    },
    {
      "cell_type": "markdown",
      "source": [
        "Negative correlation means that when one variable increases, the other decreases.\n",
        "\n",
        "Example: Number of hours spent watching TV 📺 vs exam score 📊 (more TV, lower score)."
      ],
      "metadata": {
        "id": "IF90u2QjZ4wh"
      }
    },
    {
      "cell_type": "markdown",
      "source": [
        "# 4. Define Machine Learning. What are the main components in Machine Learning?"
      ],
      "metadata": {
        "id": "_CzT68GGZ7kd"
      }
    },
    {
      "cell_type": "markdown",
      "source": [
        "Machine Learning (ML) is the science of teaching machines to learn from data and make predictions/decisions without explicit programming.\n",
        "\n",
        "Main components:\n",
        "\n",
        "Data – input information\n",
        "\n",
        "Features – independent variables\n",
        "\n",
        "Model – algorithm/structure (e.g., regression, decision tree)\n",
        "\n",
        "Loss function – measures error\n",
        "\n",
        "Optimizer – reduces loss\n",
        "\n",
        "Evaluation – checks performance"
      ],
      "metadata": {
        "id": "CxrS0W1LZ9eL"
      }
    },
    {
      "cell_type": "markdown",
      "source": [
        "# 5. How does loss value help in determining whether the model is good or not?"
      ],
      "metadata": {
        "id": "KgAxLZgsaBqZ"
      }
    },
    {
      "cell_type": "markdown",
      "source": [
        "Loss function measures how far predictions are from actual values.\n",
        "\n",
        "Lower loss → better model.\n",
        "\n",
        "Example:\n",
        "\n",
        "MSE (Mean Squared Error) for regression\n",
        "\n",
        "Cross-Entropy Loss for classification"
      ],
      "metadata": {
        "id": "3cUu6-rnaL0K"
      }
    },
    {
      "cell_type": "markdown",
      "source": [
        "# 6. What are continuous and categorical variables?"
      ],
      "metadata": {
        "id": "lYFYIHlVaOIf"
      }
    },
    {
      "cell_type": "markdown",
      "source": [
        "Continuous variable → numeric values with infinite possibilities.\n",
        "Example: height, weight, temperature.\n",
        "\n",
        "Categorical variable → represent categories or labels.\n",
        "Example: gender (male/female), city (Mumbai, Pune)."
      ],
      "metadata": {
        "id": "3yDeLTsdaSDb"
      }
    },
    {
      "cell_type": "markdown",
      "source": [
        "# 7. How do we handle categorical variables in Machine Learning? What are the common techniques?"
      ],
      "metadata": {
        "id": "j48OtR19aVQA"
      }
    },
    {
      "cell_type": "markdown",
      "source": [
        "Encoding techniques:\n",
        "\n",
        "Label Encoding – assigns a number to each category (e.g., Male=0, Female=1).\n",
        "\n",
        "One-Hot Encoding – creates separate binary columns (e.g., Mumbai=[1,0], Pune=[0,1]).\n",
        "\n",
        "Ordinal Encoding – used when categories have an order (e.g., Small=1, Medium=2, Large=3)."
      ],
      "metadata": {
        "id": "-B_IFBb6aYls"
      }
    },
    {
      "cell_type": "markdown",
      "source": [
        "# 8. What do you mean by training and testing a dataset?"
      ],
      "metadata": {
        "id": "W_HD9P86acmw"
      }
    },
    {
      "cell_type": "markdown",
      "source": [
        "Training set → used to teach the model (fit parameters).\n",
        "\n",
        "Testing set → used to check how well the model generalizes to unseen data."
      ],
      "metadata": {
        "id": "flHFvS2Kaf5u"
      }
    },
    {
      "cell_type": "markdown",
      "source": [
        "# 9. What is sklearn.preprocessing?"
      ],
      "metadata": {
        "id": "La3ObTHiaiYc"
      }
    },
    {
      "cell_type": "markdown",
      "source": [
        "A module in scikit-learn that provides tools for scaling, normalization, encoding, and transformation of data.\n",
        "\n",
        "Example: StandardScaler, MinMaxScaler, LabelEncoder, OneHotEncoder."
      ],
      "metadata": {
        "id": "nlz23ypoal5d"
      }
    },
    {
      "cell_type": "markdown",
      "source": [
        "# 10. What is a Test set?"
      ],
      "metadata": {
        "id": "WxhfnJlSaqzu"
      }
    },
    {
      "cell_type": "markdown",
      "source": [
        "A portion of data kept aside to evaluate model performance.\n",
        "\n",
        "Never used during training."
      ],
      "metadata": {
        "id": "EwOoJ3HFascL"
      }
    },
    {
      "cell_type": "markdown",
      "source": [
        "# 11. How do we split data for model fitting (training and testing) in Python?"
      ],
      "metadata": {
        "id": "ajs-UKtQau0E"
      }
    },
    {
      "cell_type": "code",
      "source": [
        "from sklearn.datasets import load_iris\n",
        "from sklearn.model_selection import train_test_split\n",
        "import pandas as pd\n",
        "\n",
        "# Step 1: Load a sample dataset (Iris dataset)\n",
        "iris = load_iris()\n",
        "X = pd.DataFrame(iris.data, columns=iris.feature_names)  # Features\n",
        "y = pd.Series(iris.target, name='target')               # Target labels\n",
        "\n",
        "print(\"X (features):\")\n",
        "display(X.head())\n",
        "print(\"\\ny (target):\")\n",
        "display(y.head())\n",
        "\n",
        "# Step 2: Split into Training and Testing sets\n",
        "X_train, X_test, y_train, y_test = train_test_split(\n",
        "    X, y, test_size=0.2, random_state=42\n",
        ")\n",
        "\n",
        "print(\"\\nTraining set size:\", X_train.shape, y_train.shape)\n",
        "print(\"Testing set size:\", X_test.shape, y_test.shape)\n"
      ],
      "metadata": {
        "colab": {
          "base_uri": "https://localhost:8080/",
          "height": 534
        },
        "id": "PGuMT-ArbvCD",
        "outputId": "a7df0dd6-978b-4066-9f09-cc694103f544"
      },
      "execution_count": 3,
      "outputs": [
        {
          "output_type": "stream",
          "name": "stdout",
          "text": [
            "X (features):\n"
          ]
        },
        {
          "output_type": "display_data",
          "data": {
            "text/plain": [
              "   sepal length (cm)  sepal width (cm)  petal length (cm)  petal width (cm)\n",
              "0                5.1               3.5                1.4               0.2\n",
              "1                4.9               3.0                1.4               0.2\n",
              "2                4.7               3.2                1.3               0.2\n",
              "3                4.6               3.1                1.5               0.2\n",
              "4                5.0               3.6                1.4               0.2"
            ],
            "text/html": [
              "\n",
              "  <div id=\"df-33daecac-fa56-49d4-adcf-c528a47aa767\" class=\"colab-df-container\">\n",
              "    <div>\n",
              "<style scoped>\n",
              "    .dataframe tbody tr th:only-of-type {\n",
              "        vertical-align: middle;\n",
              "    }\n",
              "\n",
              "    .dataframe tbody tr th {\n",
              "        vertical-align: top;\n",
              "    }\n",
              "\n",
              "    .dataframe thead th {\n",
              "        text-align: right;\n",
              "    }\n",
              "</style>\n",
              "<table border=\"1\" class=\"dataframe\">\n",
              "  <thead>\n",
              "    <tr style=\"text-align: right;\">\n",
              "      <th></th>\n",
              "      <th>sepal length (cm)</th>\n",
              "      <th>sepal width (cm)</th>\n",
              "      <th>petal length (cm)</th>\n",
              "      <th>petal width (cm)</th>\n",
              "    </tr>\n",
              "  </thead>\n",
              "  <tbody>\n",
              "    <tr>\n",
              "      <th>0</th>\n",
              "      <td>5.1</td>\n",
              "      <td>3.5</td>\n",
              "      <td>1.4</td>\n",
              "      <td>0.2</td>\n",
              "    </tr>\n",
              "    <tr>\n",
              "      <th>1</th>\n",
              "      <td>4.9</td>\n",
              "      <td>3.0</td>\n",
              "      <td>1.4</td>\n",
              "      <td>0.2</td>\n",
              "    </tr>\n",
              "    <tr>\n",
              "      <th>2</th>\n",
              "      <td>4.7</td>\n",
              "      <td>3.2</td>\n",
              "      <td>1.3</td>\n",
              "      <td>0.2</td>\n",
              "    </tr>\n",
              "    <tr>\n",
              "      <th>3</th>\n",
              "      <td>4.6</td>\n",
              "      <td>3.1</td>\n",
              "      <td>1.5</td>\n",
              "      <td>0.2</td>\n",
              "    </tr>\n",
              "    <tr>\n",
              "      <th>4</th>\n",
              "      <td>5.0</td>\n",
              "      <td>3.6</td>\n",
              "      <td>1.4</td>\n",
              "      <td>0.2</td>\n",
              "    </tr>\n",
              "  </tbody>\n",
              "</table>\n",
              "</div>\n",
              "    <div class=\"colab-df-buttons\">\n",
              "\n",
              "  <div class=\"colab-df-container\">\n",
              "    <button class=\"colab-df-convert\" onclick=\"convertToInteractive('df-33daecac-fa56-49d4-adcf-c528a47aa767')\"\n",
              "            title=\"Convert this dataframe to an interactive table.\"\n",
              "            style=\"display:none;\">\n",
              "\n",
              "  <svg xmlns=\"http://www.w3.org/2000/svg\" height=\"24px\" viewBox=\"0 -960 960 960\">\n",
              "    <path d=\"M120-120v-720h720v720H120Zm60-500h600v-160H180v160Zm220 220h160v-160H400v160Zm0 220h160v-160H400v160ZM180-400h160v-160H180v160Zm440 0h160v-160H620v160ZM180-180h160v-160H180v160Zm440 0h160v-160H620v160Z\"/>\n",
              "  </svg>\n",
              "    </button>\n",
              "\n",
              "  <style>\n",
              "    .colab-df-container {\n",
              "      display:flex;\n",
              "      gap: 12px;\n",
              "    }\n",
              "\n",
              "    .colab-df-convert {\n",
              "      background-color: #E8F0FE;\n",
              "      border: none;\n",
              "      border-radius: 50%;\n",
              "      cursor: pointer;\n",
              "      display: none;\n",
              "      fill: #1967D2;\n",
              "      height: 32px;\n",
              "      padding: 0 0 0 0;\n",
              "      width: 32px;\n",
              "    }\n",
              "\n",
              "    .colab-df-convert:hover {\n",
              "      background-color: #E2EBFA;\n",
              "      box-shadow: 0px 1px 2px rgba(60, 64, 67, 0.3), 0px 1px 3px 1px rgba(60, 64, 67, 0.15);\n",
              "      fill: #174EA6;\n",
              "    }\n",
              "\n",
              "    .colab-df-buttons div {\n",
              "      margin-bottom: 4px;\n",
              "    }\n",
              "\n",
              "    [theme=dark] .colab-df-convert {\n",
              "      background-color: #3B4455;\n",
              "      fill: #D2E3FC;\n",
              "    }\n",
              "\n",
              "    [theme=dark] .colab-df-convert:hover {\n",
              "      background-color: #434B5C;\n",
              "      box-shadow: 0px 1px 3px 1px rgba(0, 0, 0, 0.15);\n",
              "      filter: drop-shadow(0px 1px 2px rgba(0, 0, 0, 0.3));\n",
              "      fill: #FFFFFF;\n",
              "    }\n",
              "  </style>\n",
              "\n",
              "    <script>\n",
              "      const buttonEl =\n",
              "        document.querySelector('#df-33daecac-fa56-49d4-adcf-c528a47aa767 button.colab-df-convert');\n",
              "      buttonEl.style.display =\n",
              "        google.colab.kernel.accessAllowed ? 'block' : 'none';\n",
              "\n",
              "      async function convertToInteractive(key) {\n",
              "        const element = document.querySelector('#df-33daecac-fa56-49d4-adcf-c528a47aa767');\n",
              "        const dataTable =\n",
              "          await google.colab.kernel.invokeFunction('convertToInteractive',\n",
              "                                                    [key], {});\n",
              "        if (!dataTable) return;\n",
              "\n",
              "        const docLinkHtml = 'Like what you see? Visit the ' +\n",
              "          '<a target=\"_blank\" href=https://colab.research.google.com/notebooks/data_table.ipynb>data table notebook</a>'\n",
              "          + ' to learn more about interactive tables.';\n",
              "        element.innerHTML = '';\n",
              "        dataTable['output_type'] = 'display_data';\n",
              "        await google.colab.output.renderOutput(dataTable, element);\n",
              "        const docLink = document.createElement('div');\n",
              "        docLink.innerHTML = docLinkHtml;\n",
              "        element.appendChild(docLink);\n",
              "      }\n",
              "    </script>\n",
              "  </div>\n",
              "\n",
              "\n",
              "    <div id=\"df-91195e1d-353d-4400-8a87-113286938734\">\n",
              "      <button class=\"colab-df-quickchart\" onclick=\"quickchart('df-91195e1d-353d-4400-8a87-113286938734')\"\n",
              "                title=\"Suggest charts\"\n",
              "                style=\"display:none;\">\n",
              "\n",
              "<svg xmlns=\"http://www.w3.org/2000/svg\" height=\"24px\"viewBox=\"0 0 24 24\"\n",
              "     width=\"24px\">\n",
              "    <g>\n",
              "        <path d=\"M19 3H5c-1.1 0-2 .9-2 2v14c0 1.1.9 2 2 2h14c1.1 0 2-.9 2-2V5c0-1.1-.9-2-2-2zM9 17H7v-7h2v7zm4 0h-2V7h2v10zm4 0h-2v-4h2v4z\"/>\n",
              "    </g>\n",
              "</svg>\n",
              "      </button>\n",
              "\n",
              "<style>\n",
              "  .colab-df-quickchart {\n",
              "      --bg-color: #E8F0FE;\n",
              "      --fill-color: #1967D2;\n",
              "      --hover-bg-color: #E2EBFA;\n",
              "      --hover-fill-color: #174EA6;\n",
              "      --disabled-fill-color: #AAA;\n",
              "      --disabled-bg-color: #DDD;\n",
              "  }\n",
              "\n",
              "  [theme=dark] .colab-df-quickchart {\n",
              "      --bg-color: #3B4455;\n",
              "      --fill-color: #D2E3FC;\n",
              "      --hover-bg-color: #434B5C;\n",
              "      --hover-fill-color: #FFFFFF;\n",
              "      --disabled-bg-color: #3B4455;\n",
              "      --disabled-fill-color: #666;\n",
              "  }\n",
              "\n",
              "  .colab-df-quickchart {\n",
              "    background-color: var(--bg-color);\n",
              "    border: none;\n",
              "    border-radius: 50%;\n",
              "    cursor: pointer;\n",
              "    display: none;\n",
              "    fill: var(--fill-color);\n",
              "    height: 32px;\n",
              "    padding: 0;\n",
              "    width: 32px;\n",
              "  }\n",
              "\n",
              "  .colab-df-quickchart:hover {\n",
              "    background-color: var(--hover-bg-color);\n",
              "    box-shadow: 0 1px 2px rgba(60, 64, 67, 0.3), 0 1px 3px 1px rgba(60, 64, 67, 0.15);\n",
              "    fill: var(--button-hover-fill-color);\n",
              "  }\n",
              "\n",
              "  .colab-df-quickchart-complete:disabled,\n",
              "  .colab-df-quickchart-complete:disabled:hover {\n",
              "    background-color: var(--disabled-bg-color);\n",
              "    fill: var(--disabled-fill-color);\n",
              "    box-shadow: none;\n",
              "  }\n",
              "\n",
              "  .colab-df-spinner {\n",
              "    border: 2px solid var(--fill-color);\n",
              "    border-color: transparent;\n",
              "    border-bottom-color: var(--fill-color);\n",
              "    animation:\n",
              "      spin 1s steps(1) infinite;\n",
              "  }\n",
              "\n",
              "  @keyframes spin {\n",
              "    0% {\n",
              "      border-color: transparent;\n",
              "      border-bottom-color: var(--fill-color);\n",
              "      border-left-color: var(--fill-color);\n",
              "    }\n",
              "    20% {\n",
              "      border-color: transparent;\n",
              "      border-left-color: var(--fill-color);\n",
              "      border-top-color: var(--fill-color);\n",
              "    }\n",
              "    30% {\n",
              "      border-color: transparent;\n",
              "      border-left-color: var(--fill-color);\n",
              "      border-top-color: var(--fill-color);\n",
              "      border-right-color: var(--fill-color);\n",
              "    }\n",
              "    40% {\n",
              "      border-color: transparent;\n",
              "      border-right-color: var(--fill-color);\n",
              "      border-top-color: var(--fill-color);\n",
              "    }\n",
              "    60% {\n",
              "      border-color: transparent;\n",
              "      border-right-color: var(--fill-color);\n",
              "    }\n",
              "    80% {\n",
              "      border-color: transparent;\n",
              "      border-right-color: var(--fill-color);\n",
              "      border-bottom-color: var(--fill-color);\n",
              "    }\n",
              "    90% {\n",
              "      border-color: transparent;\n",
              "      border-bottom-color: var(--fill-color);\n",
              "    }\n",
              "  }\n",
              "</style>\n",
              "\n",
              "      <script>\n",
              "        async function quickchart(key) {\n",
              "          const quickchartButtonEl =\n",
              "            document.querySelector('#' + key + ' button');\n",
              "          quickchartButtonEl.disabled = true;  // To prevent multiple clicks.\n",
              "          quickchartButtonEl.classList.add('colab-df-spinner');\n",
              "          try {\n",
              "            const charts = await google.colab.kernel.invokeFunction(\n",
              "                'suggestCharts', [key], {});\n",
              "          } catch (error) {\n",
              "            console.error('Error during call to suggestCharts:', error);\n",
              "          }\n",
              "          quickchartButtonEl.classList.remove('colab-df-spinner');\n",
              "          quickchartButtonEl.classList.add('colab-df-quickchart-complete');\n",
              "        }\n",
              "        (() => {\n",
              "          let quickchartButtonEl =\n",
              "            document.querySelector('#df-91195e1d-353d-4400-8a87-113286938734 button');\n",
              "          quickchartButtonEl.style.display =\n",
              "            google.colab.kernel.accessAllowed ? 'block' : 'none';\n",
              "        })();\n",
              "      </script>\n",
              "    </div>\n",
              "\n",
              "    </div>\n",
              "  </div>\n"
            ],
            "application/vnd.google.colaboratory.intrinsic+json": {
              "type": "dataframe",
              "summary": "{\n  \"name\": \"print(\\\"Testing set size:\\\", X_test\",\n  \"rows\": 5,\n  \"fields\": [\n    {\n      \"column\": \"sepal length (cm)\",\n      \"properties\": {\n        \"dtype\": \"number\",\n        \"std\": 0.2073644135332772,\n        \"min\": 4.6,\n        \"max\": 5.1,\n        \"num_unique_values\": 5,\n        \"samples\": [\n          4.9,\n          5.0,\n          4.7\n        ],\n        \"semantic_type\": \"\",\n        \"description\": \"\"\n      }\n    },\n    {\n      \"column\": \"sepal width (cm)\",\n      \"properties\": {\n        \"dtype\": \"number\",\n        \"std\": 0.2588435821108957,\n        \"min\": 3.0,\n        \"max\": 3.6,\n        \"num_unique_values\": 5,\n        \"samples\": [\n          3.0,\n          3.6,\n          3.2\n        ],\n        \"semantic_type\": \"\",\n        \"description\": \"\"\n      }\n    },\n    {\n      \"column\": \"petal length (cm)\",\n      \"properties\": {\n        \"dtype\": \"number\",\n        \"std\": 0.07071067811865474,\n        \"min\": 1.3,\n        \"max\": 1.5,\n        \"num_unique_values\": 3,\n        \"samples\": [\n          1.4,\n          1.3,\n          1.5\n        ],\n        \"semantic_type\": \"\",\n        \"description\": \"\"\n      }\n    },\n    {\n      \"column\": \"petal width (cm)\",\n      \"properties\": {\n        \"dtype\": \"number\",\n        \"std\": 0.0,\n        \"min\": 0.2,\n        \"max\": 0.2,\n        \"num_unique_values\": 1,\n        \"samples\": [\n          0.2\n        ],\n        \"semantic_type\": \"\",\n        \"description\": \"\"\n      }\n    }\n  ]\n}"
            }
          },
          "metadata": {}
        },
        {
          "output_type": "stream",
          "name": "stdout",
          "text": [
            "\n",
            "y (target):\n"
          ]
        },
        {
          "output_type": "display_data",
          "data": {
            "text/plain": [
              "0    0\n",
              "1    0\n",
              "2    0\n",
              "3    0\n",
              "4    0\n",
              "Name: target, dtype: int64"
            ],
            "text/html": [
              "<div>\n",
              "<style scoped>\n",
              "    .dataframe tbody tr th:only-of-type {\n",
              "        vertical-align: middle;\n",
              "    }\n",
              "\n",
              "    .dataframe tbody tr th {\n",
              "        vertical-align: top;\n",
              "    }\n",
              "\n",
              "    .dataframe thead th {\n",
              "        text-align: right;\n",
              "    }\n",
              "</style>\n",
              "<table border=\"1\" class=\"dataframe\">\n",
              "  <thead>\n",
              "    <tr style=\"text-align: right;\">\n",
              "      <th></th>\n",
              "      <th>target</th>\n",
              "    </tr>\n",
              "  </thead>\n",
              "  <tbody>\n",
              "    <tr>\n",
              "      <th>0</th>\n",
              "      <td>0</td>\n",
              "    </tr>\n",
              "    <tr>\n",
              "      <th>1</th>\n",
              "      <td>0</td>\n",
              "    </tr>\n",
              "    <tr>\n",
              "      <th>2</th>\n",
              "      <td>0</td>\n",
              "    </tr>\n",
              "    <tr>\n",
              "      <th>3</th>\n",
              "      <td>0</td>\n",
              "    </tr>\n",
              "    <tr>\n",
              "      <th>4</th>\n",
              "      <td>0</td>\n",
              "    </tr>\n",
              "  </tbody>\n",
              "</table>\n",
              "</div><br><label><b>dtype:</b> int64</label>"
            ]
          },
          "metadata": {}
        },
        {
          "output_type": "stream",
          "name": "stdout",
          "text": [
            "\n",
            "Training set size: (120, 4) (120,)\n",
            "Testing set size: (30, 4) (30,)\n"
          ]
        }
      ]
    },
    {
      "cell_type": "markdown",
      "source": [
        "Explanation:\n",
        "\n",
        "1. Load dataset\n",
        "\n",
        "load_iris() loads the famous Iris dataset (150 flower samples).\n",
        "\n",
        "X = features (sepal & petal measurements).\n",
        "\n",
        "y = target labels (0 = Setosa, 1 = Versicolor, 2 = Virginica).\n",
        "\n",
        "2. Convert to Pandas DataFrame/Series\n",
        "\n",
        "Makes the data easier to view and handle.\n",
        "\n",
        "X.head() and y.head() show first 5 rows.\n",
        "\n",
        "3. Split dataset\n",
        "\n",
        "train_test_split(X, y, test_size=0.2, random_state=42)\n",
        "\n",
        "80% → Training data (used to train model).\n",
        "\n",
        "20% → Testing data (used to evaluate model).\n",
        "\n",
        "random_state=42 ensures reproducibility (same split every time).\n",
        "\n",
        "4. Check sizes\n",
        "\n",
        "Training set: 120 samples (80%)\n",
        "\n",
        "Testing set: 30 samples (20%)"
      ],
      "metadata": {
        "id": "8PLPFcHxb8gd"
      }
    },
    {
      "cell_type": "markdown",
      "source": [
        "# 12. How do you approach a Machine Learning problem?"
      ],
      "metadata": {
        "id": "2r9qIO4AcgpQ"
      }
    },
    {
      "cell_type": "markdown",
      "source": [
        "Steps:\n",
        "\n",
        "1. Understand the problem statement\n",
        "\n",
        "2. Collect & clean data\n",
        "\n",
        "3. Perform Exploratory Data Analysis (EDA)\n",
        "\n",
        "4. Feature engineering & encoding\n",
        "\n",
        "5. Split into train/test\n",
        "\n",
        "6. Choose ML algorithm\n",
        "\n",
        "7. Train model\n",
        "\n",
        "8. Evaluate model (accuracy, precision, recall, etc.)\n",
        "\n",
        "9. Tune hyperparameters\n",
        "\n",
        "10. Deploy model"
      ],
      "metadata": {
        "id": "hbkWl6w7cvcm"
      }
    },
    {
      "cell_type": "markdown",
      "source": [
        "# 13. Why do we have to perform EDA before fitting a model to the data?"
      ],
      "metadata": {
        "id": "RQWlgh4LexhQ"
      }
    },
    {
      "cell_type": "markdown",
      "source": [
        "EDA helps in:\n",
        "\n",
        "Understanding data distribution\n",
        "\n",
        "Detecting outliers & missing values\n",
        "\n",
        "Identifying correlations\n",
        "\n",
        "Selecting right features\n",
        "\n",
        "Without EDA → model may fail or give biased results."
      ],
      "metadata": {
        "id": "5PLnKoTSezf7"
      }
    },
    {
      "cell_type": "markdown",
      "source": [
        "# 16. How can you find correlation between variables in Python?"
      ],
      "metadata": {
        "id": "kS4gOfOLe7No"
      }
    },
    {
      "cell_type": "code",
      "source": [
        "import pandas as pd\n",
        "display(X.corr())   # gives correlation matrix"
      ],
      "metadata": {
        "colab": {
          "base_uri": "https://localhost:8080/",
          "height": 174
        },
        "id": "HLHbZlMSfTbx",
        "outputId": "93bf829f-0997-4dc0-f158-743151b3fa85"
      },
      "execution_count": 6,
      "outputs": [
        {
          "output_type": "display_data",
          "data": {
            "text/plain": [
              "                   sepal length (cm)  sepal width (cm)  petal length (cm)  \\\n",
              "sepal length (cm)           1.000000         -0.117570           0.871754   \n",
              "sepal width (cm)           -0.117570          1.000000          -0.428440   \n",
              "petal length (cm)           0.871754         -0.428440           1.000000   \n",
              "petal width (cm)            0.817941         -0.366126           0.962865   \n",
              "\n",
              "                   petal width (cm)  \n",
              "sepal length (cm)          0.817941  \n",
              "sepal width (cm)          -0.366126  \n",
              "petal length (cm)          0.962865  \n",
              "petal width (cm)           1.000000  "
            ],
            "text/html": [
              "\n",
              "  <div id=\"df-f0508abe-aa0b-4a5a-a384-f3aeec6b5f9c\" class=\"colab-df-container\">\n",
              "    <div>\n",
              "<style scoped>\n",
              "    .dataframe tbody tr th:only-of-type {\n",
              "        vertical-align: middle;\n",
              "    }\n",
              "\n",
              "    .dataframe tbody tr th {\n",
              "        vertical-align: top;\n",
              "    }\n",
              "\n",
              "    .dataframe thead th {\n",
              "        text-align: right;\n",
              "    }\n",
              "</style>\n",
              "<table border=\"1\" class=\"dataframe\">\n",
              "  <thead>\n",
              "    <tr style=\"text-align: right;\">\n",
              "      <th></th>\n",
              "      <th>sepal length (cm)</th>\n",
              "      <th>sepal width (cm)</th>\n",
              "      <th>petal length (cm)</th>\n",
              "      <th>petal width (cm)</th>\n",
              "    </tr>\n",
              "  </thead>\n",
              "  <tbody>\n",
              "    <tr>\n",
              "      <th>sepal length (cm)</th>\n",
              "      <td>1.000000</td>\n",
              "      <td>-0.117570</td>\n",
              "      <td>0.871754</td>\n",
              "      <td>0.817941</td>\n",
              "    </tr>\n",
              "    <tr>\n",
              "      <th>sepal width (cm)</th>\n",
              "      <td>-0.117570</td>\n",
              "      <td>1.000000</td>\n",
              "      <td>-0.428440</td>\n",
              "      <td>-0.366126</td>\n",
              "    </tr>\n",
              "    <tr>\n",
              "      <th>petal length (cm)</th>\n",
              "      <td>0.871754</td>\n",
              "      <td>-0.428440</td>\n",
              "      <td>1.000000</td>\n",
              "      <td>0.962865</td>\n",
              "    </tr>\n",
              "    <tr>\n",
              "      <th>petal width (cm)</th>\n",
              "      <td>0.817941</td>\n",
              "      <td>-0.366126</td>\n",
              "      <td>0.962865</td>\n",
              "      <td>1.000000</td>\n",
              "    </tr>\n",
              "  </tbody>\n",
              "</table>\n",
              "</div>\n",
              "    <div class=\"colab-df-buttons\">\n",
              "\n",
              "  <div class=\"colab-df-container\">\n",
              "    <button class=\"colab-df-convert\" onclick=\"convertToInteractive('df-f0508abe-aa0b-4a5a-a384-f3aeec6b5f9c')\"\n",
              "            title=\"Convert this dataframe to an interactive table.\"\n",
              "            style=\"display:none;\">\n",
              "\n",
              "  <svg xmlns=\"http://www.w3.org/2000/svg\" height=\"24px\" viewBox=\"0 -960 960 960\">\n",
              "    <path d=\"M120-120v-720h720v720H120Zm60-500h600v-160H180v160Zm220 220h160v-160H400v160Zm0 220h160v-160H400v160ZM180-400h160v-160H180v160Zm440 0h160v-160H620v160ZM180-180h160v-160H180v160Zm440 0h160v-160H620v160Z\"/>\n",
              "  </svg>\n",
              "    </button>\n",
              "\n",
              "  <style>\n",
              "    .colab-df-container {\n",
              "      display:flex;\n",
              "      gap: 12px;\n",
              "    }\n",
              "\n",
              "    .colab-df-convert {\n",
              "      background-color: #E8F0FE;\n",
              "      border: none;\n",
              "      border-radius: 50%;\n",
              "      cursor: pointer;\n",
              "      display: none;\n",
              "      fill: #1967D2;\n",
              "      height: 32px;\n",
              "      padding: 0 0 0 0;\n",
              "      width: 32px;\n",
              "    }\n",
              "\n",
              "    .colab-df-convert:hover {\n",
              "      background-color: #E2EBFA;\n",
              "      box-shadow: 0px 1px 2px rgba(60, 64, 67, 0.3), 0px 1px 3px 1px rgba(60, 64, 67, 0.15);\n",
              "      fill: #174EA6;\n",
              "    }\n",
              "\n",
              "    .colab-df-buttons div {\n",
              "      margin-bottom: 4px;\n",
              "    }\n",
              "\n",
              "    [theme=dark] .colab-df-convert {\n",
              "      background-color: #3B4455;\n",
              "      fill: #D2E3FC;\n",
              "    }\n",
              "\n",
              "    [theme=dark] .colab-df-convert:hover {\n",
              "      background-color: #434B5C;\n",
              "      box-shadow: 0px 1px 3px 1px rgba(0, 0, 0, 0.15);\n",
              "      filter: drop-shadow(0px 1px 2px rgba(0, 0, 0, 0.3));\n",
              "      fill: #FFFFFF;\n",
              "    }\n",
              "  </style>\n",
              "\n",
              "    <script>\n",
              "      const buttonEl =\n",
              "        document.querySelector('#df-f0508abe-aa0b-4a5a-a384-f3aeec6b5f9c button.colab-df-convert');\n",
              "      buttonEl.style.display =\n",
              "        google.colab.kernel.accessAllowed ? 'block' : 'none';\n",
              "\n",
              "      async function convertToInteractive(key) {\n",
              "        const element = document.querySelector('#df-f0508abe-aa0b-4a5a-a384-f3aeec6b5f9c');\n",
              "        const dataTable =\n",
              "          await google.colab.kernel.invokeFunction('convertToInteractive',\n",
              "                                                    [key], {});\n",
              "        if (!dataTable) return;\n",
              "\n",
              "        const docLinkHtml = 'Like what you see? Visit the ' +\n",
              "          '<a target=\"_blank\" href=https://colab.research.google.com/notebooks/data_table.ipynb>data table notebook</a>'\n",
              "          + ' to learn more about interactive tables.';\n",
              "        element.innerHTML = '';\n",
              "        dataTable['output_type'] = 'display_data';\n",
              "        await google.colab.output.renderOutput(dataTable, element);\n",
              "        const docLink = document.createElement('div');\n",
              "        docLink.innerHTML = docLinkHtml;\n",
              "        element.appendChild(docLink);\n",
              "      }\n",
              "    </script>\n",
              "  </div>\n",
              "\n",
              "\n",
              "    <div id=\"df-ab8245e6-1254-44df-8d96-4d5576ec8534\">\n",
              "      <button class=\"colab-df-quickchart\" onclick=\"quickchart('df-ab8245e6-1254-44df-8d96-4d5576ec8534')\"\n",
              "                title=\"Suggest charts\"\n",
              "                style=\"display:none;\">\n",
              "\n",
              "<svg xmlns=\"http://www.w3.org/2000/svg\" height=\"24px\"viewBox=\"0 0 24 24\"\n",
              "     width=\"24px\">\n",
              "    <g>\n",
              "        <path d=\"M19 3H5c-1.1 0-2 .9-2 2v14c0 1.1.9 2 2 2h14c1.1 0 2-.9 2-2V5c0-1.1-.9-2-2-2zM9 17H7v-7h2v7zm4 0h-2V7h2v10zm4 0h-2v-4h2v4z\"/>\n",
              "    </g>\n",
              "</svg>\n",
              "      </button>\n",
              "\n",
              "<style>\n",
              "  .colab-df-quickchart {\n",
              "      --bg-color: #E8F0FE;\n",
              "      --fill-color: #1967D2;\n",
              "      --hover-bg-color: #E2EBFA;\n",
              "      --hover-fill-color: #174EA6;\n",
              "      --disabled-fill-color: #AAA;\n",
              "      --disabled-bg-color: #DDD;\n",
              "  }\n",
              "\n",
              "  [theme=dark] .colab-df-quickchart {\n",
              "      --bg-color: #3B4455;\n",
              "      --fill-color: #D2E3FC;\n",
              "      --hover-bg-color: #434B5C;\n",
              "      --hover-fill-color: #FFFFFF;\n",
              "      --disabled-bg-color: #3B4455;\n",
              "      --disabled-fill-color: #666;\n",
              "  }\n",
              "\n",
              "  .colab-df-quickchart {\n",
              "    background-color: var(--bg-color);\n",
              "    border: none;\n",
              "    border-radius: 50%;\n",
              "    cursor: pointer;\n",
              "    display: none;\n",
              "    fill: var(--fill-color);\n",
              "    height: 32px;\n",
              "    padding: 0;\n",
              "    width: 32px;\n",
              "  }\n",
              "\n",
              "  .colab-df-quickchart:hover {\n",
              "    background-color: var(--hover-bg-color);\n",
              "    box-shadow: 0 1px 2px rgba(60, 64, 67, 0.3), 0 1px 3px 1px rgba(60, 64, 67, 0.15);\n",
              "    fill: var(--button-hover-fill-color);\n",
              "  }\n",
              "\n",
              "  .colab-df-quickchart-complete:disabled,\n",
              "  .colab-df-quickchart-complete:disabled:hover {\n",
              "    background-color: var(--disabled-bg-color);\n",
              "    fill: var(--disabled-fill-color);\n",
              "    box-shadow: none;\n",
              "  }\n",
              "\n",
              "  .colab-df-spinner {\n",
              "    border: 2px solid var(--fill-color);\n",
              "    border-color: transparent;\n",
              "    border-bottom-color: var(--fill-color);\n",
              "    animation:\n",
              "      spin 1s steps(1) infinite;\n",
              "  }\n",
              "\n",
              "  @keyframes spin {\n",
              "    0% {\n",
              "      border-color: transparent;\n",
              "      border-bottom-color: var(--fill-color);\n",
              "      border-left-color: var(--fill-color);\n",
              "    }\n",
              "    20% {\n",
              "      border-color: transparent;\n",
              "      border-left-color: var(--fill-color);\n",
              "      border-top-color: var(--fill-color);\n",
              "    }\n",
              "    30% {\n",
              "      border-color: transparent;\n",
              "      border-left-color: var(--fill-color);\n",
              "      border-top-color: var(--fill-color);\n",
              "      border-right-color: var(--fill-color);\n",
              "    }\n",
              "    40% {\n",
              "      border-color: transparent;\n",
              "      border-right-color: var(--fill-color);\n",
              "      border-top-color: var(--fill-color);\n",
              "    }\n",
              "    60% {\n",
              "      border-color: transparent;\n",
              "      border-right-color: var(--fill-color);\n",
              "    }\n",
              "    80% {\n",
              "      border-color: transparent;\n",
              "      border-right-color: var(--fill-color);\n",
              "      border-bottom-color: var(--fill-color);\n",
              "    }\n",
              "    90% {\n",
              "      border-color: transparent;\n",
              "      border-bottom-color: var(--fill-color);\n",
              "    }\n",
              "  }\n",
              "</style>\n",
              "\n",
              "      <script>\n",
              "        async function quickchart(key) {\n",
              "          const quickchartButtonEl =\n",
              "            document.querySelector('#' + key + ' button');\n",
              "          quickchartButtonEl.disabled = true;  // To prevent multiple clicks.\n",
              "          quickchartButtonEl.classList.add('colab-df-spinner');\n",
              "          try {\n",
              "            const charts = await google.colab.kernel.invokeFunction(\n",
              "                'suggestCharts', [key], {});\n",
              "          } catch (error) {\n",
              "            console.error('Error during call to suggestCharts:', error);\n",
              "          }\n",
              "          quickchartButtonEl.classList.remove('colab-df-spinner');\n",
              "          quickchartButtonEl.classList.add('colab-df-quickchart-complete');\n",
              "        }\n",
              "        (() => {\n",
              "          let quickchartButtonEl =\n",
              "            document.querySelector('#df-ab8245e6-1254-44df-8d96-4d5576ec8534 button');\n",
              "          quickchartButtonEl.style.display =\n",
              "            google.colab.kernel.accessAllowed ? 'block' : 'none';\n",
              "        })();\n",
              "      </script>\n",
              "    </div>\n",
              "\n",
              "    </div>\n",
              "  </div>\n"
            ],
            "application/vnd.google.colaboratory.intrinsic+json": {
              "type": "dataframe",
              "summary": "{\n  \"name\": \"display(X\",\n  \"rows\": 4,\n  \"fields\": [\n    {\n      \"column\": \"sepal length (cm)\",\n      \"properties\": {\n        \"dtype\": \"number\",\n        \"std\": 0.5127858813273581,\n        \"min\": -0.11756978413300088,\n        \"max\": 1.0,\n        \"num_unique_values\": 4,\n        \"samples\": [\n          -0.11756978413300088,\n          0.8179411262715758,\n          1.0\n        ],\n        \"semantic_type\": \"\",\n        \"description\": \"\"\n      }\n    },\n    {\n      \"column\": \"sepal width (cm)\",\n      \"properties\": {\n        \"dtype\": \"number\",\n        \"std\": 0.6657080809503223,\n        \"min\": -0.42844010433053864,\n        \"max\": 1.0,\n        \"num_unique_values\": 4,\n        \"samples\": [\n          1.0,\n          -0.3661259325364377,\n          -0.11756978413300088\n        ],\n        \"semantic_type\": \"\",\n        \"description\": \"\"\n      }\n    },\n    {\n      \"column\": \"petal length (cm)\",\n      \"properties\": {\n        \"dtype\": \"number\",\n        \"std\": 0.6887672414981271,\n        \"min\": -0.42844010433053864,\n        \"max\": 1.0,\n        \"num_unique_values\": 4,\n        \"samples\": [\n          -0.42844010433053864,\n          0.962865431402796,\n          0.8717537758865838\n        ],\n        \"semantic_type\": \"\",\n        \"description\": \"\"\n      }\n    },\n    {\n      \"column\": \"petal width (cm)\",\n      \"properties\": {\n        \"dtype\": \"number\",\n        \"std\": 0.6512846518377995,\n        \"min\": -0.3661259325364377,\n        \"max\": 1.0,\n        \"num_unique_values\": 4,\n        \"samples\": [\n          -0.3661259325364377,\n          1.0,\n          0.8179411262715758\n        ],\n        \"semantic_type\": \"\",\n        \"description\": \"\"\n      }\n    }\n  ]\n}"
            }
          },
          "metadata": {}
        }
      ]
    },
    {
      "cell_type": "markdown",
      "source": [
        "# 17. What is causation? Explain difference between correlation and causation with an example."
      ],
      "metadata": {
        "id": "KcJyki60f4qt"
      }
    },
    {
      "cell_type": "markdown",
      "source": [
        "Causation → one variable directly affects another.\n",
        "\n",
        "Correlation → two variables move together, but not necessarily cause each other.\n",
        "\n",
        "Example:\n",
        "\n",
        "Ice cream sales 🍦 and drowning incidents 🌊 are correlated (both increase in summer).\n",
        "\n",
        "But ice cream does not cause drowning. → That’s correlation, not causation."
      ],
      "metadata": {
        "id": "JbQpzDBQgBbI"
      }
    },
    {
      "cell_type": "markdown",
      "source": [
        "# 18. What is an Optimizer? What are different types of optimizers? Explain each with an example."
      ],
      "metadata": {
        "id": "TdWPLB5ugUgD"
      }
    },
    {
      "cell_type": "markdown",
      "source": [
        "Optimizer updates model parameters to minimize loss.\n",
        "\n",
        "Types:\n",
        "\n",
        "Gradient Descent – basic form, updates step-by-step.\n",
        "\n",
        "Stochastic Gradient Descent (SGD) – updates using one sample at a time.\n",
        "\n",
        "Mini-Batch Gradient Descent – updates with small subsets.\n",
        "\n",
        "Adam (Adaptive Moment Estimation) – combines momentum + adaptive learning rates.\n",
        "\n",
        "RMSprop – adjusts learning rate dynamically.\n",
        "\n",
        "Example in Keras:"
      ],
      "metadata": {
        "id": "aX9hRRH_gYaz"
      }
    },
    {
      "cell_type": "code",
      "source": [
        "from tensorflow.keras.optimizers import Adam\n",
        "optimizer = Adam(learning_rate=0.001)\n"
      ],
      "metadata": {
        "id": "zgWNY36ggcXg"
      },
      "execution_count": 9,
      "outputs": []
    },
    {
      "cell_type": "markdown",
      "source": [
        "# 19. What is sklearn.linear_model ?"
      ],
      "metadata": {
        "id": "VTezy6bugjvP"
      }
    },
    {
      "cell_type": "markdown",
      "source": [
        "A module in scikit-learn with linear models such as:\n",
        "\n",
        "LinearRegression\n",
        "\n",
        "LogisticRegression\n",
        "\n",
        "Ridge, Lasso, ElasticNet"
      ],
      "metadata": {
        "id": "oSQxYVZoglWb"
      }
    },
    {
      "cell_type": "markdown",
      "source": [
        "# 20. What does model.fit() do? What arguments must be given?"
      ],
      "metadata": {
        "id": "xNWAwgrTgo7w"
      }
    },
    {
      "cell_type": "markdown",
      "source": [
        "model.fit(X_train, y_train) → trains the model on training data.\n",
        "\n",
        "Required arguments:\n",
        "\n",
        "X_train → input features\n",
        "\n",
        "y_train → labels/target"
      ],
      "metadata": {
        "id": "GIMLruJSgtN0"
      }
    },
    {
      "cell_type": "markdown",
      "source": [
        "#21. What does model.predict() do? What arguments must be given?"
      ],
      "metadata": {
        "id": "U45EJUI8gxl_"
      }
    },
    {
      "cell_type": "markdown",
      "source": [
        "model.predict(X_test) → makes predictions on new/unseen data.\n",
        "\n",
        "Argument: X_test → features (without labels)."
      ],
      "metadata": {
        "id": "zrlKXiVrg1l8"
      }
    },
    {
      "cell_type": "markdown",
      "source": [
        "# 22. What is feature scaling? How does it help in Machine Learning?"
      ],
      "metadata": {
        "id": "QhuNnjuSg4HB"
      }
    },
    {
      "cell_type": "markdown",
      "source": [
        "Feature scaling brings variables to the same scale so that no variable dominates others.\n",
        "\n",
        "Important for algorithms using distance or gradient descent (KNN, SVM, Logistic Regression)."
      ],
      "metadata": {
        "id": "fmxBgPFtg7ri"
      }
    },
    {
      "cell_type": "markdown",
      "source": [
        "# 23. How do we perform scaling in Python?"
      ],
      "metadata": {
        "id": "PlWtRrTvg-CW"
      }
    },
    {
      "cell_type": "code",
      "source": [
        "from sklearn.preprocessing import StandardScaler\n",
        "\n",
        "scaler = StandardScaler()\n",
        "X_scaled = scaler.fit_transform(X)\n"
      ],
      "metadata": {
        "id": "Bi9NToGmhFjm"
      },
      "execution_count": 11,
      "outputs": []
    },
    {
      "cell_type": "markdown",
      "source": [
        "# 26. Explain data encoding?"
      ],
      "metadata": {
        "id": "Vgjqto_whNTU"
      }
    },
    {
      "cell_type": "markdown",
      "source": [
        "Data encoding converts categorical data into numerical format for ML algorithms.\n",
        "\n",
        "Types:\n",
        "\n",
        "Label Encoding\n",
        "\n",
        "One-Hot Encoding\n",
        "\n",
        "Ordinal Encoding\n",
        "\n",
        "Frequency Encoding"
      ],
      "metadata": {
        "id": "qDkFU5DahQL7"
      }
    }
  ]
}