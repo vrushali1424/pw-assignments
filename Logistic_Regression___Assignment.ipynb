{
  "nbformat": 4,
  "nbformat_minor": 0,
  "metadata": {
    "colab": {
      "provenance": []
    },
    "kernelspec": {
      "name": "python3",
      "display_name": "Python 3"
    },
    "language_info": {
      "name": "python"
    }
  },
  "cells": [
    {
      "cell_type": "markdown",
      "source": [
        "# Assignment Code: DA-AG-011  \n",
        "## Logistic Regression | Assignment  \n",
        "\n",
        "\n",
        "---\n",
        "\n",
        "\n"
      ],
      "metadata": {
        "id": "w-jkEhffwql1"
      }
    },
    {
      "cell_type": "markdown",
      "source": [
        "### **Question 1: What is Logistic Regression, and how does it differ from Linear Regression?**\n",
        "\n",
        "**Answer:**  \n",
        "Logistic Regression is a **supervised learning algorithm** used for **classification problems** — especially binary ones.  \n",
        "It predicts the probability that a given input belongs to a particular class.  \n",
        "\n",
        "- **Linear Regression** → Output is *continuous* (e.g., predicting salary).  \n",
        "- **Logistic Regression** → Output is *categorical/probabilistic* (e.g., yes/no, 0/1).  \n",
        "\n",
        "Logistic Regression uses the **Sigmoid function** to map values between **0 and 1**, making it ideal for probability estimation.\n"
      ],
      "metadata": {
        "id": "cqfH4ITxwwOn"
      }
    },
    {
      "cell_type": "markdown",
      "source": [
        "### **Question 2: Explain the role of the Sigmoid function in Logistic Regression.**\n",
        "\n",
        "**Answer:**  \n",
        "The **Sigmoid function** converts any real-valued number into a value between **0 and 1**, representing a **probability**.  \n",
        "It ensures that Logistic Regression outputs probabilities rather than raw linear values.\n",
        "\n",
        "The formula is:\n",
        "\n",
        "\\[\n",
        "\\sigma(z) = \\frac{1}{1 + e^{-z}}\n",
        "\\]\n",
        "\n",
        "Where  \n",
        "\\( z = b_0 + b_1x_1 + b_2x_2 + ... + b_nx_n \\)\n",
        "\n",
        "- If \\( \\sigma(z) > 0.5 \\) → Class 1  \n",
        "- If \\( \\sigma(z) \\le 0.5 \\) → Class 0  \n",
        "\n",
        "Thus, it acts as a **link function** connecting the linear model to a probabilistic output.\n"
      ],
      "metadata": {
        "id": "ChRWiibAwxyz"
      }
    },
    {
      "cell_type": "markdown",
      "source": [
        "### **Question 3: What is Regularization in Logistic Regression and why is it needed?**\n",
        "\n",
        "**Answer:**  \n",
        "Regularization adds a **penalty term** to the loss function to avoid overfitting by discouraging large coefficients.\n",
        "\n",
        "- **L1 (Lasso):** Uses absolute value of coefficients → leads to sparse models.  \n",
        "- **L2 (Ridge):** Uses squared values of coefficients → shrinks large weights smoothly.\n",
        "\n",
        "Regularization improves model **generalization** and **stability** on unseen data.\n"
      ],
      "metadata": {
        "id": "VpDGyfS4w1gd"
      }
    },
    {
      "cell_type": "markdown",
      "source": [
        "### **Question 4: What are some common evaluation metrics for classification models, and why are they important?**\n",
        "\n",
        "**Answer:**  \n",
        "\n",
        "| Metric | Formula / Meaning | Use |\n",
        "|---------|-------------------|-----|\n",
        "| **Accuracy** | (TP + TN) / (Total) | Works for balanced data |\n",
        "| **Precision** | TP / (TP + FP) | Reliability of positive predictions |\n",
        "| **Recall** | TP / (TP + FN) | Ability to find all positives |\n",
        "| **F1-Score** | Harmonic mean of Precision & Recall | Balances both |\n",
        "| **ROC-AUC** | Area under ROC curve | Measures discrimination ability |\n",
        "\n",
        "They help evaluate model performance beyond accuracy, especially in imbalanced datasets.\n"
      ],
      "metadata": {
        "id": "YaYHMAr6w5_j"
      }
    },
    {
      "cell_type": "markdown",
      "source": [
        "### **Question 5: Write a Python program that loads a CSV file into a Pandas DataFrame, splits into train/test sets, trains a Logistic Regression model, and prints its accuracy. (Use Dataset from sklearn package)**\n"
      ],
      "metadata": {
        "id": "nPnvlvU7xAi3"
      }
    },
    {
      "cell_type": "code",
      "source": [
        "import pandas as pd\n",
        "from sklearn.datasets import load_iris\n",
        "from sklearn.model_selection import train_test_split\n",
        "from sklearn.linear_model import LogisticRegression\n",
        "from sklearn.metrics import accuracy_score\n",
        "\n",
        "# Load dataset\n",
        "iris = load_iris()\n",
        "X = pd.DataFrame(iris.data, columns=iris.feature_names)\n",
        "y = iris.target\n",
        "\n",
        "# Split data\n",
        "X_train, X_test, y_train, y_test = train_test_split(X, y, test_size=0.3, random_state=42)\n",
        "\n",
        "# Train model\n",
        "model = LogisticRegression(max_iter=200)\n",
        "model.fit(X_train, y_train)\n",
        "\n",
        "# Evaluate\n",
        "y_pred = model.predict(X_test)\n",
        "print(\"Model Accuracy:\", accuracy_score(y_test, y_pred))\n"
      ],
      "metadata": {
        "colab": {
          "base_uri": "https://localhost:8080/"
        },
        "id": "3DvtybAwxDj4",
        "outputId": "f7728d8d-e2ac-44ec-b561-4d957b781fc0"
      },
      "execution_count": 1,
      "outputs": [
        {
          "output_type": "stream",
          "name": "stdout",
          "text": [
            "Model Accuracy: 1.0\n"
          ]
        }
      ]
    },
    {
      "cell_type": "markdown",
      "source": [
        "### **Question 6: Write a Python program to train a Logistic Regression model using L2 regularization (Ridge) and print the model coefficients and accuracy.\n",
        "(Use Dataset from sklearn package)\n",
        "\n",
        "(Include your Python code and output in the code box below.)**\n"
      ],
      "metadata": {
        "id": "eD5qJ5DbxO6m"
      }
    },
    {
      "cell_type": "code",
      "source": [
        "from sklearn.datasets import load_iris\n",
        "from sklearn.linear_model import LogisticRegression\n",
        "from sklearn.model_selection import train_test_split\n",
        "from sklearn.metrics import accuracy_score\n",
        "\n",
        "iris = load_iris()\n",
        "X_train, X_test, y_train, y_test = train_test_split(iris.data, iris.target, random_state=42)\n",
        "\n",
        "# L2 Regularization\n",
        "model = LogisticRegression(penalty='l2', solver='lbfgs', max_iter=200)\n",
        "model.fit(X_train, y_train)\n",
        "\n",
        "print(\"Coefficients:\\n\", model.coef_)\n",
        "print(\"Accuracy:\", accuracy_score(y_test, model.predict(X_test)))\n"
      ],
      "metadata": {
        "colab": {
          "base_uri": "https://localhost:8080/"
        },
        "id": "ZObsw3AExQBO",
        "outputId": "5503853e-2449-4a0e-9d44-64b638c66049"
      },
      "execution_count": 2,
      "outputs": [
        {
          "output_type": "stream",
          "name": "stdout",
          "text": [
            "Coefficients:\n",
            " [[-0.39086526  0.92121444 -2.33169483 -0.97997422]\n",
            " [ 0.49862408 -0.30952764 -0.21642637 -0.73163847]\n",
            " [-0.10775882 -0.6116868   2.5481212   1.71161268]]\n",
            "Accuracy: 1.0\n"
          ]
        }
      ]
    },
    {
      "cell_type": "markdown",
      "source": [
        "### **Question 7:  Write a Python program to train a Logistic Regression model for multiclass classification using multi_class='ovr' and print the classification report.\n",
        "(Use Dataset from sklearn package)\n",
        "\n",
        "(Include your Python code and output in the code box below.)**\n"
      ],
      "metadata": {
        "id": "TwsiuMsdxSpX"
      }
    },
    {
      "cell_type": "code",
      "source": [
        "from sklearn.datasets import load_iris\n",
        "from sklearn.linear_model import LogisticRegression\n",
        "from sklearn.model_selection import train_test_split\n",
        "from sklearn.metrics import classification_report\n",
        "\n",
        "iris = load_iris()\n",
        "X_train, X_test, y_train, y_test = train_test_split(iris.data, iris.target, random_state=42)\n",
        "\n",
        "model = LogisticRegression(multi_class='ovr', max_iter=200)\n",
        "model.fit(X_train, y_train)\n",
        "\n",
        "y_pred = model.predict(X_test)\n",
        "print(classification_report(y_test, y_pred))\n"
      ],
      "metadata": {
        "colab": {
          "base_uri": "https://localhost:8080/"
        },
        "id": "iLx9L2ijxXZy",
        "outputId": "fcb151e6-faf1-48a5-e0b8-2345a4179163"
      },
      "execution_count": 3,
      "outputs": [
        {
          "output_type": "stream",
          "name": "stdout",
          "text": [
            "              precision    recall  f1-score   support\n",
            "\n",
            "           0       1.00      1.00      1.00        15\n",
            "           1       1.00      0.91      0.95        11\n",
            "           2       0.92      1.00      0.96        12\n",
            "\n",
            "    accuracy                           0.97        38\n",
            "   macro avg       0.97      0.97      0.97        38\n",
            "weighted avg       0.98      0.97      0.97        38\n",
            "\n"
          ]
        },
        {
          "output_type": "stream",
          "name": "stderr",
          "text": [
            "/usr/local/lib/python3.12/dist-packages/sklearn/linear_model/_logistic.py:1256: FutureWarning: 'multi_class' was deprecated in version 1.5 and will be removed in 1.7. Use OneVsRestClassifier(LogisticRegression(..)) instead. Leave it to its default value to avoid this warning.\n",
            "  warnings.warn(\n"
          ]
        }
      ]
    },
    {
      "cell_type": "markdown",
      "source": [
        "### **Question 8: Write a Python program to apply GridSearchCV to tune C and penalty hyperparameters for Logistic Regression and print the best parameters and validation accuracy.\n",
        "(Use Dataset from sklearn package)\n",
        "\n",
        "(Include your Python code and output in the code box below.)**\n"
      ],
      "metadata": {
        "id": "t7HAjGj3xZBB"
      }
    },
    {
      "cell_type": "code",
      "source": [
        "from sklearn.model_selection import GridSearchCV\n",
        "from sklearn.linear_model import LogisticRegression\n",
        "from sklearn.datasets import load_iris\n",
        "from sklearn.model_selection import train_test_split\n",
        "\n",
        "iris = load_iris()\n",
        "X_train, X_test, y_train, y_test = train_test_split(iris.data, iris.target, random_state=42)\n",
        "\n",
        "param_grid = {'C': [0.1, 1, 10],\n",
        "              'penalty': ['l1', 'l2'],\n",
        "              'solver': ['liblinear']}\n",
        "\n",
        "grid = GridSearchCV(LogisticRegression(max_iter=200), param_grid, cv=5)\n",
        "grid.fit(X_train, y_train)\n",
        "\n",
        "print(\"Best Parameters:\", grid.best_params_)\n",
        "print(\"Validation Accuracy:\", grid.best_score_)\n"
      ],
      "metadata": {
        "colab": {
          "base_uri": "https://localhost:8080/"
        },
        "id": "_KNVWz41xbFZ",
        "outputId": "51e6317f-8745-4f25-b9be-16133139048b"
      },
      "execution_count": 4,
      "outputs": [
        {
          "output_type": "stream",
          "name": "stdout",
          "text": [
            "Best Parameters: {'C': 10, 'penalty': 'l2', 'solver': 'liblinear'}\n",
            "Validation Accuracy: 0.9640316205533598\n"
          ]
        }
      ]
    },
    {
      "cell_type": "markdown",
      "source": [
        "### **Question 9: Write a Python program to standardize the features before training Logistic Regression and compare the model's accuracy with and without scaling.\n",
        "(Use Dataset from sklearn package)\n",
        "\n",
        "(Include your Python code and output in the code box below.) **\n"
      ],
      "metadata": {
        "id": "1iGF_UM5xddJ"
      }
    },
    {
      "cell_type": "code",
      "source": [
        "from sklearn.preprocessing import StandardScaler\n",
        "from sklearn.datasets import load_iris\n",
        "from sklearn.linear_model import LogisticRegression\n",
        "from sklearn.model_selection import train_test_split\n",
        "from sklearn.metrics import accuracy_score\n",
        "\n",
        "iris = load_iris()\n",
        "X_train, X_test, y_train, y_test = train_test_split(iris.data, iris.target, random_state=42)\n",
        "\n",
        "# Without scaling\n",
        "model1 = LogisticRegression(max_iter=200)\n",
        "model1.fit(X_train, y_train)\n",
        "acc1 = accuracy_score(y_test, model1.predict(X_test))\n",
        "\n",
        "# With scaling\n",
        "scaler = StandardScaler()\n",
        "X_train_scaled = scaler.fit_transform(X_train)\n",
        "X_test_scaled = scaler.transform(X_test)\n",
        "\n",
        "model2 = LogisticRegression(max_iter=200)\n",
        "model2.fit(X_train_scaled, y_train)\n",
        "acc2 = accuracy_score(y_test, model2.predict(X_test_scaled))\n",
        "\n",
        "print(\"Accuracy without scaling:\", acc1)\n",
        "print(\"Accuracy with scaling:\", acc2)\n"
      ],
      "metadata": {
        "colab": {
          "base_uri": "https://localhost:8080/"
        },
        "id": "smdvyUVrxfrg",
        "outputId": "3c93a700-bc6b-4c6f-ebef-de4d204d1af8"
      },
      "execution_count": 5,
      "outputs": [
        {
          "output_type": "stream",
          "name": "stdout",
          "text": [
            "Accuracy without scaling: 1.0\n",
            "Accuracy with scaling: 1.0\n"
          ]
        }
      ]
    },
    {
      "cell_type": "markdown",
      "source": [
        "### **Question 10:  Imagine you are working at an e-commerce company that wants to predict which customers will respond to a marketing campaign. Given an imbalanced dataset (only 5% of customers respond), describe the approach you’d take to build a Logistic Regression model — including data handling, feature scaling, balancing classes, hyperparameter tuning, and evaluating the model for this real-world business use case.**\n",
        "\n",
        "**Answer:**  \n",
        "\n",
        "Steps to build the Logistic Regression model:\n",
        "\n",
        "1. **Data Handling**  \n",
        "   - Clean missing values, encode categorical variables, and remove outliers.\n",
        "\n",
        "2. **Feature Scaling**  \n",
        "   - Standardize numerical features using `StandardScaler`.\n",
        "\n",
        "3. **Handle Class Imbalance**  \n",
        "   - Since only 5% customers respond, apply  \n",
        "     - **SMOTE (oversampling)** or  \n",
        "     - **class_weight='balanced'** during model training.\n",
        "\n",
        "4. **Model Training**  \n",
        "   - Train `LogisticRegression(penalty='l2')` with balanced class weights.\n",
        "\n",
        "5. **Hyperparameter Tuning**  \n",
        "   - Use **GridSearchCV** to optimize `C`, `penalty`, and `solver`.\n",
        "\n",
        "6. **Model Evaluation**  \n",
        "   - Focus on **Precision**, **Recall**, **F1-score**, and **ROC-AUC** (not just accuracy).\n",
        "\n",
        "7. **Business Use**  \n",
        "   - Identify high-probability customers and target them to improve marketing ROI.\n"
      ],
      "metadata": {
        "id": "FSGEzfADxlWU"
      }
    }
  ]
}