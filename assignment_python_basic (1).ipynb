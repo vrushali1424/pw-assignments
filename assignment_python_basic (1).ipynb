{
  "nbformat": 4,
  "nbformat_minor": 0,
  "metadata": {
    "colab": {
      "provenance": [],
      "collapsed_sections": [
        "wpTJxmm-W5cJ"
      ]
    },
    "kernelspec": {
      "name": "python3",
      "display_name": "Python 3"
    },
    "language_info": {
      "name": "python"
    }
  },
  "cells": [
    {
      "cell_type": "code",
      "execution_count": null,
      "metadata": {
        "id": "iJI5qndiL3hC"
      },
      "outputs": [],
      "source": []
    },
    {
      "cell_type": "markdown",
      "source": [
        " # 1. What is Python, and why is it popular\n",
        "\n"
      ],
      "metadata": {
        "id": "woysYDz1L-N-"
      }
    },
    {
      "cell_type": "markdown",
      "source": [
        "* Python is a high-level programming language that is widely used to build\n",
        "  websites, software, automate tasks, and perform data analysis.\n",
        "* It is popular because it is easy to read and write, making it beginner-friendly.\n",
        "\n",
        "* Its simple syntax is similar to plain English, which helps new programmers learn quickly.\n",
        "\n",
        "* Python is also very versatile—it can be used in web development, data science, artificial intelligence, automation, and more.\n",
        "\n",
        "* Another reason for its popularity is the large community support and the availability of many free libraries that make development faster and easier. And, it is free and open-source, which adds to its appeal.\n"
      ],
      "metadata": {
        "id": "DdOxTaNfMDsz"
      }
    },
    {
      "cell_type": "markdown",
      "source": [
        "#2. What is an interpreter in Python?"
      ],
      "metadata": {
        "id": "G5IfD1X9NkZD"
      }
    },
    {
      "cell_type": "markdown",
      "source": [
        "In Python, an **interpreter** is a program that reads and executes Python code **line by line**.\n",
        "\n",
        "When you write a Python script and run it, the interpreter translates each line of code into machine language (which the computer understands) and then runs it immediately. This is different from a compiler, which translates the whole program at once before running it.\n",
        "\n",
        "Because Python is interpreted, it is easier to test and debug your code quickly, but it may run a bit slower than compiled languages.\n",
        "\n",
        "### Simple example:\n",
        "\n",
        "```python\n",
        "print(\"Hello, World!\")\n",
        "```\n",
        "\n",
        "When you run this, the Python interpreter reads that line, understands what to do (print the text), and executes it right away.\n"
      ],
      "metadata": {
        "id": "dXzmZsRpWkiJ"
      }
    },
    {
      "cell_type": "markdown",
      "source": [
        "#3.What are pre-defined keywords in Python?"
      ],
      "metadata": {
        "id": "JP81PelrWxxc"
      }
    },
    {
      "cell_type": "markdown",
      "source": [
        "**Pre-defined keywords in Python** are special words that are **reserved by the language**. They have specific meanings and purposes, so you **cannot use them as variable names or function names**.\n",
        "\n",
        "These keywords help define the **syntax and structure** of Python code. For example, `if`, `else`, `while`, `for`, `def`, and `return` are all keywords.\n",
        "\n",
        "To see all keywords in Python, you can run this code:\n",
        "\n",
        "```python\n",
        "import keyword\n",
        "print(keyword.kwlist)\n",
        "\n",
        "# These words are built into the language and cannot be changed or redefined.\n"
      ],
      "metadata": {
        "id": "wpTJxmm-W5cJ"
      }
    },
    {
      "cell_type": "markdown",
      "source": [
        "#4.Can keywords be used as variable names?"
      ],
      "metadata": {
        "id": "oLbQRAUGX1ul"
      }
    },
    {
      "cell_type": "markdown",
      "source": [
        "No, keywords cannot be used as variable names in Python.\n",
        "\n",
        "Keywords are reserved words that have special meaning in Python’s syntax. Using them as variable names will cause an error, because Python expects them to behave in a specific way.\n",
        "\n",
        "If you try to use a keyword as a variable, Python will not understand what you mean and will stop the program with a SyntaxError. So always avoid using keywords as variable names."
      ],
      "metadata": {
        "id": "SffX-P3tYddn"
      }
    },
    {
      "cell_type": "markdown",
      "source": [
        "#5.What is mutability in Python?"
      ],
      "metadata": {
        "id": "sTQyA3fHZ-7N"
      }
    },
    {
      "cell_type": "markdown",
      "source": [
        "Mutability in Python means whether the value of an object can be changed after it is created.\n",
        "\n",
        "If an object is mutable, it means you can change its content without changing its identity.\n",
        "\n",
        "Examples : lists, dictionaries, and sets.\n",
        "\n",
        "my_list = [1, 2, 3]\n",
        "\n",
        "my_list[0] = 100   # List changed\n",
        "\n",
        "print(my_list)     # Output: [100, 2, 3]\n",
        "\n",
        "If an object is immutable, it means once it is created, its value cannot be changed. Any change creates a new object.\n",
        "Examples : integers, floats, strings, and tuples.\n",
        "\n",
        "name = \"Vrushali\"\n",
        "\n",
        "name[0] = \"p\"     #  This will give an error\n",
        "\n",
        "name = \"prushali\"       \n",
        "\n",
        "This creates a new string\n",
        "So, mutability helps decide whether the object can be modified directly or not.\n"
      ],
      "metadata": {
        "id": "vB3C4xYual1C"
      }
    },
    {
      "cell_type": "markdown",
      "source": [
        "# 6.Why are lists mutable, but tuples are immutable?"
      ],
      "metadata": {
        "id": "sU4gLuPbb1VS"
      }
    },
    {
      "cell_type": "markdown",
      "source": [
        "### 6. Why are lists mutable, but tuples are immutable?\n",
        "\n",
        "Lists are mutable because they are designed to hold a collection of items that can change over time. You can add, remove, or modify elements in a list after it is created. This makes lists flexible and useful when working with dynamic data.\n",
        "\n",
        "Tuples, on the other hand, are immutable because they are meant to store fixed collections of items. Once a tuple is created, its content cannot be changed. This immutability makes tuples faster and more memory-efficient, and they can be safely used as keys in dictionaries or elements in sets.\n",
        "\n",
        "In short, lists are mutable for flexibility, while tuples are immutable for stability and performance.\n"
      ],
      "metadata": {
        "id": "bIuOXSJ9Iptz"
      }
    },
    {
      "cell_type": "markdown",
      "source": [
        "#7.What is the difference between “==” and “is” operators in Python"
      ],
      "metadata": {
        "id": "tsBRSpayJGhL"
      }
    },
    {
      "cell_type": "markdown",
      "source": [
        "Difference between '==' and 'is' in Python:\n",
        "\n",
        "'=='(Equality operator) checks if the values of two variables are the same.\n",
        "\n",
        "'is'(Identity operator) checks if two variables refer to the exact same object in memory.\n",
        "\n",
        "example:\n",
        "\n",
        "1)\n",
        "a = [1, 2, 3]\n",
        "b = [1, 2, 3]\n",
        "\n",
        "print(a == b)   => True → because the contents (values) are the same\n",
        "\n",
        "print(a is b)   => False → because they are two different objects in memory\n",
        "\n",
        "2)\n",
        "x = 5\n",
        "y = 5\n",
        "\n",
        "print(x == y)   # True → values are the same\n",
        "\n",
        "print(x is y)   # True → for small integers, Python may reuse memory (same object)\n"
      ],
      "metadata": {
        "id": "It_MGvY1JOlD"
      }
    },
    {
      "cell_type": "markdown",
      "source": [
        "#8. What are logical operators in Python?"
      ],
      "metadata": {
        "id": "SLi47pQMKOz_"
      }
    },
    {
      "cell_type": "markdown",
      "source": [
        "Logical operators in Python are used to combine or compare boolean values (True or False).\n",
        "\n",
        "There are three main logical operators in Python:\n",
        "\n",
        "and – Returns True if both conditions are True.\n",
        "\n",
        "or – Returns True if at least one condition is True.\n",
        "\n",
        "not – Reverses the result. It returns True if the condition is False.\n",
        "\n",
        "example:\n",
        "# and\n",
        "print(True and True)    # True\n",
        "print(True and False)   # False\n",
        "\n",
        "# or\n",
        "print(True or False)    # True\n",
        "print(False or False)   # False\n",
        "\n",
        "# not\n",
        "print(not True)         # False\n",
        "print(not False)        # True"
      ],
      "metadata": {
        "id": "ed16yIBeKqkj"
      }
    },
    {
      "cell_type": "markdown",
      "source": [
        " # 9.What is type casting in Python?"
      ],
      "metadata": {
        "id": "wqB7QD3GLHVH"
      }
    },
    {
      "cell_type": "markdown",
      "source": [
        "Type casting in Python means changing the data type of a value from one type to another.\n",
        "\n",
        "For example, you can change a string to an integer, or a float to a string.\n",
        "\n",
        "Common type casting functions:\n",
        "\n",
        "int() – Converts to integer\n",
        "\n",
        "float() – Converts to float\n",
        "\n",
        "str() – Converts to string\n",
        "\n",
        "bool() – Converts to boolean\n",
        "\n",
        "example:\n",
        "\n",
        " **String to Integer**\n",
        "\n",
        "x = \"10\"\n",
        "y = int(x)      # y is now 10 (integer)\n",
        "\n",
        "**Float to Integer**\n",
        "\n",
        "a = 5.6\n",
        "b = int(a)      # b is 5\n",
        "\n",
        "**Integer to String**\n",
        "\n",
        "n = 100\n",
        "s = str(n)      # s is \"100\""
      ],
      "metadata": {
        "id": "w9g4otrnLTZ7"
      }
    },
    {
      "cell_type": "markdown",
      "source": [
        "# 10.What is the difference between implicit and explicit type casting?"
      ],
      "metadata": {
        "id": "mJhvYwe4MBbX"
      }
    },
    {
      "cell_type": "markdown",
      "source": [
        "Difference between implicit and explicit type casting in Python:\n",
        "\n",
        "| Type     | Who does it?       | Example                 |\n",
        "| -------- | ------------------ | ----------------------- |\n",
        "| Implicit | Python does it     | `int + float → float`   |\n",
        "| Explicit | You do it manually | `int(\"10\")` or `str(5)` |\n",
        "\n",
        "so, implicit is automatic, and explicit is when you do it on purpose.\n",
        "\n",
        "example:\n",
        "\n",
        "**implicit Type Casting (Automatic)**\n",
        "\n",
        "a = 5        # int\\\n",
        "b = 2.0      # float\\\n",
        "c = a + b    # Python converts 'a' to float automatically\\\n",
        "print(c)     # Output: 7.0\n",
        "\n",
        "\n",
        "**Explicit Type Casting (Manual)**\n",
        "\n",
        "x = \"10\"         # string\\\n",
        "y = int(x)       # convert to integer using int()\\\n",
        "print(y + 5)     # Output: 15\n",
        "\n"
      ],
      "metadata": {
        "id": "t_cyVSRWMEzT"
      }
    },
    {
      "cell_type": "markdown",
      "source": [
        "# 11.What is the purpose of conditional statements in Python?\n"
      ],
      "metadata": {
        "id": "vn4OyJs-Ne_K"
      }
    },
    {
      "cell_type": "markdown",
      "source": [
        "The purpose of conditional statements in Python is to allow the program to make decisions based on certain conditions.\n",
        "\n",
        "They let the program run different code depending on whether something is true or false.\n",
        "\n",
        "Common conditional statements:\\\n",
        "if\n",
        "\n",
        "elif (else if)\n",
        "\n",
        "else    \\\n",
        "example: \\\n",
        "```\n",
        "age = 18\n",
        "if age >= 18:  \n",
        "    print(\"You are an adult\")  \n",
        "       else:                           \n",
        "    print(\"You are not an adult\")\n",
        "```\n",
        "\n",
        "\n",
        "\n"
      ],
      "metadata": {
        "id": "0fijHLrlNyTK"
      }
    },
    {
      "cell_type": "markdown",
      "source": [
        "# 12.How does the elif statement work?"
      ],
      "metadata": {
        "id": "WZiR35T1Opsr"
      }
    },
    {
      "cell_type": "markdown",
      "source": [
        "The elif statement in Python stands for \"else if\". It is used to check multiple conditions one by one after the first if.\n",
        "\n",
        "It runs only if the previous if condition is false, and it stops checking once one condition is true.\n",
        "Syntax:\n",
        "```\n",
        "if condition1:\n",
        "    # runs if condition1 is true\n",
        "elif condition2:\n",
        "    # runs if condition2 is true\n",
        "elif condition3:\n",
        "    # runs if condition3 is true\n",
        "else:\n",
        "    # runs if none of the above are true\n",
        "```    \n",
        "example:\n",
        "```\n",
        "marks = 75\n",
        "\n",
        "if marks >= 90:\n",
        "    print(\"Grade A\")\n",
        "elif marks >= 75:\n",
        "    print(\"Grade B\")\n",
        "elif marks >= 60:\n",
        "    print(\"Grade C\")\n",
        "else:\n",
        "    print(\"Fail\")\n",
        "```"
      ],
      "metadata": {
        "id": "D1oo322EO4nC"
      }
    },
    {
      "cell_type": "markdown",
      "source": [
        "# 13.What is the difference between for and while loops?"
      ],
      "metadata": {
        "id": "XSM4ydoUPQGl"
      }
    },
    {
      "cell_type": "markdown",
      "source": [
        "**difference beetwen for and while loop**\n",
        "\n",
        "| Loop Type | Use When                 | Condition Type                         |\n",
        "| --------- | ----------------------------- | -------------------------------------- |\n",
        "| `for`     | You know how many times       | Fixed number of repeats (like a range) |\n",
        "| `while`   | You don’t know how many times | Keep going while condition is true     |\n",
        "\n",
        "In short:\\\n",
        "Use for when looping over items or a known count.\n",
        "\n",
        "Use while when looping based on a condition.\n",
        "\n",
        "\n",
        "example:\\\n",
        "for loop\n",
        "```\n",
        "for i in range(5):\n",
        "    print(i)\n",
        "```\n",
        "\n",
        "while loop\n",
        "```\n",
        "i = 0\n",
        "while i < 5:\n",
        "    print(i)\n",
        "    i += 1\n",
        "```\n"
      ],
      "metadata": {
        "id": "LacB4CePPXRQ"
      }
    },
    {
      "cell_type": "markdown",
      "source": [
        "# 14.Describe a scenario where a while loop is more suitable than a for loop?"
      ],
      "metadata": {
        "id": "EMW_8sdhQsiN"
      }
    },
    {
      "cell_type": "markdown",
      "source": [
        "**Scenario**: User Login Attempts\\\n",
        "Suppose you are writing a program that allows a user to enter their password, and you want to keep asking until they get it right or exceed 3 tries.\n",
        "\n",
        "In this case, you don’t know in advance how many times the user will try (up to 3), so a while loop is more suitable than a for loop.\n",
        "\n",
        "example:\n",
        "\n",
        "```\n",
        "correct_password = \"abc123\"\n",
        "attempts = 0\n",
        "\n",
        "while attempts < 3:\n",
        "    password = input(\"Enter your password: \")\n",
        "    if password == correct_password:\n",
        "        print(\"Access granted\")\n",
        "        break\n",
        "    else:\n",
        "        print(\"Wrong password. Try again.\")\n",
        "        attempts += 1\n",
        "\n",
        "if attempts == 3:\n",
        "    print(\"Too many attempts. Access denied.\")\n",
        "```\n",
        "Why while is better here:\\\n",
        "You loop based on a condition:\n",
        "while attempts are less than 3 and the user hasn't entered the correct password.\n",
        "\n",
        "The number of times the loop runs depends on the user's input, not a fixed range.\n",
        "\n",
        "So, in situations where the end is not known in advance and depends on conditions—like user input, sensor data, or waiting for a signal—a while loop is more suitable.\n",
        "\n",
        "example:\n",
        "```\n",
        "message = \"\"\n",
        "\n",
        "while message != \"exit\":\n",
        "    message = input(\"Type something (or 'exit' to quit): \")\n",
        "    print(\"You typed:\", message)\n",
        "```\n",
        "\n",
        "Why while is better here:\n",
        "You don’t know how many times the user will type before exiting.\n",
        "\n",
        "You need to keep running the loop until a condition is met (message == \"exit\").\n",
        "\n",
        "A for loop is not suitable because the number of repetitions is not fixed."
      ],
      "metadata": {
        "id": "L2Ckb4StQzPu"
      }
    },
    {
      "cell_type": "markdown",
      "source": [
        "# ***Practical Question***"
      ],
      "metadata": {
        "id": "K6sjtad7TD4G"
      }
    },
    {
      "cell_type": "markdown",
      "source": [
        "# 1.Write a Python program to print \"Hello, World!\""
      ],
      "metadata": {
        "id": "zQ0CqVVaTKu3"
      }
    },
    {
      "cell_type": "code",
      "source": [
        "print(\"Hello, World!\")\n"
      ],
      "metadata": {
        "colab": {
          "base_uri": "https://localhost:8080/"
        },
        "id": "CCDV5PuEL-R7",
        "outputId": "e63b3905-025f-49a5-ca5c-09764e340fe7"
      },
      "execution_count": null,
      "outputs": [
        {
          "output_type": "stream",
          "name": "stdout",
          "text": [
            "Hello, World!\n"
          ]
        }
      ]
    },
    {
      "cell_type": "markdown",
      "source": [
        "# 2.Write a Python program that displays your name and age."
      ],
      "metadata": {
        "id": "Oj7ZTOEVTbct"
      }
    },
    {
      "cell_type": "code",
      "source": [
        "name = \"Vrushali Patil\"\n",
        "age = 36\n",
        "\n",
        "print(\"My name is\", name)\n",
        "print(\"I am\", age, \"years old\")\n"
      ],
      "metadata": {
        "colab": {
          "base_uri": "https://localhost:8080/"
        },
        "id": "HSI5q33MTjlh",
        "outputId": "3be6fb2b-76f2-4b7f-ed7d-509e284c48a8"
      },
      "execution_count": null,
      "outputs": [
        {
          "output_type": "stream",
          "name": "stdout",
          "text": [
            "My name is Vrushali Patil\n",
            "I am 36 years old\n"
          ]
        }
      ]
    },
    {
      "cell_type": "markdown",
      "source": [
        "# 3.Write code to print all the pre-defined keywords in Python using the keyword library."
      ],
      "metadata": {
        "id": "lPIpKlB5TzwQ"
      }
    },
    {
      "cell_type": "code",
      "source": [
        "import keyword\n",
        "\n",
        "print(\"Python Keywords:\")\n",
        "print(keyword.kwlist)\n"
      ],
      "metadata": {
        "colab": {
          "base_uri": "https://localhost:8080/"
        },
        "id": "OazmRqglT4nT",
        "outputId": "330470b1-ea8a-41cc-8afe-f78c7cb51c96"
      },
      "execution_count": null,
      "outputs": [
        {
          "output_type": "stream",
          "name": "stdout",
          "text": [
            "Python Keywords:\n",
            "['False', 'None', 'True', 'and', 'as', 'assert', 'async', 'await', 'break', 'class', 'continue', 'def', 'del', 'elif', 'else', 'except', 'finally', 'for', 'from', 'global', 'if', 'import', 'in', 'is', 'lambda', 'nonlocal', 'not', 'or', 'pass', 'raise', 'return', 'try', 'while', 'with', 'yield']\n"
          ]
        }
      ]
    },
    {
      "cell_type": "markdown",
      "source": [
        "# 4.Write a program that checks if a given word is a Python keyword."
      ],
      "metadata": {
        "id": "IEK7iq_sUFer"
      }
    },
    {
      "cell_type": "code",
      "source": [
        "import keyword\n",
        "\n",
        "word = input(\"Type a word: \")\n",
        "\n",
        "if keyword.iskeyword(word):\n",
        "    print(\"It is a keyword.\")\n",
        "else:\n",
        "    print(\"It is not a keyword.\")\n"
      ],
      "metadata": {
        "colab": {
          "base_uri": "https://localhost:8080/"
        },
        "id": "C5bGFg7HU3oM",
        "outputId": "932c4d63-d7b0-4bcd-e85d-c83713598657"
      },
      "execution_count": null,
      "outputs": [
        {
          "output_type": "stream",
          "name": "stdout",
          "text": [
            "Type a word: if\n",
            "It is a keyword.\n"
          ]
        }
      ]
    },
    {
      "cell_type": "code",
      "source": [
        "import keyword\n",
        "\n",
        "word = input(\"Type a word: \")\n",
        "\n",
        "if keyword.iskeyword(word):\n",
        "    print(\"It is a keyword.\")\n",
        "else:\n",
        "    print(\"It is not a keyword.\")\n"
      ],
      "metadata": {
        "colab": {
          "base_uri": "https://localhost:8080/"
        },
        "id": "c88CA7GIVBtQ",
        "outputId": "8d5e0d71-1a7a-47c7-f4d2-ec0138baf9a9"
      },
      "execution_count": null,
      "outputs": [
        {
          "output_type": "stream",
          "name": "stdout",
          "text": [
            "Type a word: hello\n",
            "It is not a keyword.\n"
          ]
        }
      ]
    },
    {
      "cell_type": "markdown",
      "source": [
        "# 5. Create a list and tuple in Python, and demonstrate how attempting to change an element works differently for each."
      ],
      "metadata": {
        "id": "OPRFgK5oUM7A"
      }
    },
    {
      "cell_type": "code",
      "source": [
        "# Create a list and a tuple\n",
        "my_list = [10, 20, 30]\n",
        "my_tuple = (10, 20, 30)\n",
        "\n",
        "# Change element in the list\n",
        "my_list[1] = 200\n",
        "print(\"Modified list:\", my_list)\n"
      ],
      "metadata": {
        "colab": {
          "base_uri": "https://localhost:8080/"
        },
        "id": "ghVYkaUiVKF3",
        "outputId": "8b3015bc-0da0-4c39-91d6-7993b0901b6b"
      },
      "execution_count": null,
      "outputs": [
        {
          "output_type": "stream",
          "name": "stdout",
          "text": [
            "Modified list: [10, 200, 30]\n"
          ]
        }
      ]
    },
    {
      "cell_type": "code",
      "source": [
        "# Create a list and a tuple\n",
        "my_list = [10, 20, 30]\n",
        "my_tuple = (10, 20, 30)\n",
        "\n",
        "# Try to change element in the tuple\n",
        "my_tuple[1] = 200   #  This will cause an error\n",
        "print(\"Modified tuple:\", my_tuple)"
      ],
      "metadata": {
        "colab": {
          "base_uri": "https://localhost:8080/",
          "height": 200
        },
        "id": "rApvxhwcVrJd",
        "outputId": "397af192-54ff-4dc4-837e-6eb187936585"
      },
      "execution_count": null,
      "outputs": [
        {
          "output_type": "error",
          "ename": "TypeError",
          "evalue": "'tuple' object does not support item assignment",
          "traceback": [
            "\u001b[0;31m---------------------------------------------------------------------------\u001b[0m",
            "\u001b[0;31mTypeError\u001b[0m                                 Traceback (most recent call last)",
            "\u001b[0;32m/tmp/ipython-input-10-2689726133.py\u001b[0m in \u001b[0;36m<cell line: 0>\u001b[0;34m()\u001b[0m\n\u001b[1;32m      4\u001b[0m \u001b[0;34m\u001b[0m\u001b[0m\n\u001b[1;32m      5\u001b[0m \u001b[0;31m# Try to change element in the tuple\u001b[0m\u001b[0;34m\u001b[0m\u001b[0;34m\u001b[0m\u001b[0m\n\u001b[0;32m----> 6\u001b[0;31m \u001b[0mmy_tuple\u001b[0m\u001b[0;34m[\u001b[0m\u001b[0;36m1\u001b[0m\u001b[0;34m]\u001b[0m \u001b[0;34m=\u001b[0m \u001b[0;36m200\u001b[0m   \u001b[0;31m#  This will cause an error\u001b[0m\u001b[0;34m\u001b[0m\u001b[0;34m\u001b[0m\u001b[0m\n\u001b[0m\u001b[1;32m      7\u001b[0m \u001b[0mprint\u001b[0m\u001b[0;34m(\u001b[0m\u001b[0;34m\"Modified tuple:\"\u001b[0m\u001b[0;34m,\u001b[0m \u001b[0mmy_tuple\u001b[0m\u001b[0;34m)\u001b[0m\u001b[0;34m\u001b[0m\u001b[0;34m\u001b[0m\u001b[0m\n",
            "\u001b[0;31mTypeError\u001b[0m: 'tuple' object does not support item assignment"
          ]
        }
      ]
    },
    {
      "cell_type": "markdown",
      "source": [
        "# 6.Write a function to demonstrate the behavior of mutable and immutable arguments"
      ],
      "metadata": {
        "id": "4Xi6XX6qV5Zs"
      }
    },
    {
      "cell_type": "code",
      "source": [
        "# Immutable example (integer)\n",
        "a = 10\n",
        "x = a\n",
        "x = x + 1\n",
        "\n",
        "print(\"Original a:\", a)     # a is still 10\n",
        "print(\"Changed x:\", x)      # x is 11\n",
        "\n",
        "print()  # just a blank line for clarity\n",
        "\n",
        "# Mutable example (list)\n",
        "b = [1, 2, 3]\n",
        "my_list = b\n",
        "my_list[0] = 999\n",
        "\n",
        "print(\"Original b:\", b)         # b is changed to [999, 2, 3]\n",
        "print(\"Changed my_list:\", my_list)  # same: [999, 2, 3]\n"
      ],
      "metadata": {
        "colab": {
          "base_uri": "https://localhost:8080/"
        },
        "id": "4aZFVPr6WFro",
        "outputId": "28a662fa-a6c5-4c3a-e213-b19693806470"
      },
      "execution_count": null,
      "outputs": [
        {
          "output_type": "stream",
          "name": "stdout",
          "text": [
            "Original a: 10\n",
            "Changed x: 11\n",
            "\n",
            "Original b: [999, 2, 3]\n",
            "Changed my_list: [999, 2, 3]\n"
          ]
        }
      ]
    },
    {
      "cell_type": "markdown",
      "source": [
        " Explanation:\\\n",
        "a is an integer (immutable). Changing x doesn’t affect a.\n",
        "\n",
        "b is a list (mutable). Changing my_list also changes b, because both point to the same list in memory."
      ],
      "metadata": {
        "id": "_fePhNJAXptm"
      }
    },
    {
      "cell_type": "markdown",
      "source": [
        "# 7.Write a program that performs basic arithmetic operations on two user-input numbers"
      ],
      "metadata": {
        "id": "phqmiZ58XwPS"
      }
    },
    {
      "cell_type": "code",
      "source": [
        "# Get input from the user\n",
        "num1 = float(input(\"Enter first number: \"))\n",
        "num2 = float(input(\"Enter second number: \"))\n",
        "\n",
        "# Perform arithmetic operations\n",
        "print(\"Addition:\", num1 + num2)\n",
        "print(\"Subtraction:\", num1 - num2)\n",
        "print(\"Multiplication:\", num1 * num2)\n",
        "\n",
        "# To avoid division by zero error\n",
        "if num2 != 0:\n",
        "    print(\"Division:\", num1 / num2)\n",
        "else:\n",
        "    print(\"Division: Cannot divide by zero\")\n"
      ],
      "metadata": {
        "colab": {
          "base_uri": "https://localhost:8080/"
        },
        "id": "cQ3lntBUXrqm",
        "outputId": "3c466084-e48a-4306-ba95-afc2abb49770"
      },
      "execution_count": null,
      "outputs": [
        {
          "output_type": "stream",
          "name": "stdout",
          "text": [
            "Enter first number: 10\n",
            "Enter second number: 21\n",
            "Addition: 31.0\n",
            "Subtraction: -11.0\n",
            "Multiplication: 210.0\n",
            "Division: 0.47619047619047616\n"
          ]
        }
      ]
    },
    {
      "cell_type": "markdown",
      "source": [
        "# 8. Write a program to demonstrate the use of logical operators."
      ],
      "metadata": {
        "id": "sVbdumVPYGqe"
      }
    },
    {
      "cell_type": "code",
      "source": [
        "# Take input from the user\n",
        "age = int(input(\"Enter your age: \"))\n",
        "has_id = input(\"Do you have an ID? (yes/no): \")\n",
        "\n",
        "# Logical operator examples\n",
        "# AND: both conditions must be true\n",
        "if age >= 18 and has_id == \"yes\":\n",
        "    print(\"You are allowed to enter.\")\n",
        "else:\n",
        "    print(\"Access denied.\")\n",
        "\n",
        "# OR: at least one condition is true\n",
        "if age >= 18 or has_id == \"yes\":\n",
        "    print(\"You meet at least one condition.\")\n",
        "\n",
        "# NOT: reverses the condition\n",
        "if not has_id == \"yes\":\n",
        "    print(\"You don't have an ID.\")\n"
      ],
      "metadata": {
        "colab": {
          "base_uri": "https://localhost:8080/"
        },
        "id": "K72GcbZkYK7A",
        "outputId": "c482f977-a66f-4da9-ad52-27ff954384bb"
      },
      "execution_count": null,
      "outputs": [
        {
          "output_type": "stream",
          "name": "stdout",
          "text": [
            "Enter your age: 14\n",
            "Do you have an ID? (yes/no): no\n",
            "Access denied.\n",
            "You don't have an ID.\n"
          ]
        }
      ]
    },
    {
      "cell_type": "markdown",
      "source": [
        "# 9.Write a Python program to convert user input from string to integer, float, and boolean types"
      ],
      "metadata": {
        "id": "mbimCk2DZjU5"
      }
    },
    {
      "cell_type": "code",
      "source": [
        "# Take input from the user\n",
        "user_input = input(\"Enter a value: \")\n",
        "\n",
        "try:\n",
        "    # Convert to integer\n",
        "    int_value = int(user_input)\n",
        "    print(\"Integer:\", int_value)\n",
        "except ValueError:\n",
        "    print(\"Could not convert to integer.\")\n",
        "\n",
        "try:\n",
        "    # Convert to float\n",
        "    float_value = float(user_input)\n",
        "    print(\"Float:\", float_value)\n",
        "except ValueError:\n",
        "    print(\"Could not convert to float.\")\n",
        "\n",
        "# Convert to boolean (any non-empty string is True, empty string is False)\n",
        "bool_value = bool(user_input)\n",
        "print(\"Boolean:\", bool_value)"
      ],
      "metadata": {
        "colab": {
          "base_uri": "https://localhost:8080/"
        },
        "id": "0Rqny_EiZZqi",
        "outputId": "2307cf68-2366-4700-c64e-1b2a0249eaa1"
      },
      "execution_count": null,
      "outputs": [
        {
          "output_type": "stream",
          "name": "stdout",
          "text": [
            "Enter a value: 21.20\n",
            "Could not convert to integer.\n",
            "Float: 21.2\n",
            "Boolean: True\n"
          ]
        }
      ]
    },
    {
      "cell_type": "markdown",
      "source": [
        "# 10.. Write code to demonstrate type casting with list elements."
      ],
      "metadata": {
        "id": "rsAh2eJmbmnm"
      }
    },
    {
      "cell_type": "code",
      "source": [
        "# Start with a list of strings\n",
        "str_list = [\"10\", \"20\", \"30\"]\n",
        "\n",
        "# Convert to integer\n",
        "int_list = []\n",
        "for item in str_list:\n",
        "    int_list.append(int(item))   # Convert string to int\n",
        "print(\"Integer list:\", int_list)\n",
        "\n",
        "# Convert to float\n",
        "float_list = []\n",
        "for item in str_list:\n",
        "    float_list.append(float(item))   # Convert string to float\n",
        "print(\"Float list:\", float_list)\n",
        "\n",
        "# Convert to boolean\n",
        "bool_list = []\n",
        "for item in str_list:\n",
        "    bool_list.append(bool(item))   # Convert string to boolean\n",
        "print(\"Boolean list:\", bool_list)"
      ],
      "metadata": {
        "colab": {
          "base_uri": "https://localhost:8080/"
        },
        "id": "PzW8j0s7bqi7",
        "outputId": "9fe4c11d-ef7c-4a23-b2e7-4586dd4ccf0e"
      },
      "execution_count": null,
      "outputs": [
        {
          "output_type": "stream",
          "name": "stdout",
          "text": [
            "Integer list: [10, 20, 30]\n",
            "Float list: [10.0, 20.0, 30.0]\n",
            "Boolean list: [True, True, True]\n"
          ]
        }
      ]
    },
    {
      "cell_type": "markdown",
      "source": [
        "#11.Write a program that checks if a number is positive, negative, or zero"
      ],
      "metadata": {
        "id": "S4XQyrRMdlBw"
      }
    },
    {
      "cell_type": "code",
      "source": [
        "# Ask the user to enter a number\n",
        "num = float(input(\"Enter a number: \"))\n",
        "\n",
        "# Check if the number is positive, negative, or zero\n",
        "if num > 0:\n",
        "    print(\"The number is positive.\")\n",
        "elif num < 0:\n",
        "    print(\"The number is negative.\")\n",
        "else:\n",
        "    print(\"The number is zero.\")\n"
      ],
      "metadata": {
        "colab": {
          "base_uri": "https://localhost:8080/"
        },
        "id": "uy7-Z0JCdc6V",
        "outputId": "6c5fac50-b4ad-4b61-be3c-08fc2f951095"
      },
      "execution_count": null,
      "outputs": [
        {
          "output_type": "stream",
          "name": "stdout",
          "text": [
            "Enter a number: -54\n",
            "The number is negative.\n"
          ]
        }
      ]
    },
    {
      "cell_type": "markdown",
      "source": [
        "# 12.Write a for loop to print numbers from 1 to 10."
      ],
      "metadata": {
        "id": "Z4QZaA8Cd3a6"
      }
    },
    {
      "cell_type": "code",
      "source": [
        "for i in range(1,11):\n",
        "  print(i)"
      ],
      "metadata": {
        "colab": {
          "base_uri": "https://localhost:8080/"
        },
        "id": "oSAsXE_WdyEh",
        "outputId": "43fa6c80-590f-4c31-891d-4a31dcc2498f"
      },
      "execution_count": null,
      "outputs": [
        {
          "output_type": "stream",
          "name": "stdout",
          "text": [
            "1\n",
            "2\n",
            "3\n",
            "4\n",
            "5\n",
            "6\n",
            "7\n",
            "8\n",
            "9\n",
            "10\n"
          ]
        }
      ]
    },
    {
      "cell_type": "markdown",
      "source": [
        "# 13.Write a Python program to find the sum of all even numbers between 1 and 50"
      ],
      "metadata": {
        "id": "GUf1D9K-eRHD"
      }
    },
    {
      "cell_type": "code",
      "source": [
        "sum=0\n",
        "for i in range(1,51):\n",
        "    if i % 2 == 0:\n",
        "     sum += i\n",
        "print(\"sum of all even numbers from 1 to 50 is\",sum)"
      ],
      "metadata": {
        "colab": {
          "base_uri": "https://localhost:8080/"
        },
        "id": "oY1VoMv3eTEw",
        "outputId": "2d68387a-6690-415b-fdd8-ee1a4517f0bd"
      },
      "execution_count": null,
      "outputs": [
        {
          "output_type": "stream",
          "name": "stdout",
          "text": [
            "sum of all even numbers from 1 to 50 is 650\n"
          ]
        }
      ]
    },
    {
      "cell_type": "markdown",
      "source": [
        "# 14. Write a program to reverse a string using a while loop"
      ],
      "metadata": {
        "id": "fqEyWf0yf7Jf"
      }
    },
    {
      "cell_type": "code",
      "source": [
        "input_string = \"Hello, Python!\"\n",
        "reversed_string = \"\"\n",
        "index = len(input_string) - 1\n",
        "\n",
        "while index >= 0:\n",
        "    reversed_string += input_string[index]\n",
        "    index -= 1\n",
        "\n",
        "print(\"Original string:\", input_string)\n",
        "print(\"Reversed string:\", reversed_string)"
      ],
      "metadata": {
        "colab": {
          "base_uri": "https://localhost:8080/"
        },
        "id": "7wCM2Fxef_kf",
        "outputId": "e2531051-5307-4766-aa47-6d8167b84906"
      },
      "execution_count": null,
      "outputs": [
        {
          "output_type": "stream",
          "name": "stdout",
          "text": [
            "Original string: Hello, Python!\n",
            "Reversed string: !nohtyP ,olleH\n"
          ]
        }
      ]
    },
    {
      "cell_type": "markdown",
      "source": [
        "# 15.Write a Python program to calculate the factorial of a number provided by the user using a while loop"
      ],
      "metadata": {
        "id": "AwOFajWliFVD"
      }
    },
    {
      "cell_type": "code",
      "source": [
        "\n",
        "# Get input from user\n",
        "num = int(input(\"Enter a number: \"))\n",
        "factorial = 1\n",
        "i = num\n",
        "steps = \"\"\n",
        "\n",
        "# Build the multiplication string and calculate factorial\n",
        "while i >= 1:\n",
        "    factorial *= i\n",
        "    steps += str(i)\n",
        "    if i > 1:\n",
        "        steps += \" * \"\n",
        "    i -= 1\n",
        "\n",
        "# Show the full expression and result\n",
        "print(steps, \"=\", factorial)\n"
      ],
      "metadata": {
        "colab": {
          "base_uri": "https://localhost:8080/"
        },
        "id": "rdmv4moKiHuN",
        "outputId": "afdfb4d9-7f24-4152-d923-5d2982fad4ba"
      },
      "execution_count": null,
      "outputs": [
        {
          "output_type": "stream",
          "name": "stdout",
          "text": [
            "Enter a number: 6\n",
            "6 * 5 * 4 * 3 * 2 * 1 = 720\n"
          ]
        }
      ]
    }
  ]
}