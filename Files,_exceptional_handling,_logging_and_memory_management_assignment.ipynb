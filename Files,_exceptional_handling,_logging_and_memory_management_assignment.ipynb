{
  "nbformat": 4,
  "nbformat_minor": 0,
  "metadata": {
    "colab": {
      "provenance": []
    },
    "kernelspec": {
      "name": "python3",
      "display_name": "Python 3"
    },
    "language_info": {
      "name": "python"
    }
  },
  "cells": [
    {
      "cell_type": "markdown",
      "source": [
        " # 1.What is the difference between interpreted and compiled languages?"
      ],
      "metadata": {
        "id": "zwY5rxq55Jz6"
      }
    },
    {
      "cell_type": "markdown",
      "source": [
        "ans:\\\n",
        "Compiled Languages: The entire source code is translated into machine code before execution.\\\n",
        "Example: C, C++.\\\n",
        "Pros: Faster execution after compilation, optimized code.\\\n",
        "Cons: Slower development cycle (needs compilation every time).\n",
        "\n",
        "Interpreted Languages: Code is executed line-by-line by an interpreter.\\\n",
        "Example: Python, JavaScript.\\\n",
        "Pros: Easier debugging, platform-independent.\\\n",
        "Cons: Slower execution compared to compiled languages."
      ],
      "metadata": {
        "id": "rdygTHZA5kxl"
      }
    },
    {
      "cell_type": "markdown",
      "source": [
        "# 2. What is exception handling in Python?\n"
      ],
      "metadata": {
        "id": "EGzQaRXn5ujd"
      }
    },
    {
      "cell_type": "markdown",
      "source": [
        "ans:\n",
        "\n",
        "Exception handling is the process of managing runtime errors to prevent program crashes.\\\n",
        "It uses try, except, else, and finally blocks to catch and handle errors."
      ],
      "metadata": {
        "id": "8pSC9M4y5zgz"
      }
    },
    {
      "cell_type": "markdown",
      "source": [
        "# 3.What is the purpose of the finally block in exception handling?\n"
      ],
      "metadata": {
        "id": "XOck9wV254dC"
      }
    },
    {
      "cell_type": "markdown",
      "source": [
        "ans:\n",
        "\n",
        "The finally block contains code that runs regardless of whether an exception occurs.\\\n",
        "Example: Closing a file or releasing resources."
      ],
      "metadata": {
        "id": "9UkAxil76ZHT"
      }
    },
    {
      "cell_type": "code",
      "execution_count": null,
      "metadata": {
        "id": "yatGVTKE5EFA"
      },
      "outputs": [],
      "source": []
    },
    {
      "cell_type": "markdown",
      "source": [
        "# 4. What is logging in Python?"
      ],
      "metadata": {
        "id": "dPHm7Zko6dRZ"
      }
    },
    {
      "cell_type": "markdown",
      "source": [
        "ans:\n",
        "\n",
        "Logging records messages about program execution for debugging and monitoring.\\\n",
        "It helps track issues without stopping the program."
      ],
      "metadata": {
        "id": "i1LDAdC76hRn"
      }
    },
    {
      "cell_type": "markdown",
      "source": [
        "# 5. What is the significance of the __del__ method in Python?"
      ],
      "metadata": {
        "id": "3d5f8gWV6oq5"
      }
    },
    {
      "cell_type": "markdown",
      "source": [
        "ans:\n",
        "\n",
        "__del__ is a destructor method called when an object is about to be destroyed.\\\n",
        "Used to release resources like file handles or database connections."
      ],
      "metadata": {
        "id": "6bJllWYF6sXm"
      }
    },
    {
      "cell_type": "markdown",
      "source": [
        "# 6. What is the difference between import and from ... import in Python?"
      ],
      "metadata": {
        "id": "WTtzIDAg6yCS"
      }
    },
    {
      "cell_type": "markdown",
      "source": [
        "ans:\n",
        "\n",
        "import module → Imports the entire module. Use module.function().\n",
        "\n",
        "from module import function → Imports only specific functions/classes directly."
      ],
      "metadata": {
        "id": "NH7Ym06n62qH"
      }
    },
    {
      "cell_type": "markdown",
      "source": [
        "# 7.How can you handle multiple exceptions in Python?"
      ],
      "metadata": {
        "id": "1m5CpkTR65-f"
      }
    },
    {
      "cell_type": "markdown",
      "source": [
        "ans:\n",
        "\n",
        "Use multiple except blocks for different exceptions.\n",
        "\n",
        "Use a single except with a tuple:\n",
        "```\n",
        "try:\n",
        "    ...\n",
        "except (ValueError, TypeError) as e:\n",
        "    print(e)\n",
        "```"
      ],
      "metadata": {
        "id": "H4qHroOs691F"
      }
    },
    {
      "cell_type": "markdown",
      "source": [
        "# 8.What is the purpose of the with statement when handling files in Python?"
      ],
      "metadata": {
        "id": "F6Zh3Q887Fp3"
      }
    },
    {
      "cell_type": "markdown",
      "source": [
        "ans:\n",
        "\n",
        "Automatically handles opening and closing files, even if an exception occurs.\n",
        "```\n",
        "\n",
        "with open('file.txt') as f:\n",
        "    data = f.read()\n",
        "```"
      ],
      "metadata": {
        "id": "sob9qx8j7K2c"
      }
    },
    {
      "cell_type": "markdown",
      "source": [
        "# 9. What is the difference between multithreading and multiprocessing?"
      ],
      "metadata": {
        "id": "HsBat0sB7SQg"
      }
    },
    {
      "cell_type": "markdown",
      "source": [
        "ans:\n",
        "\n",
        "Multithreading: Multiple threads run in the same process; share memory.\n",
        "\n",
        "Multiprocessing: Multiple processes run independently; separate memory spaces."
      ],
      "metadata": {
        "id": "mQ4NdOEH7Yqf"
      }
    },
    {
      "cell_type": "markdown",
      "source": [
        "# 10.What are the advantages of using logging in a program?"
      ],
      "metadata": {
        "id": "EyrdihGY7cQj"
      }
    },
    {
      "cell_type": "markdown",
      "source": [
        "ans:\n",
        "\n",
        "* Advantages of Using Logging\n",
        "\n",
        "Tracks application flow and errors.\n",
        "\n",
        "Easier debugging.\n",
        "\n",
        "Can record info without affecting program execution.\n",
        "\n",
        "Allows different severity levels (INFO, WARNING, ERROR)"
      ],
      "metadata": {
        "id": "9eoBt3VK7f8k"
      }
    },
    {
      "cell_type": "markdown",
      "source": [
        "# 11.What is memory management in Python?"
      ],
      "metadata": {
        "id": "HU-_YtWQ7mlU"
      }
    },
    {
      "cell_type": "markdown",
      "source": [
        "ans:\n",
        "\n",
        "Python uses:\n",
        "\n",
        "Automatic Garbage Collection to free unused memory.\n",
        "\n",
        "Reference Counting to track object usage.\n",
        "\n",
        "Memory Pools for efficient allocation."
      ],
      "metadata": {
        "id": "-k1esbQ-7uJm"
      }
    },
    {
      "cell_type": "markdown",
      "source": [
        "# 12. What are the basic steps involved in exception handling in Python?"
      ],
      "metadata": {
        "id": "824ZJWWK7y1-"
      }
    },
    {
      "cell_type": "markdown",
      "source": [
        "ans:\n",
        "\n",
        "* Basic Steps in Exception Handling\n",
        "\n",
        "try → Code that may cause an error.\n",
        "\n",
        "except → Handles the error.\n",
        "\n",
        "else → Runs if no error occurs.\n",
        "\n",
        "finally → Always runs for cleanup."
      ],
      "metadata": {
        "id": "B81duROZ8LyV"
      }
    },
    {
      "cell_type": "markdown",
      "source": [
        "# 13.Why is memory management important in Python?"
      ],
      "metadata": {
        "id": "Z-2f5sBc8RQt"
      }
    },
    {
      "cell_type": "markdown",
      "source": [
        "ans:\n",
        "\n",
        "Prevents memory leaks.\n",
        "\n",
        "Improves performance.\n",
        "\n",
        "Ensures optimal resource usage."
      ],
      "metadata": {
        "id": "kay--ilR8V5l"
      }
    },
    {
      "cell_type": "markdown",
      "source": [
        "# 14. What is the role of try and except in exception handling?"
      ],
      "metadata": {
        "id": "W3VMeNwJ8ZnK"
      }
    },
    {
      "cell_type": "markdown",
      "source": [
        "ans:\n",
        "\n",
        "try: Tests code for errors.\n",
        "\n",
        "except: Catches and handles the errors."
      ],
      "metadata": {
        "id": "3-59pJme8eL_"
      }
    },
    {
      "cell_type": "markdown",
      "source": [
        "# 15. How does Python's garbage collection system work?"
      ],
      "metadata": {
        "id": "3MZBeBVR8hfO"
      }
    },
    {
      "cell_type": "markdown",
      "source": [
        "ans:\n",
        "\n",
        "Uses reference counting to delete objects with zero references.\n",
        "\n",
        "Uses a cyclic garbage collector to handle circular references."
      ],
      "metadata": {
        "id": "UvV3lLqJ8lFW"
      }
    },
    {
      "cell_type": "markdown",
      "source": [
        "# 16.What is the purpose of the else block in exception handling?"
      ],
      "metadata": {
        "id": "SXbSd96I8o_L"
      }
    },
    {
      "cell_type": "markdown",
      "source": [
        "ans:\n",
        "\n",
        "Runs code only when no exception occurs in the try block."
      ],
      "metadata": {
        "id": "w-OIuk2I8td6"
      }
    },
    {
      "cell_type": "markdown",
      "source": [
        "# 17.What are the common logging levels in Python?"
      ],
      "metadata": {
        "id": "givINwGT8wvw"
      }
    },
    {
      "cell_type": "markdown",
      "source": [
        "ans:\n",
        "\n",
        "\n",
        "1.    DEBUG\n",
        "2.    INFO\n",
        "3.    WARNING\n",
        "4.    ERROR\n",
        "5.    CRITICAL\n",
        "\n",
        "\n",
        "\n",
        "\n",
        "\n",
        "\n"
      ],
      "metadata": {
        "id": "xvSDqe6781Vb"
      }
    },
    {
      "cell_type": "markdown",
      "source": [
        "# 18.What is the difference between os.fork() and multiprocessing in Python?"
      ],
      "metadata": {
        "id": "iSEjX1QE9lmV"
      }
    },
    {
      "cell_type": "markdown",
      "source": [
        "ANS:\n",
        "\n",
        "os.fork() (Unix only) creates a child process by duplicating the parent.\n",
        "\n",
        "multiprocessing works on both Windows and Unix and offers more features."
      ],
      "metadata": {
        "id": "2r3btwD39pbq"
      }
    },
    {
      "cell_type": "markdown",
      "source": [
        "# 19. What is the importance of closing a file in Python?\n"
      ],
      "metadata": {
        "id": "v3dr6cqN9tIV"
      }
    },
    {
      "cell_type": "markdown",
      "source": [
        "ANS:\n",
        "\n",
        "\n",
        "\n",
        "Ensures data is saved to disk.\n",
        "\n",
        "Frees system resources.\n",
        "\n",
        "Prevents file corruption.\n",
        "\n"
      ],
      "metadata": {
        "id": "AatbIw2m9xO-"
      }
    },
    {
      "cell_type": "markdown",
      "source": [
        "# 20.What is the difference between file.read() and file.readline() in Python?"
      ],
      "metadata": {
        "id": "nFlJWzmT95Ez"
      }
    },
    {
      "cell_type": "markdown",
      "source": [
        "ANS:\n",
        "\n",
        "read() → Reads entire file content as a single string.\n",
        "\n",
        "readline() → Reads one line at a time."
      ],
      "metadata": {
        "id": "8fh3gd3c997S"
      }
    },
    {
      "cell_type": "markdown",
      "source": [
        "# 21.What is the logging module in Python used for?"
      ],
      "metadata": {
        "id": "3yeD1S0H-Am8"
      }
    },
    {
      "cell_type": "markdown",
      "source": [
        "ANS:\n",
        "\n",
        "The logging module manages application logs with different levels, formats, and output destinations."
      ],
      "metadata": {
        "id": "DKFZA3RG-Erg"
      }
    },
    {
      "cell_type": "markdown",
      "source": [
        "# 22. What is the os module in Python used for in file handling?"
      ],
      "metadata": {
        "id": "iI7UUVvY-HMq"
      }
    },
    {
      "cell_type": "markdown",
      "source": [
        "ANS:\n",
        "\n",
        "Performs OS-related tasks like file creation, deletion, directory navigation.\n",
        "\n",
        "Example: os.remove(), os.mkdir()"
      ],
      "metadata": {
        "id": "eVf2edBO-LFR"
      }
    },
    {
      "cell_type": "markdown",
      "source": [
        "# 23 What are the challenges associated with memory management in Python?"
      ],
      "metadata": {
        "id": "-ZsiCqO3-OlR"
      }
    },
    {
      "cell_type": "markdown",
      "source": [
        "ANS:\n",
        "\n",
        "Circular references.\n",
        "\n",
        "Large datasets causing memory overflow.\n",
        "\n",
        "Inefficient object creation."
      ],
      "metadata": {
        "id": "yF7311UH-SBW"
      }
    },
    {
      "cell_type": "markdown",
      "source": [
        "# 24. How do you raise an exception manually in Python?"
      ],
      "metadata": {
        "id": "9cSgwDHv-VZ8"
      }
    },
    {
      "cell_type": "markdown",
      "source": [
        "ANS:\n",
        "\n",
        "Use raise keyword:\n",
        "```\n",
        "raise ValueError(\"Invalid input\")\n",
        "```"
      ],
      "metadata": {
        "id": "I5KQeFDI-Zk3"
      }
    },
    {
      "cell_type": "markdown",
      "source": [
        "# 25.Why is it important to use multithreading in certain applications?"
      ],
      "metadata": {
        "id": "WgfMkUQP-fca"
      }
    },
    {
      "cell_type": "markdown",
      "source": [
        "ANS:\n",
        "\n",
        "Improves responsiveness.\n",
        "\n",
        "Allows simultaneous tasks (e.g., downloading while processing data).\n",
        "\n",
        "Efficient for I/O-bound operations."
      ],
      "metadata": {
        "id": "ME2moSdV-jl7"
      }
    },
    {
      "cell_type": "markdown",
      "source": [
        "# **Practical Questions**\n",
        "\n",
        "\n",
        "---\n",
        "\n"
      ],
      "metadata": {
        "id": "MqfNq5fl-nGm"
      }
    },
    {
      "cell_type": "markdown",
      "source": [
        "# 1. How can you open a file for writing in Python and write a string to it?"
      ],
      "metadata": {
        "id": "t2fKM9ci-uYA"
      }
    },
    {
      "cell_type": "code",
      "source": [
        "with open(\"example.txt\", \"w\") as file:\n",
        "    file.write(\"Hello, this is a test string.\")\n"
      ],
      "metadata": {
        "id": "8RN8MXnl-zUJ"
      },
      "execution_count": 1,
      "outputs": []
    },
    {
      "cell_type": "markdown",
      "source": [
        "# 2.Write a Python program to read the contents of a file and print each line?"
      ],
      "metadata": {
        "id": "qhnvVimh_CsJ"
      }
    },
    {
      "cell_type": "code",
      "source": [
        "with open(\"example.txt\", \"r\") as file:\n",
        "    for line in file:\n",
        "        print(line.strip())\n"
      ],
      "metadata": {
        "colab": {
          "base_uri": "https://localhost:8080/"
        },
        "id": "BqnmLQD2_ati",
        "outputId": "57b3674b-a417-4e80-95db-b8a5e36aedc3"
      },
      "execution_count": 2,
      "outputs": [
        {
          "output_type": "stream",
          "name": "stdout",
          "text": [
            "Hello, this is a test string.\n"
          ]
        }
      ]
    },
    {
      "cell_type": "markdown",
      "source": [
        "# 3. How would you handle a case where the file doesn't exist while trying to open it for reading?"
      ],
      "metadata": {
        "id": "fshtMn6p_f77"
      }
    },
    {
      "cell_type": "code",
      "source": [
        "try:\n",
        "    with open(\"missing.txt\", \"r\") as file:\n",
        "        print(file.read())\n",
        "except FileNotFoundError:\n",
        "    print(\"Error: File does not exist.\")\n"
      ],
      "metadata": {
        "colab": {
          "base_uri": "https://localhost:8080/"
        },
        "id": "0R_KIxl6_h20",
        "outputId": "349c922e-f985-4175-ac32-5511adcc3929"
      },
      "execution_count": 3,
      "outputs": [
        {
          "output_type": "stream",
          "name": "stdout",
          "text": [
            "Error: File does not exist.\n"
          ]
        }
      ]
    },
    {
      "cell_type": "markdown",
      "source": [
        "# 4.Write a Python script that reads from one file and writes its content to another file."
      ],
      "metadata": {
        "id": "iaP_WDcv_kwR"
      }
    },
    {
      "cell_type": "code",
      "source": [
        "with open(\"source.txt\", \"r\") as src, open(\"destination.txt\", \"w\") as dst:\n",
        "    dst.write(src.read())\n"
      ],
      "metadata": {
        "collapsed": true,
        "id": "VhkxmbC-_ohp"
      },
      "execution_count": null,
      "outputs": []
    },
    {
      "cell_type": "markdown",
      "source": [
        "# 5.How would you catch and handle division by zero error in Python?"
      ],
      "metadata": {
        "id": "Hm4hNILkAGTR"
      }
    },
    {
      "cell_type": "code",
      "source": [
        "try:\n",
        "    result = 10 / 0\n",
        "except ZeroDivisionError:\n",
        "    print(\"Error: Division by zero is not allowed.\")\n"
      ],
      "metadata": {
        "colab": {
          "base_uri": "https://localhost:8080/"
        },
        "id": "PqsA00CjALGS",
        "outputId": "5a649c25-3710-413d-f453-10bf4cfd366e"
      },
      "execution_count": 5,
      "outputs": [
        {
          "output_type": "stream",
          "name": "stdout",
          "text": [
            "Error: Division by zero is not allowed.\n"
          ]
        }
      ]
    },
    {
      "cell_type": "markdown",
      "source": [
        "# 6. Write a Python program that logs an error message to a log file when a division by zero exception occurS?"
      ],
      "metadata": {
        "id": "F7twX0iEAOQu"
      }
    },
    {
      "cell_type": "code",
      "source": [
        "import logging\n",
        "logging.basicConfig(filename=\"errors.log\", level=logging.ERROR)\n",
        "\n",
        "try:\n",
        "    result = 10 / 0\n",
        "except ZeroDivisionError as e:\n",
        "    logging.error(f\"Division by zero occurred: {e}\")\n"
      ],
      "metadata": {
        "colab": {
          "base_uri": "https://localhost:8080/"
        },
        "id": "0AO5O0m7AS6F",
        "outputId": "e82f0eea-e67d-45a5-cbf6-5aa4bde997f5"
      },
      "execution_count": 6,
      "outputs": [
        {
          "output_type": "stream",
          "name": "stderr",
          "text": [
            "ERROR:root:Division by zero occurred: division by zero\n"
          ]
        }
      ]
    },
    {
      "cell_type": "markdown",
      "source": [
        "# 7. How do you log information at different levels (INFO, ERROR, WARNING) in Python using the logging module?"
      ],
      "metadata": {
        "id": "2QNqCEcGAXiw"
      }
    },
    {
      "cell_type": "code",
      "source": [
        "import logging\n",
        "logging.basicConfig(filename=\"app.log\", level=logging.DEBUG)\n",
        "\n",
        "logging.info(\"This is an info message\")\n",
        "logging.warning(\"This is a warning message\")\n",
        "logging.error(\"This is an error message\")\n"
      ],
      "metadata": {
        "colab": {
          "base_uri": "https://localhost:8080/"
        },
        "id": "mSW9cMTGAdvQ",
        "outputId": "1451c25b-0a0b-4335-ac23-a5834f4a7a38"
      },
      "execution_count": 7,
      "outputs": [
        {
          "output_type": "stream",
          "name": "stderr",
          "text": [
            "WARNING:root:This is a warning message\n",
            "ERROR:root:This is an error message\n"
          ]
        }
      ]
    },
    {
      "cell_type": "markdown",
      "source": [
        "# 8.  Write a program to handle a file opening error using exception handling."
      ],
      "metadata": {
        "id": "PIpGQx4mAhR5"
      }
    },
    {
      "cell_type": "code",
      "source": [
        "try:\n",
        "    with open(\"no_file.txt\", \"r\") as file:\n",
        "        print(file.read())\n",
        "except FileNotFoundError:\n",
        "    print(\"File not found.\")\n"
      ],
      "metadata": {
        "colab": {
          "base_uri": "https://localhost:8080/"
        },
        "id": "qy-yfRoRAm14",
        "outputId": "dc98168c-3bda-49f0-ace5-21118935e733"
      },
      "execution_count": 8,
      "outputs": [
        {
          "output_type": "stream",
          "name": "stdout",
          "text": [
            "File not found.\n"
          ]
        }
      ]
    },
    {
      "cell_type": "markdown",
      "source": [
        "# 9. How can you read a file line by line and store its content in a list in Python."
      ],
      "metadata": {
        "id": "1zrvx8KMAqK4"
      }
    },
    {
      "cell_type": "code",
      "source": [
        "with open(\"example.txt\", \"r\") as file:\n",
        "    lines = file.readlines()\n",
        "print(lines)\n"
      ],
      "metadata": {
        "colab": {
          "base_uri": "https://localhost:8080/"
        },
        "id": "Y--uC3EJAvwf",
        "outputId": "5a206629-6dda-4c58-d021-7cd5a687d203"
      },
      "execution_count": 9,
      "outputs": [
        {
          "output_type": "stream",
          "name": "stdout",
          "text": [
            "['Hello, this is a test string.']\n"
          ]
        }
      ]
    },
    {
      "cell_type": "markdown",
      "source": [
        "# 10. How can you append data to an existing file in Python?"
      ],
      "metadata": {
        "id": "vhRAVTzyA1j9"
      }
    },
    {
      "cell_type": "code",
      "source": [
        "with open(\"example.txt\", \"a\") as file:\n",
        "    file.write(\"\\nThis is appended text.\")\n"
      ],
      "metadata": {
        "id": "7Nmo5Tu5A5fF"
      },
      "execution_count": 10,
      "outputs": []
    },
    {
      "cell_type": "markdown",
      "source": [
        "# 11.Write a Python program that uses a try-except block to handle an error when attempting to access a dictionary key that doesn't exist."
      ],
      "metadata": {
        "id": "vsgBEJGKA87G"
      }
    },
    {
      "cell_type": "code",
      "source": [
        "data = {\"name\": \"Vrushali\"}\n",
        "try:\n",
        "    print(data[\"age\"])\n",
        "except KeyError:\n",
        "    print(\"Key not found in dictionary.\")\n"
      ],
      "metadata": {
        "colab": {
          "base_uri": "https://localhost:8080/"
        },
        "id": "Sbehw94QBA9T",
        "outputId": "80b80009-7e6c-41d6-dd5a-385bbbcdbd0a"
      },
      "execution_count": 11,
      "outputs": [
        {
          "output_type": "stream",
          "name": "stdout",
          "text": [
            "Key not found in dictionary.\n"
          ]
        }
      ]
    },
    {
      "cell_type": "markdown",
      "source": [
        "# 12. Write a program that demonstrates using multiple except blocks to handle different types of exceptionS."
      ],
      "metadata": {
        "id": "AblcI-3iBH4U"
      }
    },
    {
      "cell_type": "code",
      "source": [
        "try:\n",
        "    num = int(\"abc\")\n",
        "    result = 10 / 0\n",
        "except ValueError:\n",
        "    print(\"Invalid number format.\")\n",
        "except ZeroDivisionError:\n",
        "    print(\"Division by zero is not allowed.\")\n"
      ],
      "metadata": {
        "colab": {
          "base_uri": "https://localhost:8080/"
        },
        "id": "dZtfyK5yBMNM",
        "outputId": "15f09812-40b8-456b-daca-ef4fc1ec5217"
      },
      "execution_count": 12,
      "outputs": [
        {
          "output_type": "stream",
          "name": "stdout",
          "text": [
            "Invalid number format.\n"
          ]
        }
      ]
    },
    {
      "cell_type": "markdown",
      "source": [
        "# 13.How would you check if a file exists before attempting to read it in Python."
      ],
      "metadata": {
        "id": "8rGRRBaLBP_A"
      }
    },
    {
      "cell_type": "code",
      "source": [
        "import os\n",
        "if os.path.exists(\"example.txt\"):\n",
        "    print(\"File exists.\")\n",
        "else:\n",
        "    print(\"File does not exist.\")\n"
      ],
      "metadata": {
        "colab": {
          "base_uri": "https://localhost:8080/"
        },
        "id": "g4NmHrs6BZ-t",
        "outputId": "d871ebd1-4a5b-44e3-e877-85315a72e791"
      },
      "execution_count": 13,
      "outputs": [
        {
          "output_type": "stream",
          "name": "stdout",
          "text": [
            "File exists.\n"
          ]
        }
      ]
    },
    {
      "cell_type": "markdown",
      "source": [
        "# 14.Write a program that uses the logging module to log both informational and error messages."
      ],
      "metadata": {
        "id": "Y6YCtWduBex2"
      }
    },
    {
      "cell_type": "code",
      "source": [
        "import logging\n",
        "logging.basicConfig(filename=\"logfile.log\", level=logging.DEBUG)\n",
        "\n",
        "logging.info(\"Program started\")\n",
        "try:\n",
        "    10 / 0\n",
        "except ZeroDivisionError:\n",
        "    logging.error(\"Division by zero error\")\n"
      ],
      "metadata": {
        "colab": {
          "base_uri": "https://localhost:8080/"
        },
        "id": "xq5B_I5RBk8G",
        "outputId": "e2d61c42-e9b4-4238-9696-006ddda7ee19"
      },
      "execution_count": 14,
      "outputs": [
        {
          "output_type": "stream",
          "name": "stderr",
          "text": [
            "ERROR:root:Division by zero error\n"
          ]
        }
      ]
    },
    {
      "cell_type": "markdown",
      "source": [
        "# 15.Write a Python program that prints the content of a file and handles the case when the file is empty."
      ],
      "metadata": {
        "id": "-BuAhLX6Bnfi"
      }
    },
    {
      "cell_type": "code",
      "source": [
        "if os.path.getsize(\"example.txt\") == 0:\n",
        "    print(\"File is empty.\")\n",
        "else:\n",
        "    with open(\"example.txt\", \"r\") as file:\n",
        "        print(file.read())\n"
      ],
      "metadata": {
        "colab": {
          "base_uri": "https://localhost:8080/"
        },
        "id": "BmlpCetkBq7h",
        "outputId": "fa4ec544-3581-4858-853b-ad268d68b818"
      },
      "execution_count": 15,
      "outputs": [
        {
          "output_type": "stream",
          "name": "stdout",
          "text": [
            "Hello, this is a test string.\n",
            "This is appended text.\n"
          ]
        }
      ]
    },
    {
      "cell_type": "markdown",
      "source": [
        "# 16.Demonstrate how to use memory profiling to check the memory usage of a small program."
      ],
      "metadata": {
        "id": "59LePvE6BybU"
      }
    },
    {
      "cell_type": "code",
      "source": [
        "from memory_profiler import profile\n",
        "\n",
        "@profile\n",
        "def test():\n",
        "    nums = [i for i in range(1000)]\n",
        "    print(\"List created.\")\n",
        "\n",
        "test()\n"
      ],
      "metadata": {
        "id": "QIXssJ1ZB3ls"
      },
      "execution_count": null,
      "outputs": []
    },
    {
      "cell_type": "markdown",
      "source": [
        "# 17. Write a Python program to create and write a list of numbers to a file, one number per line."
      ],
      "metadata": {
        "id": "8x8Z59xWCBc0"
      }
    },
    {
      "cell_type": "code",
      "source": [
        "numbers = [1, 2, 3, 4, 5]\n",
        "with open(\"numbers.txt\", \"w\") as file:\n",
        "    for num in numbers:\n",
        "        file.write(str(num) + \"\\n\")\n"
      ],
      "metadata": {
        "id": "hWhql7TECFtG"
      },
      "execution_count": 17,
      "outputs": []
    },
    {
      "cell_type": "markdown",
      "source": [
        "# 18. How would you implement a basic logging setup that logs to a file with rotation after 1MB."
      ],
      "metadata": {
        "id": "dnSbnx00CIn2"
      }
    },
    {
      "cell_type": "code",
      "source": [
        "import logging\n",
        "from logging.handlers import RotatingFileHandler\n",
        "\n",
        "handler = RotatingFileHandler(\"rotating.log\", maxBytes=1_000_000, backupCount=3)\n",
        "logging.basicConfig(handlers=[handler], level=logging.INFO)\n",
        "\n",
        "logging.info(\"This is a test log message.\")\n"
      ],
      "metadata": {
        "id": "001ldhUqCMjF"
      },
      "execution_count": 19,
      "outputs": []
    },
    {
      "cell_type": "markdown",
      "source": [
        "# 19.Write a program that handles both IndexError and KeyError using a try-except block."
      ],
      "metadata": {
        "id": "HAkaAKViCPzm"
      }
    },
    {
      "cell_type": "code",
      "source": [
        "data = {\"name\": \"Vrushali\"}\n",
        "try:\n",
        "    lst = [1, 2, 3]\n",
        "    print(lst[5])\n",
        "    print(data[\"age\"])\n",
        "except IndexError:\n",
        "    print(\"List index out of range.\")\n",
        "except KeyError:\n",
        "    print(\"Dictionary key not found.\")\n"
      ],
      "metadata": {
        "colab": {
          "base_uri": "https://localhost:8080/"
        },
        "id": "ahMfqmo2CUwC",
        "outputId": "aec8bcb0-501f-44dc-e28e-f33a8b5f81a6"
      },
      "execution_count": 20,
      "outputs": [
        {
          "output_type": "stream",
          "name": "stdout",
          "text": [
            "List index out of range.\n"
          ]
        }
      ]
    },
    {
      "cell_type": "markdown",
      "source": [
        "# 20. How would you open a file and read its contents using a context manager in Python."
      ],
      "metadata": {
        "id": "1cmnBkCUCart"
      }
    },
    {
      "cell_type": "code",
      "source": [
        "with open(\"example.txt\", \"r\") as file:\n",
        "    print(file.read())\n"
      ],
      "metadata": {
        "colab": {
          "base_uri": "https://localhost:8080/"
        },
        "id": "2iU5X1AwCe30",
        "outputId": "3ea43805-0961-4ca1-dd69-0a5f651959ce"
      },
      "execution_count": 21,
      "outputs": [
        {
          "output_type": "stream",
          "name": "stdout",
          "text": [
            "Hello, this is a test string.\n",
            "This is appended text.\n"
          ]
        }
      ]
    },
    {
      "cell_type": "markdown",
      "source": [
        "# 21. Write a Python program that reads a file and prints the number of occurrences of a specific word."
      ],
      "metadata": {
        "id": "YaHPsqV5Chep"
      }
    },
    {
      "cell_type": "code",
      "source": [
        "word_to_count = \"Python\"\n",
        "count = 0\n",
        "with open(\"example.txt\", \"r\") as file:\n",
        "    for line in file:\n",
        "        count += line.count(word_to_count)\n",
        "print(f\"'{word_to_count}' occurs {count} times.\")\n"
      ],
      "metadata": {
        "colab": {
          "base_uri": "https://localhost:8080/"
        },
        "id": "pd10b-p_Clqn",
        "outputId": "c002255d-54ee-4dbd-8625-cad04bdcdd60"
      },
      "execution_count": 22,
      "outputs": [
        {
          "output_type": "stream",
          "name": "stdout",
          "text": [
            "'Python' occurs 0 times.\n"
          ]
        }
      ]
    },
    {
      "cell_type": "markdown",
      "source": [
        "# 22.How can you check if a file is empty before attempting to read its contents."
      ],
      "metadata": {
        "id": "2Mr7Ml0yCog4"
      }
    },
    {
      "cell_type": "code",
      "source": [
        "if os.path.getsize(\"example.txt\") == 0:\n",
        "    print(\"File is empty.\")\n",
        "else:\n",
        "    print(\"File has content.\")\n"
      ],
      "metadata": {
        "colab": {
          "base_uri": "https://localhost:8080/"
        },
        "id": "IZN6HrilCuF2",
        "outputId": "bc0f0653-6054-448a-cbef-2713ddcfd2bd"
      },
      "execution_count": 23,
      "outputs": [
        {
          "output_type": "stream",
          "name": "stdout",
          "text": [
            "File has content.\n"
          ]
        }
      ]
    },
    {
      "cell_type": "markdown",
      "source": [
        "# 23. Write a Python program that writes to a log file when an error occurs during file handling."
      ],
      "metadata": {
        "id": "LKWuY5BoCwoc"
      }
    },
    {
      "cell_type": "code",
      "source": [
        "import logging\n",
        "logging.basicConfig(filename=\"file_errors.log\", level=logging.ERROR)\n",
        "\n",
        "try:\n",
        "    with open(\"missing.txt\", \"r\") as file:\n",
        "        print(file.read())\n",
        "except FileNotFoundError as e:\n",
        "    logging.error(f\"File handling error: {e}\")\n"
      ],
      "metadata": {
        "colab": {
          "base_uri": "https://localhost:8080/"
        },
        "id": "_Vxev3D-C0RY",
        "outputId": "f6478a5d-cc0c-4825-f87f-5855f3129ab9"
      },
      "execution_count": 24,
      "outputs": [
        {
          "output_type": "stream",
          "name": "stderr",
          "text": [
            "ERROR:root:File handling error: [Errno 2] No such file or directory: 'missing.txt'\n"
          ]
        }
      ]
    }
  ]
}