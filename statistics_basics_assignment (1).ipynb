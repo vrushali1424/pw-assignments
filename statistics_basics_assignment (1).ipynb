{
  "cells": [
    {
      "cell_type": "markdown",
      "id": "70802fee",
      "metadata": {
        "id": "70802fee"
      },
      "source": [
        "#  Statistics Basics Assignment\n",
        "\n",
        "\n",
        "---\n",
        "\n"
      ]
    },
    {
      "cell_type": "markdown",
      "id": "3df1399c",
      "metadata": {
        "id": "3df1399c"
      },
      "source": [
        "### Question 1\n",
        "What is the difference between descriptive statistics and inferential statistics? Explain with examples."
      ]
    },
    {
      "cell_type": "markdown",
      "id": "33983022",
      "metadata": {
        "id": "33983022"
      },
      "source": [
        "**Answer:**\n",
        "- **Descriptive Statistics:** Summarizes and describes data. Example: Average score of students in a class is 75.  \n",
        "- **Inferential Statistics:** Makes predictions/generalizations from a sample.\\ Example: Surveying 100 students out of 10,000 to estimate average score."
      ]
    },
    {
      "cell_type": "markdown",
      "id": "89fef479",
      "metadata": {
        "id": "89fef479"
      },
      "source": [
        "### Question 2\n",
        "What is sampling in statistics? Explain the differences between random and stratified sampling."
      ]
    },
    {
      "cell_type": "markdown",
      "id": "3233a5cc",
      "metadata": {
        "id": "3233a5cc"
      },
      "source": [
        "**Answer:**\n",
        "- **Sampling:** Selecting a subset from a population to represent the whole.  \n",
        "- **Random Sampling:** Every individual has equal chance. Example: Pick 50 students randomly from 1000.  \n",
        "- **Stratified Sampling:** Divide population into strata and sample proportionally. \\\n",
        "Example: From 600 boys and 400 girls, sample 60 boys and 40 girls."
      ]
    },
    {
      "cell_type": "markdown",
      "id": "defcbf43",
      "metadata": {
        "id": "defcbf43"
      },
      "source": [
        "### Question 3\n",
        "Define mean, median, and mode. Explain why these measures of central tendency are important."
      ]
    },
    {
      "cell_type": "markdown",
      "id": "f60754f1",
      "metadata": {
        "id": "f60754f1"
      },
      "source": [
        "**Answer:**\n",
        "- **Mean:** Arithmetic average.  \n",
        "- **Median:** Middle value when ordered.  \n",
        "- **Mode:** Most frequent value.  \n",
        "**Importance:** They summarize data into a central value for comparison and interpretation."
      ]
    },
    {
      "cell_type": "markdown",
      "id": "342a5542",
      "metadata": {
        "id": "342a5542"
      },
      "source": [
        "### Question 4\n",
        "Explain skewness and kurtosis. What does a positive skew imply about the data?"
      ]
    },
    {
      "cell_type": "markdown",
      "id": "71f30e9c",
      "metadata": {
        "id": "71f30e9c"
      },
      "source": [
        "**Answer:**\n",
        "- **Skewness:** Measures asymmetry. Positive skew → right tail longer.  \n",
        "- **Kurtosis:** Measures peakedness. High kurtosis = heavy tails; low kurtosis = light tails.  \n",
        "**Positive skew means:** Most data points are small, but a few very high values stretch the right tail."
      ]
    },
    {
      "cell_type": "markdown",
      "id": "938a242d",
      "metadata": {
        "id": "938a242d"
      },
      "source": [
        "### Question 5\n",
        "Implement a Python program to compute the mean, median, and mode of a given list of numbers.\n",
        "numbers = [12, 15, 12, 18, 19, 12, 20, 22, 19, 19, 24, 24, 24, 26, 28]"
      ]
    },
    {
      "cell_type": "code",
      "execution_count": 5,
      "id": "5b3de8d4",
      "metadata": {
        "colab": {
          "base_uri": "https://localhost:8080/"
        },
        "id": "5b3de8d4",
        "outputId": "18027f64-e43f-4802-ec1e-9630cb73e4a4"
      },
      "outputs": [
        {
          "output_type": "stream",
          "name": "stdout",
          "text": [
            "Mean: 19.6\n",
            "Median: 19\n",
            "Mode: 12\n"
          ]
        }
      ],
      "source": [
        "\n",
        "import statistics as stats\n",
        "\n",
        "numbers = [12, 15, 12, 18, 19, 12, 20, 22, 19, 19, 24, 24, 24, 26, 28]\n",
        "\n",
        "mean_value = stats.mean(numbers)\n",
        "median_value = stats.median(numbers)\n",
        "mode_value = stats.mode(numbers)\n",
        "\n",
        "print(\"Mean:\", mean_value)\n",
        "print(\"Median:\", median_value)\n",
        "print(\"Mode:\", mode_value)\n"
      ]
    },
    {
      "cell_type": "markdown",
      "id": "bdf3fc99",
      "metadata": {
        "id": "bdf3fc99"
      },
      "source": [
        "### Question 6\n",
        "Compute the covariance and correlation coefficient between the two datasets."
      ]
    },
    {
      "cell_type": "code",
      "execution_count": 1,
      "id": "52596f8a",
      "metadata": {
        "colab": {
          "base_uri": "https://localhost:8080/"
        },
        "id": "52596f8a",
        "outputId": "2d70808a-534f-46b4-ca8c-135f29c28df7"
      },
      "outputs": [
        {
          "output_type": "stream",
          "name": "stdout",
          "text": [
            "Covariance: 220.0\n",
            "Correlation Coefficient: 0.995893206467704\n"
          ]
        }
      ],
      "source": [
        "\n",
        "import numpy as np\n",
        "\n",
        "list_x = [10, 20, 30, 40, 50]\n",
        "list_y = [15, 25, 35, 45, 60]\n",
        "\n",
        "cov_matrix = np.cov(list_x, list_y, bias=True)\n",
        "covariance = cov_matrix[0][1]\n",
        "correlation = np.corrcoef(list_x, list_y)[0][1]\n",
        "\n",
        "print(\"Covariance:\", covariance)\n",
        "print(\"Correlation Coefficient:\", correlation)\n"
      ]
    },
    {
      "cell_type": "markdown",
      "id": "e7ad4450",
      "metadata": {
        "id": "e7ad4450"
      },
      "source": [
        "### Question 7\n",
        "Write a Python script to draw a boxplot for the following numeric list and identify its outliers.\n",
        "data = [12, 14, 14, 15, 18, 19, 19, 21, 22, 22, 23, 23, 24, 26, 29, 35]"
      ]
    },
    {
      "cell_type": "code",
      "execution_count": 2,
      "id": "500847f4",
      "metadata": {
        "colab": {
          "base_uri": "https://localhost:8080/",
          "height": 452
        },
        "id": "500847f4",
        "outputId": "3ce66309-0518-4141-dd21-0fd1d6c6c483"
      },
      "outputs": [
        {
          "output_type": "display_data",
          "data": {
            "text/plain": [
              "<Figure size 640x480 with 1 Axes>"
            ],
            "image/png": "[encoded data removed]"
          },
          "metadata": {}
        }
      ],
      "source": [
        "\n",
        "import matplotlib.pyplot as plt\n",
        "\n",
        "data = [12, 14, 14, 15, 18, 19, 19, 21, 22, 22, 23, 23, 24, 26, 29, 35]\n",
        "\n",
        "plt.boxplot(data)\n",
        "plt.title(\"Boxplot of Data\")\n",
        "plt.show()\n"
      ]
    },
    {
      "cell_type": "markdown",
      "id": "c7f29d85",
      "metadata": {
        "id": "c7f29d85"
      },
      "source": [
        "**Explanation:** The boxplot shows the median, quartiles, and possible outliers. In this dataset, `35` is likely to be identified as an outlier since it lies far above the upper quartile."
      ]
    },
    {
      "cell_type": "markdown",
      "id": "ba30a917",
      "metadata": {
        "id": "ba30a917"
      },
      "source": [
        "### Question 8\n",
        "You are working as a data analyst in an e-commerce company. The marketing team wants to know if there is a relationship between advertising spend and daily sales."
      ]
    },
    {
      "cell_type": "markdown",
      "id": "7a8b31ea",
      "metadata": {
        "id": "7a8b31ea"
      },
      "source": [
        "**Answer:**\n",
        "- **Covariance** tells whether advertising spend and sales move in the same direction.  \n",
        "- **Correlation** tells the strength and direction of the relationship. A high positive correlation means more spending is associated with higher sales."
      ]
    },
    {
      "cell_type": "code",
      "execution_count": 3,
      "id": "56b56be1",
      "metadata": {
        "colab": {
          "base_uri": "https://localhost:8080/"
        },
        "id": "56b56be1",
        "outputId": "5708e697-4ef5-4ce2-a036-191c0c148c50"
      },
      "outputs": [
        {
          "output_type": "stream",
          "name": "stdout",
          "text": [
            "Correlation between Advertising Spend and Sales: 0.9935824101653329\n"
          ]
        }
      ],
      "source": [
        "\n",
        "advertising_spend = [200, 250, 300, 400, 500]\n",
        "daily_sales = [2200, 2450, 2750, 3200, 4000]\n",
        "\n",
        "correlation = np.corrcoef(advertising_spend, daily_sales)[0, 1]\n",
        "\n",
        "print(\"Correlation between Advertising Spend and Sales:\", correlation)\n"
      ]
    },
    {
      "cell_type": "markdown",
      "id": "fa81228f",
      "metadata": {
        "id": "fa81228f"
      },
      "source": [
        "### Question 9\n",
        "Your team has collected customer satisfaction survey data on a scale of 1-10 and wants to understand its distribution before launching a new product.\n",
        "Survey scores = [7, 8, 5, 9, 6, 7, 8, 9, 10, 4, 7, 6, 9, 8, 7]"
      ]
    },
    {
      "cell_type": "markdown",
      "id": "321d0496",
      "metadata": {
        "id": "321d0496"
      },
      "source": [
        "**Answer:**\n",
        "- **Summary statistics:** Mean, Median, Standard Deviation, Range.  \n",
        "- **Visualizations:** Histogram and Boxplot to understand distribution and outliers."
      ]
    },
    {
      "cell_type": "code",
      "execution_count": 4,
      "id": "385566e0",
      "metadata": {
        "colab": {
          "base_uri": "https://localhost:8080/",
          "height": 472
        },
        "id": "385566e0",
        "outputId": "6c4e8cd7-da58-4862-c59a-2b9e82801bee"
      },
      "outputs": [
        {
          "output_type": "display_data",
          "data": {
            "text/plain": [
              "<Figure size 640x480 with 1 Axes>"
            ],
            "image/png": "[encoded data removed]"
          },
          "metadata": {}
        }
      ],
      "source": [
        "\n",
        "survey_scores = [7, 8, 5, 9, 6, 7, 8, 9, 10, 4, 7, 6, 9, 8, 7]\n",
        "\n",
        "plt.hist(survey_scores, bins=6, edgecolor='black')\n",
        "plt.title(\"Histogram of Survey Scores\")\n",
        "plt.xlabel(\"Score\")\n",
        "plt.ylabel(\"Frequency\")\n",
        "plt.show()\n"
      ]
    },
    {
      "cell_type": "markdown",
      "id": "efdc6b03",
      "metadata": {
        "id": "efdc6b03"
      },
      "source": [
        "**Explanation:** The histogram shows most scores are clustered around 7–9, meaning overall customer satisfaction is high."
      ]
    }
  ],
  "metadata": {
    "colab": {
      "provenance": []
    },
    "language_info": {
      "name": "python"
    },
    "kernelspec": {
      "name": "python3",
      "display_name": "Python 3"
    }
  },
  "nbformat": 4,
  "nbformat_minor": 5
}